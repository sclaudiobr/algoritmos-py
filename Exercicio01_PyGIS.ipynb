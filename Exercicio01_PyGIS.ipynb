{
  "nbformat": 4,
  "nbformat_minor": 0,
  "metadata": {
    "colab": {
      "name": "Exercicio01.ipynb",
      "provenance": [],
      "collapsed_sections": [],
      "include_colab_link": true
    },
    "kernelspec": {
      "name": "python3",
      "display_name": "Python 3"
    }
  },
  "cells": [
    {
      "cell_type": "markdown",
      "metadata": {
        "id": "view-in-github",
        "colab_type": "text"
      },
      "source": [
        "<a href=\"https://colab.research.google.com/github/sclaudiobr/algoritmos-py/blob/master/Exercicio01_PyGIS.ipynb\" target=\"_parent\"><img src=\"https://colab.research.google.com/assets/colab-badge.svg\" alt=\"Open In Colab\"/></a>"
      ]
    },
    {
      "cell_type": "code",
      "metadata": {
        "id": "Fj-RU7gZbBrZ",
        "colab_type": "code",
        "colab": {}
      },
      "source": [
        "import shapely as shp\n",
        "from shapely.geometry import Point, LineString, Polygon"
      ],
      "execution_count": 0,
      "outputs": []
    },
    {
      "cell_type": "code",
      "metadata": {
        "id": "A_1-NvWmbDKx",
        "colab_type": "code",
        "colab": {
          "base_uri": "https://localhost:8080/",
          "height": 33
        },
        "outputId": "4abfafe0-897c-4ba5-8d60-fdebfd486bfb"
      },
      "source": [
        "pt1, pt2, pt3, pt4 = Point(2,2), Point(2,3), Point(4,3), Point(4,2)\n",
        "print(pt1, pt2, pt3, pt4)"
      ],
      "execution_count": 5,
      "outputs": [
        {
          "output_type": "stream",
          "text": [
            "POINT (2 2) POINT (2 3) POINT (4 3) POINT (4 2)\n"
          ],
          "name": "stdout"
        }
      ]
    },
    {
      "cell_type": "code",
      "metadata": {
        "id": "Gk0Ztli-bIDq",
        "colab_type": "code",
        "colab": {
          "base_uri": "https://localhost:8080/",
          "height": 33
        },
        "outputId": "f7f2bf1d-fdf8-430f-8831-bc6fdd96ddb8"
      },
      "source": [
        "line = shp.geometry.LineString([pt1,pt2,pt3, pt4])\n",
        "print(line)"
      ],
      "execution_count": 8,
      "outputs": [
        {
          "output_type": "stream",
          "text": [
            "LINESTRING (2 2, 2 3, 4 3, 4 2)\n"
          ],
          "name": "stdout"
        }
      ]
    },
    {
      "cell_type": "code",
      "metadata": {
        "id": "Ie3nFzJjbsq2",
        "colab_type": "code",
        "colab": {
          "base_uri": "https://localhost:8080/",
          "height": 33
        },
        "outputId": "057bc012-ea1f-426d-aee9-e28efbc14760"
      },
      "source": [
        "line.centroid\n",
        "print(line.centroid)"
      ],
      "execution_count": 10,
      "outputs": [
        {
          "output_type": "stream",
          "text": [
            "POINT (3 2.75)\n"
          ],
          "name": "stdout"
        }
      ]
    },
    {
      "cell_type": "code",
      "metadata": {
        "id": "58A4L62ub4Iq",
        "colab_type": "code",
        "colab": {
          "base_uri": "https://localhost:8080/",
          "height": 33
        },
        "outputId": "776d9aef-c010-4cb4-ffb1-7d234de44ec8"
      },
      "source": [
        "print(\"Comprimento da linha: {0:.2f}\".format(line.length))"
      ],
      "execution_count": 11,
      "outputs": [
        {
          "output_type": "stream",
          "text": [
            "Comprimento da linha: 4.00\n"
          ],
          "name": "stdout"
        }
      ]
    },
    {
      "cell_type": "code",
      "metadata": {
        "id": "zaWYOLcTcJys",
        "colab_type": "code",
        "colab": {}
      },
      "source": [
        "pol2 = Polygon([[p.x, p.y] for p in [pt1, pt2, pt3, pt4]])"
      ],
      "execution_count": 0,
      "outputs": []
    },
    {
      "cell_type": "code",
      "metadata": {
        "id": "Ah6_87tdcO9k",
        "colab_type": "code",
        "colab": {
          "base_uri": "https://localhost:8080/",
          "height": 50
        },
        "outputId": "d0e1f305-c00e-4288-e738-d0daa85515d6"
      },
      "source": [
        "print(pol2.area)\n",
        "print(pol2.centroid)"
      ],
      "execution_count": 17,
      "outputs": [
        {
          "output_type": "stream",
          "text": [
            "2.0\n",
            "POINT (3 2.5)\n"
          ],
          "name": "stdout"
        }
      ]
    },
    {
      "cell_type": "code",
      "metadata": {
        "id": "UwkCLUzecThe",
        "colab_type": "code",
        "colab": {}
      },
      "source": [
        ""
      ],
      "execution_count": 0,
      "outputs": []
    }
  ]
}