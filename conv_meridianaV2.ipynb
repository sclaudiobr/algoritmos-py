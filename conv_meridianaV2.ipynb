{
  "nbformat": 4,
  "nbformat_minor": 0,
  "metadata": {
    "colab": {
      "name": "conv_meridianaV2.ipynb",
      "version": "0.3.2",
      "provenance": [],
      "include_colab_link": true
    },
    "language_info": {
      "codemirror_mode": {
        "name": "ipython",
        "version": 3
      },
      "file_extension": ".py",
      "mimetype": "text/x-python",
      "name": "python",
      "nbconvert_exporter": "python",
      "pygments_lexer": "ipython3",
      "version": "3.6.8"
    },
    "kernelspec": {
      "display_name": "Python 3",
      "language": "python",
      "name": "python3"
    }
  },
  "cells": [
    {
      "cell_type": "markdown",
      "metadata": {
        "id": "view-in-github",
        "colab_type": "text"
      },
      "source": [
        "<a href=\"https://colab.research.google.com/github/sclaudiobr/algoritmos-py/blob/master/conv_meridianaV2.ipynb\" target=\"_parent\"><img src=\"https://colab.research.google.com/assets/colab-badge.svg\" alt=\"Open In Colab\"/></a>"
      ]
    },
    {
      "cell_type": "code",
      "metadata": {
        "id": "YdVS66XuYlqj",
        "colab_type": "code",
        "colab": {
          "base_uri": "https://localhost:8080/",
          "height": 323
        },
        "outputId": "d67ad1b8-c7c4-4af2-81df-a9969354a671"
      },
      "source": [
        "import numpy as np\n",
        "import math as mt\n",
        "# Caso escolha 1 entra valores da base, caso 2 valores do ponto enquanto escolher calcular novo\n",
        "print(\"-=\"*5,\" CONVERSÃO PARA COORDENADAS CARTESIANAS\",\" -=\"*5)\n",
        "print()\n",
        "print(\"--\"*5,\"BASE (Altera no código)\",\"-=\"*5)\n",
        "# ALTERE OS DADOS DA BASE AQUI !!!\n",
        "lat = float(-29.72016974) # <---- lat da base (Grau decimal)\n",
        "long = float(-53.8624448) # <---- long da base (Grau decimal)\n",
        "b11 = float(3269328.63996) # <----- X da base \n",
        "b21 = float(-4477201.32452)# <----- Y da base\n",
        "b31 = float(-3143535.63152)# <----- Z da base\n",
        "print(f'Latitude: {lat} / Longitude:{long}')\n",
        "print(\"Coord. X da base: \",b11)\n",
        "print(\"Coord. Y da base: \",b21)\n",
        "print(\"Coord. Z da base: \",b31)\n",
        "print()\n",
        "print(\"--\"*5,\"PONTO (Insere dados)\",\"-=\"*5)\n",
        "b12 = float(input(\"Digite a coordenada  X do Ponto (3269228.037534):\")) # coordenada X do ponto\n",
        "b22 = float(input(\"Digite a coordenada  Y do ponto (-4477297.196369):\")) # coordenada Y do ponto\n",
        "b32 = float(input(\"Digite a coordenada Z do Ponto (-3143500.393682): \")) # coordenda Z do ponto\n",
        "\n",
        "# ------ EQUAÇÃO ---------------\n",
        "a11 = float((-1)*mt.sin(mt.radians(long)))\n",
        "a12 = float(mt.cos(mt.radians(long)))\n",
        "a13 = float(0)\n",
        "a21 = float((-1*(mt.sin(mt.radians(lat))))*mt.cos(mt.radians(long)))\n",
        "a22 = float(((-1)*mt.sin(mt.radians(lat)))*mt.sin(mt.radians(long)))\n",
        "a23 = float(mt.cos(mt.radians(lat)))\n",
        "a31 = float(mt.cos(mt.radians(lat))*mt.cos(mt.radians(long)))\n",
        "a32 = float(mt.cos(mt.radians(lat))*mt.sin(mt.radians(long)))\n",
        "a33 = float(mt.sin(mt.radians(lat)))\n",
        "# Tabela de Distâncias entre a estação e os pontos E(x,y)\n",
        "\n",
        "A=np.array([\n",
        "    [a11,a12,a13],\n",
        "    [a21,a22,a23],\n",
        "    [a31,a32,a33],\n",
        "])\n",
        "B=np.array([\n",
        "    [b11,b12],\n",
        "    [b21,b22],\n",
        "    [b31,b32],\n",
        "])\n",
        "C=np.array([\n",
        "    [0.00000],\n",
        "    [0.00000],\n",
        "    [0.00000],\n",
        "])\n",
        "D=np.array([\n",
        "    [0.00000],\n",
        "    [0.00000],\n",
        "    [0.00000],\n",
        "    ])\n",
        "for i in range(len(B)):\n",
        "    for j in range(len(B[0])):\n",
        "        C[i][0] = B[i][0]-B[i][1]\n",
        "\n",
        "print()\n",
        "print(\"-=\"*5,\"RESULTADO\",\"=-\"*5)\n",
        "\n",
        "for i in range (len(A)):\n",
        "    for j in range(len(C[0])):\n",
        "        for k in range(len(C)):\n",
        "            D[i][j] += A[i][k]*C[k][j]\n",
        "print(D)"
      ],
      "execution_count": 1,
      "outputs": [
        {
          "output_type": "stream",
          "text": [
            "-=-=-=-=-=  CONVERSÃO DE COORDENADAS GG -->> CARTESIANA  -= -= -= -= -=\n",
            "\n",
            "---------- BASE (Altera no código) -=-=-=-=-=\n",
            "Latitude: -29.72016974 / Longitude:-53.8624448\n",
            "Coord. X da base:  3269328.63996\n",
            "Coord. Y da base:  -4477201.32452\n",
            "Coord. Z da base:  -3143535.63152\n",
            "\n",
            "---------- PONTO (Insere dados) -=-=-=-=-=\n",
            "Digite a coordenada  X do Ponto (3269228.037534):3269228.037534\n",
            "Digite a coordenada  Y do ponto (-4477297.196369):-4477297.196369\n",
            "Digite a coordenada Z do Ponto (-3143500.393682): -3143500.393682\n",
            "\n",
            "-=-=-=-=-= RESULTADO =-=-=-=-=-\n",
            "[[137.78497924]\n",
            " [-39.57518679]\n",
            " [  1.75181636]]\n"
          ],
          "name": "stdout"
        }
      ]
    },
    {
      "cell_type": "code",
      "metadata": {
        "id": "RzaqmTaJYlqw",
        "colab_type": "code",
        "colab": {}
      },
      "source": [
        ""
      ],
      "execution_count": 0,
      "outputs": []
    }
  ]
}
