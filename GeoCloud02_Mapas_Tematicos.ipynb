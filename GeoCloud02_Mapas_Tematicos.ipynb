{
  "nbformat": 4,
  "nbformat_minor": 0,
  "metadata": {
    "colab": {
      "name": "GeoCloud02 - Mapas Tematicos.ipynb",
      "provenance": [],
      "collapsed_sections": [],
      "authorship_tag": "ABX9TyMTYGEJ5VL9jcHl6CwAS5fs",
      "include_colab_link": true
    },
    "kernelspec": {
      "name": "python3",
      "display_name": "Python 3"
    }
  },
  "cells": [
    {
      "cell_type": "markdown",
      "metadata": {
        "id": "view-in-github",
        "colab_type": "text"
      },
      "source": [
        "<a href=\"https://colab.research.google.com/github/sclaudiobr/algoritmos-py/blob/master/GeoCloud02_Mapas_Tematicos.ipynb\" target=\"_parent\"><img src=\"https://colab.research.google.com/assets/colab-badge.svg\" alt=\"Open In Colab\"/></a>"
      ]
    },
    {
      "cell_type": "markdown",
      "metadata": {
        "id": "Cz5XZv8idN2R"
      },
      "source": [
        "GeoCloud 01 - Download de dados Temáticos do IBGE\n",
        "\n",
        "Neste algoritmo vamos aplicar uma ferramenta para selecionar uma área correspondente a abrangência dos limites de um município da base de dados do IBGE, através das biblioteca [geoBR](https://pypi.org/project/geobr/), recortar o quadrante sobre os dados temáticos disponíveis nos geoserver do IBGE, através da biblioteca [WFs](https://inde.gov.br/). O processo se incia com a configuração do ambiente e importação dos dados, seleção da área de estudo, tema e exportação do conjunto gerado para uma pasta zipada. \n",
        "\n",
        "<hr>\n",
        "@ autor Claudio Roberto Oliveira da Silva \n",
        "<p>MSc. Modelagem Computacional, Eng. Civil - COPPE/UFRJ<p>\n",
        "<p> Tecnólogo de Geoprocessamento, Cursando - UFSM<p>\n",
        "<p> email: <a href= \"mailto:claumao@gmail.com\"> claumao@gmail.com</a>\n",
        "<p>\n",
        "Repositório: <a href=\"https://github.com/sclaudiobr/\"> GitHub</a>"
      ]
    },
    {
      "cell_type": "code",
      "metadata": {
        "id": "HnqY3fm2aDUO"
      },
      "source": [
        "!pip install geobr # Base de dados do IBGE, Malahas municipais, biomas, microrregiões, sedes\n",
        "!pip install shapely # conversor e leitor de arquivos shp \n",
        "!pip install OWSLib # Acesso ao banco de dados WFS/WMS/OWS\n",
        "!pip install pygeos # Biblioteca de apoio ao Geopandas\n",
        "#------ Importa bibliotecas --------\n",
        "import numpy as np\n",
        "import geobr as br\n",
        "import geopandas as gpd\n",
        "import os\n",
        "import owslib.wfs as ows\n",
        "from owslib.wfs import WebFeatureService\n",
        "from shapely.geometry import box\n",
        "import zipfile\n",
        "# --- cria diretório\n",
        "!mkdir shp/"
      ],
      "execution_count": null,
      "outputs": []
    },
    {
      "cell_type": "code",
      "metadata": {
        "id": "r_BWdUgPU-Bu"
      },
      "source": [
        "### ---- FUNÇÃO BAIXAR DADOS -----------------------------\n",
        "def gera_dados(uf,mun,id):\n",
        "   df = br.read_municipality(code_muni=uf)\n",
        "   df = df[df.name_muni==mun]\n",
        "   #df.to_file('sm.geojson', driver='GeoJSON')\n",
        "   dfbox = box(*df.total_bounds).bounds\n",
        "   latitude,longitude = np.array(dfbox)[1],np.array(dfbox)[2]\n",
        "   wfs_url = 'https://geoservicos.ibge.gov.br/geoserver/wfs'\n",
        "   # Conectando ao serviço do GeoServer WFS.\n",
        "   wfs = WebFeatureService(wfs_url, version='2.0.0')\n",
        "   data = wfs.getfeature(typename=id, bbox=dfbox, outputFormat='JSON')\n",
        "   fn = 'df.geojson'\n",
        "   with open(fn, 'wb') as fh:\n",
        "      fh.write(data.read())\n",
        "   layers = gpd.read_file(fn)\n",
        "   recorte = gpd.clip(layers, df,keep_geom_type=False)\n",
        "   recorte.to_file('shp/df.shp', driver='ESRI Shapefile')\n",
        "\n",
        "# ----- FUNÇÃO COMPACTA PASTAS\n",
        "def zip(src, dst):\n",
        "    zf = zipfile.ZipFile(\"%s.zip\" % (dst), \"w\", zipfile.ZIP_DEFLATED)\n",
        "    abs_src = os.path.abspath(src)\n",
        "    for dirname, subdirs, files in os.walk(src):\n",
        "        for filename in files:\n",
        "            absname = os.path.abspath(os.path.join(dirname, filename))\n",
        "            arcname = absname[len(abs_src) + 1:]\n",
        "            print('zipping %s as %s' % (os.path.join(dirname, filename), arcname))\n",
        "            zf.write(absname, arcname)\n",
        "    zf.close()\n",
        "\n",
        "# Identficadores\n",
        "geo = 'CREN:Geologia_area_Brasil'\n",
        "geom = 'CREN:brasil_geom_area'\n",
        "ped = 'CREN:Pedologia_area_Brasil'\n",
        "veg = 'CREN:vegetacao_area_brasil'\n",
        "\n",
        "#### TROCA OS DADOS AQUI ########################\n",
        "UF = 'RS'                       # <---- Estado aqui\n",
        "mun = \"Sant'ana Do Livramento\"  #<--- Municipio Aqui (nome com acentuação)\n",
        "camada = veg                    # <-- Camada de dados id (veg,geo,geom,ped)\n",
        "nome_do_zip = 'vegetacao'       # <-  (nome sem acento)\n",
        "#############################################\n",
        "gera_dados(UF,mun,camada)\n",
        "zip(\"projeto\",nome_do_zip)\n",
        "\n",
        "# Plotando o mapa\n",
        "gdf =gpd.read_file('shp/df.shp')\n",
        "gdf.plot(figsize=(10,10), alpha=0.5, edgecolor='k', cmap=\"jet\",column='legenda', legend=True)"
      ],
      "execution_count": null,
      "outputs": []
    }
  ]
}