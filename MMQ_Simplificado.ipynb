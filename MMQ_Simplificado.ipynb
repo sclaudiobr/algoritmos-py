{
  "nbformat": 4,
  "nbformat_minor": 0,
  "metadata": {
    "colab": {
      "name": "MMQ_Simplificado.ipynb",
      "provenance": [],
      "authorship_tag": "ABX9TyNo3LchLpf5ej2F33fxHuZl",
      "include_colab_link": true
    },
    "kernelspec": {
      "name": "python3",
      "display_name": "Python 3"
    }
  },
  "cells": [
    {
      "cell_type": "markdown",
      "metadata": {
        "id": "view-in-github",
        "colab_type": "text"
      },
      "source": [
        "<a href=\"https://colab.research.google.com/github/sclaudiobr/algoritmos-py/blob/master/MMQ_Simplificado.ipynb\" target=\"_parent\"><img src=\"https://colab.research.google.com/assets/colab-badge.svg\" alt=\"Open In Colab\"/></a>"
      ]
    },
    {
      "cell_type": "code",
      "metadata": {
        "id": "ZrevHS4Skobr",
        "colab_type": "code",
        "colab": {}
      },
      "source": [
        "import numpy as np"
      ],
      "execution_count": 0,
      "outputs": []
    },
    {
      "cell_type": "code",
      "metadata": {
        "id": "cOFpak36lHtb",
        "colab_type": "code",
        "colab": {}
      },
      "source": [
        "t = np.array([[-20,1],[10,1],[70,1]])\n",
        "c = np.array([[0.128],[0.133],[0.144]])"
      ],
      "execution_count": 0,
      "outputs": []
    },
    {
      "cell_type": "code",
      "metadata": {
        "id": "83yHDybplSqB",
        "colab_type": "code",
        "colab": {}
      },
      "source": [
        "# 1º passo - Determinar o valor de Teta\n",
        "def fTheta(t,c):\n",
        "  theta = t.transpose().dot(t)\n",
        "  return theta\n",
        "theta = fTheta(t,t) "
      ],
      "execution_count": 0,
      "outputs": []
    },
    {
      "cell_type": "code",
      "metadata": {
        "id": "ZkC-9_MJleSb",
        "colab_type": "code",
        "colab": {}
      },
      "source": [
        "# 2º passo - Calcular a inversa de Theta\n",
        "itheta = np.linalg.inv(theta)"
      ],
      "execution_count": 0,
      "outputs": []
    },
    {
      "cell_type": "code",
      "metadata": {
        "id": "wptD9NOdwead",
        "colab_type": "code",
        "colab": {}
      },
      "source": [
        "# 3º passo -  Multiplicar a inversa de theta (itheta) pela trasnposta de theta (itheta x theta transposta)\n",
        "eitheta = itheta.dot(t.transpose())"
      ],
      "execution_count": 0,
      "outputs": []
    },
    {
      "cell_type": "code",
      "metadata": {
        "id": "TnS6EcVLMoah",
        "colab_type": "code",
        "colab": {
          "base_uri": "https://localhost:8080/",
          "height": 50
        },
        "outputId": "f560d9b0-2070-4c72-d1a1-798c9799e050"
      },
      "source": [
        "# 4º localizando os coeficitentes\n",
        "eitheta.dot(c)"
      ],
      "execution_count": 47,
      "outputs": [
        {
          "output_type": "execute_result",
          "data": {
            "text/plain": [
              "array([[0.00017857],\n",
              "       [0.13142857]])"
            ]
          },
          "metadata": {
            "tags": []
          },
          "execution_count": 47
        }
      ]
    },
    {
      "cell_type": "code",
      "metadata": {
        "id": "m8cRi0wHM1JZ",
        "colab_type": "code",
        "colab": {
          "base_uri": "https://localhost:8080/",
          "height": 50
        },
        "outputId": "0e3165a1-4f52-4969-a54a-666db67788ff"
      },
      "source": [
        "# Tudo Junto\n",
        "def fMmq(t,c):\n",
        "  theta = (np.linalg.inv((t.transpose().dot(t)))).dot(t.transpose()).dot(c)\n",
        "  return theta\n",
        "print(fMmq(t,c))"
      ],
      "execution_count": 60,
      "outputs": [
        {
          "output_type": "stream",
          "text": [
            "[[0.00017857]\n",
            " [0.13142857]]\n"
          ],
          "name": "stdout"
        }
      ]
    },
    {
      "cell_type": "code",
      "metadata": {
        "id": "wS9kEjvVO5Cf",
        "colab_type": "code",
        "colab": {}
      },
      "source": [
        "# outros dados - teste da função\n",
        "x = np.array([[1,1],[2,1],[3,1],[4,1],[5,1],[6,1]])\n",
        "y = np.array([[80.5],[81.6],[82.1],[83.7],[83.9],[85]])"
      ],
      "execution_count": 0,
      "outputs": []
    },
    {
      "cell_type": "code",
      "metadata": {
        "id": "r5F-rTJjPfUn",
        "colab_type": "code",
        "colab": {
          "base_uri": "https://localhost:8080/",
          "height": 50
        },
        "outputId": "fdb35761-b8e9-44c4-8300-b5be8520c699"
      },
      "source": [
        "print(fMmq(x,y))"
      ],
      "execution_count": 79,
      "outputs": [
        {
          "output_type": "stream",
          "text": [
            "[[ 0.88571429]\n",
            " [79.7       ]]\n"
          ],
          "name": "stdout"
        }
      ]
    }
  ]
}