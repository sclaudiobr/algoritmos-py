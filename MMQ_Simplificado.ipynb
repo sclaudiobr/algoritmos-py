{
  "nbformat": 4,
  "nbformat_minor": 0,
  "metadata": {
    "colab": {
      "name": "MMQ_Simplificado.ipynb",
      "provenance": [],
      "collapsed_sections": [],
      "authorship_tag": "ABX9TyM+ZTdMP8Fbt5HH3dQmsGz6",
      "include_colab_link": true
    },
    "kernelspec": {
      "name": "python3",
      "display_name": "Python 3"
    }
  },
  "cells": [
    {
      "cell_type": "markdown",
      "metadata": {
        "id": "view-in-github",
        "colab_type": "text"
      },
      "source": [
        "<a href=\"https://colab.research.google.com/github/sclaudiobr/algoritmos-py/blob/master/MMQ_Simplificado.ipynb\" target=\"_parent\"><img src=\"https://colab.research.google.com/assets/colab-badge.svg\" alt=\"Open In Colab\"/></a>"
      ]
    },
    {
      "cell_type": "code",
      "metadata": {
        "id": "ZrevHS4Skobr",
        "colab_type": "code",
        "colab": {}
      },
      "source": [
        "import numpy as np"
      ],
      "execution_count": 0,
      "outputs": []
    },
    {
      "cell_type": "code",
      "metadata": {
        "id": "cOFpak36lHtb",
        "colab_type": "code",
        "colab": {
          "base_uri": "https://localhost:8080/",
          "height": 133
        },
        "outputId": "5613409c-fb3e-4fe0-8892-c99050e756ff"
      },
      "source": [
        "# Matrizes de entrada\n",
        "t = np.array([[-20,1],[10,1],[70,1]])\n",
        "c = np.array([[0.128],[0.133],[0.144]])\n",
        "print(t)\n",
        "print('--'*5)\n",
        "print(c)"
      ],
      "execution_count": 94,
      "outputs": [
        {
          "output_type": "stream",
          "text": [
            "[[-20   1]\n",
            " [ 10   1]\n",
            " [ 70   1]]\n",
            "----------\n",
            "[[0.128]\n",
            " [0.133]\n",
            " [0.144]]\n"
          ],
          "name": "stdout"
        }
      ]
    },
    {
      "cell_type": "code",
      "metadata": {
        "id": "83yHDybplSqB",
        "colab_type": "code",
        "colab": {
          "base_uri": "https://localhost:8080/",
          "height": 50
        },
        "outputId": "c3c2dd87-99ba-4a52-e818-7fcb8660d551"
      },
      "source": [
        "# 1º passo - Determinar o valor de Theta multiplicando a transposta de t por t\n",
        "theta = t.transpose().dot(t)\n",
        "theta"
      ],
      "execution_count": 97,
      "outputs": [
        {
          "output_type": "execute_result",
          "data": {
            "text/plain": [
              "array([[5400,   60],\n",
              "       [  60,    3]])"
            ]
          },
          "metadata": {
            "tags": []
          },
          "execution_count": 97
        }
      ]
    },
    {
      "cell_type": "code",
      "metadata": {
        "id": "ZkC-9_MJleSb",
        "colab_type": "code",
        "colab": {
          "base_uri": "https://localhost:8080/",
          "height": 50
        },
        "outputId": "35652af5-4508-4918-d631-d954ab1d159a"
      },
      "source": [
        "# 2º passo - Calcular a inversa de Theta\n",
        "itheta = np.linalg.inv(theta)\n",
        "itheta"
      ],
      "execution_count": 99,
      "outputs": [
        {
          "output_type": "execute_result",
          "data": {
            "text/plain": [
              "array([[ 2.38095238e-04, -4.76190476e-03],\n",
              "       [-4.76190476e-03,  4.28571429e-01]])"
            ]
          },
          "metadata": {
            "tags": []
          },
          "execution_count": 99
        }
      ]
    },
    {
      "cell_type": "code",
      "metadata": {
        "id": "wptD9NOdwead",
        "colab_type": "code",
        "colab": {
          "base_uri": "https://localhost:8080/",
          "height": 50
        },
        "outputId": "9ce86822-929c-45da-ae9f-8f6d0ba50cd5"
      },
      "source": [
        "# 3º passo -  Multiplicar a inversa de theta (itheta) pela trasnposta de theta (itheta x theta transposta)\n",
        "eitheta = itheta.dot(t.transpose())\n",
        "eitheta"
      ],
      "execution_count": 100,
      "outputs": [
        {
          "output_type": "execute_result",
          "data": {
            "text/plain": [
              "array([[-0.00952381, -0.00238095,  0.01190476],\n",
              "       [ 0.52380952,  0.38095238,  0.0952381 ]])"
            ]
          },
          "metadata": {
            "tags": []
          },
          "execution_count": 100
        }
      ]
    },
    {
      "cell_type": "code",
      "metadata": {
        "id": "TnS6EcVLMoah",
        "colab_type": "code",
        "colab": {
          "base_uri": "https://localhost:8080/",
          "height": 50
        },
        "outputId": "72a98e95-2ac4-42cc-af51-33c97a0bb72f"
      },
      "source": [
        "# 4º localizando os coeficitentes A e B\n",
        "coeficientes = eitheta.dot(c)\n",
        "coeficientes"
      ],
      "execution_count": 81,
      "outputs": [
        {
          "output_type": "execute_result",
          "data": {
            "text/plain": [
              "array([[0.00017857],\n",
              "       [0.13142857]])"
            ]
          },
          "metadata": {
            "tags": []
          },
          "execution_count": 81
        }
      ]
    },
    {
      "cell_type": "code",
      "metadata": {
        "id": "MClC8OHQWRn9",
        "colab_type": "code",
        "colab": {
          "base_uri": "https://localhost:8080/",
          "height": 50
        },
        "outputId": "3096525b-0b35-4e44-dcb7-b45c68c6a572"
      },
      "source": [
        "print('Coeficiente angular (A)',coeficientes[0,0])\n",
        "print('Constante da Reta (B)',coeficientes[1,0])"
      ],
      "execution_count": 91,
      "outputs": [
        {
          "output_type": "stream",
          "text": [
            "Coeficiente angular (A) 0.00017857142857142833\n",
            "Constante da Reta (B) 0.13142857142857142\n"
          ],
          "name": "stdout"
        }
      ]
    },
    {
      "cell_type": "code",
      "metadata": {
        "id": "m8cRi0wHM1JZ",
        "colab_type": "code",
        "colab": {}
      },
      "source": [
        "# Tudo Junto ( os 4 passos em uma só função)\n",
        "def fMmq(t,c):\n",
        "  coef = (np.linalg.inv((t.transpose().dot(t)))).dot(t.transpose()).dot(c)\n",
        "  return coef"
      ],
      "execution_count": 0,
      "outputs": []
    },
    {
      "cell_type": "code",
      "metadata": {
        "id": "1qbYQdoGV02F",
        "colab_type": "code",
        "colab": {
          "base_uri": "https://localhost:8080/",
          "height": 50
        },
        "outputId": "406dce4c-d40e-4ed7-d870-bf5d235a1b2c"
      },
      "source": [
        "# Saída\n",
        "print(fMmq(t,c))"
      ],
      "execution_count": 106,
      "outputs": [
        {
          "output_type": "stream",
          "text": [
            "[[0.00017857]\n",
            " [0.13142857]]\n"
          ],
          "name": "stdout"
        }
      ]
    },
    {
      "cell_type": "code",
      "metadata": {
        "id": "wS9kEjvVO5Cf",
        "colab_type": "code",
        "colab": {}
      },
      "source": [
        "# outros dados - teste da função\n",
        "x = np.array([[1,1],[2,1],[3,1],[4,1],[5,1],[6,1]])\n",
        "y = np.array([[80.5],[81.6],[82.1],[83.7],[83.9],[85]])"
      ],
      "execution_count": 0,
      "outputs": []
    },
    {
      "cell_type": "code",
      "metadata": {
        "id": "r5F-rTJjPfUn",
        "colab_type": "code",
        "colab": {
          "base_uri": "https://localhost:8080/",
          "height": 50
        },
        "outputId": "e8e2ccde-45da-4f57-d265-7147bfe25f8f"
      },
      "source": [
        "print(fMmq(x,y))"
      ],
      "execution_count": 110,
      "outputs": [
        {
          "output_type": "stream",
          "text": [
            "[[ 0.88571429]\n",
            " [79.7       ]]\n"
          ],
          "name": "stdout"
        }
      ]
    },
    {
      "cell_type": "code",
      "metadata": {
        "id": "rKdoL-uJWGE8",
        "colab_type": "code",
        "colab": {}
      },
      "source": [
        ""
      ],
      "execution_count": 0,
      "outputs": []
    }
  ]
}