{
  "nbformat": 4,
  "nbformat_minor": 0,
  "metadata": {
    "colab": {
      "name": "lista02_Algoritmos.ipynb",
      "provenance": [],
      "collapsed_sections": [],
      "include_colab_link": true
    },
    "language_info": {
      "codemirror_mode": {
        "name": "ipython",
        "version": 3
      },
      "file_extension": ".py",
      "mimetype": "text/x-python",
      "name": "python",
      "nbconvert_exporter": "python",
      "pygments_lexer": "ipython3",
      "version": "3.6.7"
    },
    "kernelspec": {
      "display_name": "Python 3",
      "language": "python",
      "name": "python3"
    }
  },
  "cells": [
    {
      "cell_type": "markdown",
      "metadata": {
        "id": "view-in-github",
        "colab_type": "text"
      },
      "source": [
        "<a href=\"https://colab.research.google.com/github/sclaudiobr/algoritmos-py/blob/master/lista02_Algoritmos.ipynb\" target=\"_parent\"><img src=\"https://colab.research.google.com/assets/colab-badge.svg\" alt=\"Open In Colab\"/></a>"
      ]
    },
    {
      "cell_type": "markdown",
      "metadata": {
        "id": "2ATwUAOBxOGo",
        "colab_type": "text"
      },
      "source": [
        "<h>1. Escreva um algoritmo que leia dois números que deverão ser armazenados,\n",
        "respectivamente, nas variáveis VA e VB. O algoritmo deve, então, trocar os valores de VA\n",
        "por VB e vice-versa e mostrar o conteúdo destas variáveis, ou seja, como mostra abaixo:</h>"
      ]
    },
    {
      "cell_type": "code",
      "metadata": {
        "id": "oN2xrIb1xOGr",
        "colab_type": "code",
        "outputId": "e27908ec-7a96-4bce-e5e2-3f38bec2ffc9",
        "colab": {
          "base_uri": "https://localhost:8080/",
          "height": 89
        }
      },
      "source": [
        "# -- Entrada do valores\n",
        "a =input(\"Digite um valor para A: \")\n",
        "b =input(\"Digite um valor pra B: \")\n",
        "\n",
        "# -- Começa a troca de valores entre as variáveis\n",
        "c=b # armazena o valor de b em c\n",
        "b=a # armazena o valor de b em a\n",
        "a=c # devolve o valor de b armazenando em c para a\n",
        "\n",
        "# -- Imprime resultados\n",
        "print(\"Valor de A: \", a)\n",
        "print(\"Valor de B: \", b)"
      ],
      "execution_count": 0,
      "outputs": [
        {
          "output_type": "stream",
          "text": [
            "Digite um valor para A: 2\n",
            "Digite um valor pra B: 3\n",
            "Valor de A:  3\n",
            "Valor de B:  2\n"
          ],
          "name": "stdout"
        }
      ]
    },
    {
      "cell_type": "markdown",
      "metadata": {
        "id": "hZm0rl96xOG2",
        "colab_type": "text"
      },
      "source": [
        "<h> 2. Faça um algoritmo que receba um valor que representa o valor recebido, um segundo valor\n",
        "que representa o preço do produto e retorne o troco a ser dado.</h>"
      ]
    },
    {
      "cell_type": "code",
      "metadata": {
        "id": "VlFtvao5xOG3",
        "colab_type": "code",
        "outputId": "54e52629-d7fa-40a2-fa33-5f40b84a7fda",
        "colab": {
          "base_uri": "https://localhost:8080/",
          "height": 71
        }
      },
      "source": [
        "# -- Define função troco\n",
        "def ftroco (rec,val):\n",
        "    R = float(rec) # valor recebido\n",
        "    V = float(val) # valor do produto\n",
        "    T = float(R-V) # troco\n",
        "    return T\n",
        "\n",
        "# -- Entrada dos valores\n",
        "rec = input(\"Digite o valor recebido: \")\n",
        "val = input(\"Digite o valor do produto: \")\n",
        "\n",
        "# -- passa os valores através da função \"ftroco\" junto com impressão, nao armazena\n",
        "print(\"troco\", ftroco(rec,val))"
      ],
      "execution_count": 0,
      "outputs": [
        {
          "output_type": "stream",
          "text": [
            "Digite o valor recebido: 30\n",
            "Digite o valor do produto: 10\n",
            "troco 20.0\n"
          ],
          "name": "stdout"
        }
      ]
    },
    {
      "cell_type": "markdown",
      "metadata": {
        "id": "eGZt4cvlxOG-",
        "colab_type": "text"
      },
      "source": [
        "<h>3. Faça um algoritmo que receba o valor do quilo de um produto e a sua quantidade\n",
        "consumida e no final calcule o valor final a ser pago.</h>"
      ]
    },
    {
      "cell_type": "code",
      "metadata": {
        "id": "tH_ocPhAxOHA",
        "colab_type": "code",
        "outputId": "682dcbca-a1a6-430d-cded-c2104cd3bd68",
        "colab": {
          "base_uri": "https://localhost:8080/",
          "height": 71
        }
      },
      "source": [
        "# Define função valor do produto\n",
        "def fvprod (peso,valor):\n",
        "    p = float(peso)\n",
        "    v = float(valor)\n",
        "    t = p*v # Produto (peso * valor)\n",
        "    return t\n",
        "# -- Entra com os valores\n",
        "peso = input(\"entre com o peso em Kg: \")\n",
        "valor = input(\"entre com o valor em R$: \")\n",
        "# -- Imprime os valores\n",
        "print(\"Valor total é: \",fvprod(peso,valor))"
      ],
      "execution_count": 0,
      "outputs": [
        {
          "output_type": "stream",
          "text": [
            "entre com o peso em Kg: 10\n",
            "entre com o valor em R$: 1\n",
            "Valor total é:  10.0\n"
          ],
          "name": "stdout"
        }
      ]
    },
    {
      "cell_type": "markdown",
      "metadata": {
        "id": "2tpfIlQHxOHG",
        "colab_type": "text"
      },
      "source": [
        "<h> 4. Escreva um algoritmo que leia um número fracionário e mostre seu inteiro."
      ]
    },
    {
      "cell_type": "code",
      "metadata": {
        "id": "gXBFpqV_xOHI",
        "colab_type": "code",
        "outputId": "0b8392fc-7a33-4c79-81ad-8346e693377f",
        "colab": {
          "base_uri": "https://localhost:8080/",
          "height": 53
        }
      },
      "source": [
        "frac = input(\"Digite um numero fracionado: \")\n",
        "inte = int (frac[0]) # pega o valor na posiça 0 do vetor frac e guarda na variáve inte\n",
        "print(\"O numero inteiro é: \",inte)"
      ],
      "execution_count": 0,
      "outputs": [
        {
          "output_type": "stream",
          "text": [
            "Digite um numero fracionado: 2,6\n",
            "O numero inteiro é:  2\n"
          ],
          "name": "stdout"
        }
      ]
    },
    {
      "cell_type": "markdown",
      "metadata": {
        "id": "rhjdhG1HxOHP",
        "colab_type": "text"
      },
      "source": [
        "<h>5. Faça um algoritmo que leia a idade de uma pessoa expressa em anos, meses e dias e\n",
        "mostre-a expressa apenas em dias (considere 1 ano = 365 dias, 1 mês = 30 dias)."
      ]
    },
    {
      "cell_type": "code",
      "metadata": {
        "id": "mGu2oANExOHR",
        "colab_type": "code",
        "outputId": "8ef12332-d03a-46fa-cada-01d1be6852dc",
        "colab": {
          "base_uri": "https://localhost:8080/",
          "height": 89
        }
      },
      "source": [
        "def fidade (anos,mes,dias):\n",
        "    a = int(anos)\n",
        "    m = int(mes)\n",
        "    d = int(dias)\n",
        "    i = int(a*365)+(m*12)+(d)\n",
        "    return i\n",
        "anos = input(\"Quantos anos: \")\n",
        "mes = input(\"Quantos meses: \")\n",
        "dias = input(\"Quantos dias:\")\n",
        "print(\"Você tem\",fidade(anos,mes,dias),\"dias de vida\")"
      ],
      "execution_count": 0,
      "outputs": [
        {
          "output_type": "stream",
          "text": [
            "Quantos anos: 12\n",
            "Quantos meses: 0\n",
            "Quantos dias:2\n",
            "Você tem 4382 dias de vida\n"
          ],
          "name": "stdout"
        }
      ]
    }
  ]
}