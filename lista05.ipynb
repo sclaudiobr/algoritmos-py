{
  "nbformat": 4,
  "nbformat_minor": 0,
  "metadata": {
    "colab": {
      "name": "lista05.ipynb",
      "version": "0.3.2",
      "provenance": [],
      "include_colab_link": true
    },
    "language_info": {
      "codemirror_mode": {
        "name": "ipython",
        "version": 3
      },
      "file_extension": ".py",
      "mimetype": "text/x-python",
      "name": "python",
      "nbconvert_exporter": "python",
      "pygments_lexer": "ipython3",
      "version": "3.6.7"
    },
    "kernelspec": {
      "display_name": "Python 3",
      "language": "python",
      "name": "python3"
    }
  },
  "cells": [
    {
      "cell_type": "markdown",
      "metadata": {
        "id": "view-in-github",
        "colab_type": "text"
      },
      "source": [
        "<a href=\"https://colab.research.google.com/github/sclaudiobr/algoritmos-py/blob/master/lista05.ipynb\" target=\"_parent\"><img src=\"https://colab.research.google.com/assets/colab-badge.svg\" alt=\"Open In Colab\"/></a>"
      ]
    },
    {
      "cell_type": "markdown",
      "metadata": {
        "id": "qZzkN9BQFfyA",
        "colab_type": "raw"
      },
      "source": [
        "Lista 05 - para"
      ]
    },
    {
      "cell_type": "markdown",
      "metadata": {
        "id": "dNLb3ijwFfyC",
        "colab_type": "text"
      },
      "source": [
        "1 – Desenvolver um algoritmo que leia a altura e o sexo (M ou F) de 15 pessoas. Este programa\n",
        "deverá calcular e mostrar:\n",
        "<p>a. A menor altura do grupo;\n",
        "<p>b. A média de altura das mulheres;\n",
        "<p>c. O número de homens;\n",
        "<p>d. O sexo da pessoa mais alta."
      ]
    },
    {
      "cell_type": "code",
      "metadata": {
        "id": "D2RCumqTFfyD",
        "colab_type": "code",
        "colab": {
          "base_uri": "https://localhost:8080/",
          "height": 323
        },
        "outputId": "c6695763-ba15-47a2-b49f-a7bf178bd273"
      },
      "source": [
        "x = 0\n",
        "qtm = 0 #quantidade de mulheres\n",
        "qth = 0 #quantidade de homens\n",
        "qtm = 0 #quantidade de mulheres\n",
        "alt = 0 #altura\n",
        "altm = 0 #altura mulher\n",
        "altm = 0 #altura media\n",
        "maior = 0 #maior altura\n",
        "menor = 0 #menor altura\n",
        "medialtm = 0 #altura media de mulheres\n",
        "\n",
        "for x in range(0,6):\n",
        "    alt = float(input(\"Digite uma altura:\"))\n",
        "    sexo = str(input(\"informe o sexo (M) ou (H)\"))\n",
        "\n",
        "    if alt < menor:\n",
        "        menor = alt\n",
        "\n",
        "    elif alt > maior:\n",
        "        maior = alt\n",
        "        sexomaior = sexo\n",
        "\n",
        "    if sexo == \"M\":\n",
        "        qtm = qtm + 1\n",
        "        altm = altm + alt\n",
        "\n",
        "    elif sexo == \"H\":\n",
        "        qth = qth+1\n",
        "        \n",
        "#Atribui valor de caractere\n",
        "if sexomaior ==  'M':\n",
        "    sexomaior = \"Mulher\"\n",
        "elif sexomaior == \"H\":\n",
        "    sexomaior = \"Homem\"\n",
        "#Média de mulheres\n",
        "medialtm = altm/qtm\n",
        "print(\"menor idade\",menor)\n",
        "print(\"média mulheres\",medialtm)\n",
        "print(\"Quantidade de mulheres\",qtm)\n",
        "print(\"Quantidade de homens\",qth)\n",
        "print(\"Sexo maior é\",sexomaior)"
      ],
      "execution_count": 2,
      "outputs": [
        {
          "output_type": "stream",
          "text": [
            "Digite uma altura:179\n",
            "informe o sexo (M) ou (H)M\n",
            "Digite uma altura:180\n",
            "informe o sexo (M) ou (H)H\n",
            "Digite uma altura:190\n",
            "informe o sexo (M) ou (H)M\n",
            "Digite uma altura:170\n",
            "informe o sexo (M) ou (H)H\n",
            "Digite uma altura:190\n",
            "informe o sexo (M) ou (H)M\n",
            "Digite uma altura:160\n",
            "informe o sexo (M) ou (H)M\n",
            "menor idade 0\n",
            "média mulheres 179.75\n",
            "Quantidade de mulheres 4\n",
            "Quantidade de homens 2\n",
            "Sexo maior é Mulher\n"
          ],
          "name": "stdout"
        }
      ]
    },
    {
      "cell_type": "markdown",
      "metadata": {
        "id": "wZBiMD0MFfyJ",
        "colab_type": "text"
      },
      "source": [
        "2 – Desenvolver um algoritmo que efetue a soma de todos os números ímpares que são\n",
        "múltiplos de três e que se encontram no conjunto dos números de 1 até 500."
      ]
    },
    {
      "cell_type": "code",
      "metadata": {
        "id": "B5HH3FVUFfyL",
        "colab_type": "code",
        "colab": {},
        "outputId": "141f4493-dd63-4bee-a59d-7358dc8680fb"
      },
      "source": [
        "soma = int(0)\n",
        "for a in range(0,500):\n",
        "    if a % 3 == 0:\n",
        "            soma= a+3\n",
        "            if soma% 2 != 0:\n",
        "                print(soma)\n",
        "print(\"fim\")"
      ],
      "execution_count": 0,
      "outputs": [
        {
          "output_type": "stream",
          "text": [
            "3\n",
            "9\n",
            "15\n",
            "21\n",
            "27\n",
            "33\n",
            "39\n",
            "45\n",
            "51\n",
            "57\n",
            "63\n",
            "69\n",
            "75\n",
            "81\n",
            "87\n",
            "93\n",
            "99\n",
            "105\n",
            "111\n",
            "117\n",
            "123\n",
            "129\n",
            "135\n",
            "141\n",
            "147\n",
            "153\n",
            "159\n",
            "165\n",
            "171\n",
            "177\n",
            "183\n",
            "189\n",
            "195\n",
            "201\n",
            "207\n",
            "213\n",
            "219\n",
            "225\n",
            "231\n",
            "237\n",
            "243\n",
            "249\n",
            "255\n",
            "261\n",
            "267\n",
            "273\n",
            "279\n",
            "285\n",
            "291\n",
            "297\n",
            "303\n",
            "309\n",
            "315\n",
            "321\n",
            "327\n",
            "333\n",
            "339\n",
            "345\n",
            "351\n",
            "357\n",
            "363\n",
            "369\n",
            "375\n",
            "381\n",
            "387\n",
            "393\n",
            "399\n",
            "405\n",
            "411\n",
            "417\n",
            "423\n",
            "429\n",
            "435\n",
            "441\n",
            "447\n",
            "453\n",
            "459\n",
            "465\n",
            "471\n",
            "477\n",
            "483\n",
            "489\n",
            "495\n",
            "501\n",
            "fim\n"
          ],
          "name": "stdout"
        }
      ]
    },
    {
      "cell_type": "code",
      "metadata": {
        "id": "Ghf0hP-yFfyV",
        "colab_type": "code",
        "colab": {}
      },
      "source": [
        ""
      ],
      "execution_count": 0,
      "outputs": []
    },
    {
      "cell_type": "markdown",
      "metadata": {
        "id": "GceRHA-kFfyZ",
        "colab_type": "text"
      },
      "source": [
        "3 – Faça um algoritmo que receba 10 idades, pesos e alturas, calcule e mostre:\n",
        "<p>• A média das idades das 10 pessoas;\n",
        "<p>• A quantidade de pessoas com peso superior a 90 quilos e altura inferior a 1.50;\n",
        "<p>• A porcentagem de pessoas com idade entre 10 e 30 anos entre as pessoas que medem mais\n",
        "de 1.90"
      ]
    },
    {
      "cell_type": "code",
      "metadata": {
        "id": "MhVNph-CFfyb",
        "colab_type": "code",
        "colab": {}
      },
      "source": [
        "idade = 0\n",
        "peso = 0\n",
        "media = 0\n",
        "percent = 0\n",
        "cont1 = 0\n",
        "cont2 = 0 \n",
        "for i in range (0,3):\n",
        "    idade = int(input(f'digite a idade {i+1}: '))\n",
        "    peso = float(input(f'Peso {i+1}:'))\n",
        "    altura = float(input(f'Altura {i+1}: '))\n",
        "    idade = idade + 1\n",
        "    if peso > 90 and altura < 1.50:\n",
        "        cont1 = cont1+1\n",
        "    if idade >= 10 and idade <= 30:\n",
        "        cont2 = cont2+1\n",
        "        percent = (cont2/10)*100\n",
        "print(\"Porcentagem acima de 90kg: \",percent)\n",
        "print(cont1)\n",
        "print(cont2)"
      ],
      "execution_count": 0,
      "outputs": []
    },
    {
      "cell_type": "markdown",
      "metadata": {
        "id": "veo1mw2lFfyf",
        "colab_type": "text"
      },
      "source": [
        "4 – Faça um algoritmo que receba a idade e o sexo de 12 pessoas, calcule e mostre:\n",
        "<p>• A idade média do grupo;\n",
        "<p>• A idade média das mulheres;\n",
        "<p>• A idade média dos homens."
      ]
    },
    {
      "cell_type": "code",
      "metadata": {
        "id": "HXMmEcpbFfyh",
        "colab_type": "code",
        "colab": {}
      },
      "source": [
        "idmedia = 0\n",
        "contf = 0\n",
        "contm = 0\n",
        "mediam = 0\n",
        "mediaf = 0\n",
        "idademedia = 0\n",
        "somam = 0\n",
        "somaf = 0\n",
        "for i in range(0,5):\n",
        "    idade = int(input(f'Informe a idade {i+1}: '))\n",
        "    sexo = str(input(f'informe  sexo {i+1}: '))\n",
        "    if sexo == 'M':\n",
        "        contm = contm+1\n",
        "        somam = somam+idade\n",
        "        mediam = somam/contm\n",
        "    if sexo == 'F':\n",
        "        contf = contf+1\n",
        "        somaf = somaf+idade\n",
        "        mediaf= somaf/contf\n",
        "    print('--'*15)\n",
        "idademedia = (somaf+somam)/(contm+contf)\n",
        "print('Média de idade de Masculino:',mediam)\n",
        "print('Média de idade de Femenino:',mediaf)\n",
        "print('Média de idade Total de idades:', idademedia)\n",
        "print('=-='*20)"
      ],
      "execution_count": 0,
      "outputs": []
    },
    {
      "cell_type": "markdown",
      "metadata": {
        "id": "Kojh3p9GFfyl",
        "colab_type": "text"
      },
      "source": [
        "5 – Faça um algoritmo para somar os números pares positivos < 1000 e ao final escrever o\n",
        "resultado. Este exercício não recebe dados do teclado."
      ]
    },
    {
      "cell_type": "code",
      "metadata": {
        "id": "Oem_9KN0Ffym",
        "colab_type": "code",
        "colab": {}
      },
      "source": [
        "soma = int(0)\n",
        "for i in range(0,1000):\n",
        "    if i % 2 == 0:\n",
        "        soma += i\n",
        "print(soma)\n",
        "print(\"--\"*10,\"fim\",\"--\"*10)"
      ],
      "execution_count": 0,
      "outputs": []
    },
    {
      "cell_type": "markdown",
      "metadata": {
        "id": "owUs14C9Ffys",
        "colab_type": "text"
      },
      "source": [
        "6 – Faça um algoritmo que leia um determinado número e diga se ele é primo ou não.\n",
        "Lembrese de que para um número ser primo ele só pode ser divisível por 1 e por ele mesmo."
      ]
    },
    {
      "cell_type": "code",
      "metadata": {
        "id": "jIEn4OCwFfyt",
        "colab_type": "code",
        "colab": {}
      },
      "source": [
        "#Método Guanabara\n",
        "num = int(input(\"Digite um numero\"))\n",
        "for c in range(1,num+1):\n",
        "    if num % c == 0:\n",
        "        print('\\33[32m',end='')\n",
        "    else:\n",
        "        print('\\33[m' , end='')\n",
        "    print('{} '.format(c), end='')"
      ],
      "execution_count": 0,
      "outputs": []
    },
    {
      "cell_type": "code",
      "metadata": {
        "id": "Ni7QsZkmFfyz",
        "colab_type": "code",
        "colab": {}
      },
      "source": [
        "num2 = int(input(\"Digite um numero\"))\n",
        "tot = 0\n",
        "for i in range(1,num2+1):\n",
        "    if num2 % i == 0:\n",
        "        tot += 1\n",
        "if tot == 2:\n",
        "    print(\"Primo\")\n",
        "else:\n",
        "    print(\"Não primo\")"
      ],
      "execution_count": 0,
      "outputs": []
    },
    {
      "cell_type": "markdown",
      "metadata": {
        "id": "q8gl3CkYFfy4",
        "colab_type": "text"
      },
      "source": [
        "7 – Faça um algoritmo para ler base e altura e calcular a área de 5 triângulos. No final escreva a\n",
        "média das áreas calculadas. Fórmula: Área = Base * Altura / 2"
      ]
    },
    {
      "cell_type": "code",
      "metadata": {
        "id": "4Ngf8R0LFfy5",
        "colab_type": "code",
        "colab": {}
      },
      "source": [
        "## base = 0\n",
        "altura = 0\n",
        "media = 0\n",
        "soma = 0\n",
        "tot = 0\n",
        "for t in range(1,5+1):\n",
        "    print(f'Triangulo {t}')\n",
        "    base = int(input(\"Base\"))\n",
        "    altura = int(input(\"Altura\"))\n",
        "    soma = ((base*altura)/2)\n",
        "    print(\"Area: \",soma)\n",
        "    tot += soma\n",
        "    media = tot/t\n",
        "    print(\"--\"*8)\n",
        "print(\"Área media dos triangulos:\",tot/t)"
      ],
      "execution_count": 0,
      "outputs": []
    },
    {
      "cell_type": "markdown",
      "metadata": {
        "id": "a-NnMVj5Ffy9",
        "colab_type": "text"
      },
      "source": [
        "8 – Faça um algoritmo para ler nome e media de N alunos de uma turma. O usuário deve\n",
        "entrar com o valor de N. Após a leitura escrever a média da turma."
      ]
    },
    {
      "cell_type": "code",
      "metadata": {
        "id": "Z4N3Hl8iFfy_",
        "colab_type": "code",
        "colab": {}
      },
      "source": [
        "notas = 0\n",
        "media = 0\n",
        "soma = 0\n",
        "n = int(input(\"numero de alunos: \"))\n",
        "for i in range(1,n+1):\n",
        "    notas = float(input(f'Digite a nota do {i}º aluno: '))\n",
        "    soma += notas\n",
        "    print(\"--\"*20)\n",
        "media = soma/i\n",
        "print(\"A media da turma é: \",media)"
      ],
      "execution_count": 0,
      "outputs": []
    },
    {
      "cell_type": "markdown",
      "metadata": {
        "id": "AedqaFI1FfzD",
        "colab_type": "text"
      },
      "source": [
        "9 – Faça um algoritmo para calcular o fatorial do número N. O usuário deve entrar com o valor\n",
        "de N"
      ]
    },
    {
      "cell_type": "code",
      "metadata": {
        "id": "W9ioP2F9FfzE",
        "colab_type": "code",
        "colab": {},
        "outputId": "4833f044-f837-402c-83fc-8737bd09203f"
      },
      "source": [
        "n = int(input(\"Digite um valor para n: \"))\n",
        "c = n\n",
        "f = 1\n",
        "while c > 0:\n",
        "    f*=c\n",
        "    c-=1\n",
        "print(f)"
      ],
      "execution_count": 0,
      "outputs": [
        {
          "output_type": "stream",
          "text": [
            "Digite um valor para n:  7\n"
          ],
          "name": "stdin"
        },
        {
          "output_type": "stream",
          "text": [
            "5040\n"
          ],
          "name": "stdout"
        }
      ]
    },
    {
      "cell_type": "markdown",
      "metadata": {
        "id": "wjx64a3AFfzK",
        "colab_type": "text"
      },
      "source": [
        "10 - A prefeitura de uma cidade fez uma pesquisa com N habitantes, coletando dados sobre o\n",
        "salário e número de filhos. A prefeitura deseja saber: ·\n",
        "<p>a) média do salário da população;\n",
        "<p>b) média do número de filhos;\n",
        "<p>c) maior salário."
      ]
    },
    {
      "cell_type": "code",
      "metadata": {
        "id": "BjktBDH2FfzL",
        "colab_type": "code",
        "colab": {},
        "outputId": "2e541565-4ccb-486e-dc17-5b55df98299d"
      },
      "source": [
        "ss = 0\n",
        "tf = 0\n",
        "sm = 0\n",
        "hab = int(input(\"Habitantes: \"))\n",
        "for n in range(0,hab):\n",
        "    s = int(input(f'Salario {n+1}º habitante: '))\n",
        "    nf = int(input(f'Filhos {n+1}º: habitante'))\n",
        "    ss = ss + s\n",
        "    tf = tf + nf\n",
        "    if s > sm:\n",
        "        sm = s\n",
        "print(\"media salarial\",ss/hab)\n",
        "print(\"media de filhos \", tf/hab)\n",
        "print(\"Maior salário \", sm)"
      ],
      "execution_count": 0,
      "outputs": [
        {
          "output_type": "stream",
          "text": [
            "Habitantes:  2\n",
            "Salario 1º habitante:  200\n",
            "Filhos 1º: habitante 2\n",
            "Salario 2º habitante:  300\n",
            "Filhos 2º: habitante 2\n"
          ],
          "name": "stdin"
        },
        {
          "output_type": "stream",
          "text": [
            "media salarial 250.0\n",
            "media de filhos  2.0\n",
            "Maior salário  300\n"
          ],
          "name": "stdout"
        }
      ]
    },
    {
      "cell_type": "code",
      "metadata": {
        "id": "Y5XQsiAMFfzR",
        "colab_type": "code",
        "colab": {}
      },
      "source": [
        ""
      ],
      "execution_count": 0,
      "outputs": []
    }
  ]
}