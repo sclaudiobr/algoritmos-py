{
  "nbformat": 4,
  "nbformat_minor": 0,
  "metadata": {
    "colab": {
      "name": "Geodesico_cartesiano_local.ipynb",
      "provenance": [],
      "collapsed_sections": [],
      "authorship_tag": "ABX9TyM3lRKRpZcHoIfRiIMgS+rn",
      "include_colab_link": true
    },
    "kernelspec": {
      "name": "python3",
      "display_name": "Python 3"
    }
  },
  "cells": [
    {
      "cell_type": "markdown",
      "metadata": {
        "id": "view-in-github",
        "colab_type": "text"
      },
      "source": [
        "<a href=\"https://colab.research.google.com/github/sclaudiobr/algoritmos-py/blob/master/Geodesico_cartesiano_local.ipynb\" target=\"_parent\"><img src=\"https://colab.research.google.com/assets/colab-badge.svg\" alt=\"Open In Colab\"/></a>"
      ]
    },
    {
      "cell_type": "markdown",
      "metadata": {
        "id": "FYZFOFn2OlXu"
      },
      "source": [
        "# Conversão de coordenadas Geodésicas para Cartesianas Local\n",
        "\n",
        "¹Claudio R. O. da Silva\n",
        "\n",
        " As informações espaciais referente a localização de elementos na superfície são usualmente representadas por coordenadas geodésicas de latitude, longitude e altura geométrica. A conversão de coordenadas é um procedimento  contantemente necessario para as operações com áreas e distâncias, os quais são mensurados em sistema métrico. As coordenadas geodésicas são convertidas para o sistema de plano coordendas cartesiano através da equação 01 através de método linear de conversão de coordenadas geográficas para cartesianas considerando os parêmetro de eixo e semi-eixo do elipsoide de referência.\n",
        "\n",
        " <p>\n",
        " $\\begin{bmatrix}\n",
        "X\\\\ \n",
        "Y\\\\ \n",
        "Z\n",
        "\\end{bmatrix} = \\begin{bmatrix}\n",
        "(\\bar{N}+h) cos(\\phi) cos(\\lambda) \\\\ \n",
        " (\\bar{N}+h) cos(\\phi)  sen(\\lambda)\\\\ \n",
        " (\\bar{N}(1-e^2)+h)sen(\\phi) \n",
        "\\end{bmatrix}$<p><p>\n",
        "$\\bar{N} = a/(1-e^2 sen^2(\\phi))^{1/2}$<p>\n",
        "$e^2 = (a^2 - b^2)/a^2 = 2f - f^2$<p>\n",
        "$f = (a-b)/a$\n",
        "<p> Onde:\n",
        "$\\bar{N}$ é a grande normal (raio de curvatura da primeira seção vertical);<p>\n",
        "$e^2$ é a primeira excentricidade numérica, e <p>\n",
        "$f$ é o achatamento.<p>\n",
        "O valor de altitude geométrica é dado por aproximação de:<p>\n",
        "$b \\cong N + H,$<p>\n",
        "Onde N é a ondulação ou altura geoidal e H a altitude ortométrica.\n",
        "\n"
      ]
    },
    {
      "cell_type": "code",
      "metadata": {
        "id": "AXo5U6vUneNX",
        "colab": {
          "base_uri": "https://localhost:8080/",
          "height": 306
        },
        "outputId": "088010de-aeac-4b59-83b0-62d7777473c6"
      },
      "source": [
        "import math as mt\n",
        "import numpy as np\n",
        "def convGeoCar(lat, lon, alt):\n",
        "    rad_lat = lat * (math.pi / 180.0) # <- conversão da laitutude em grau decimal para radianos\n",
        "    rad_lon = lon * (math.pi / 180.0) # <- conversão da longitude em grau decimal para radianos\n",
        "    a = 6378137 # semieixo maior (SIRGAS2000)\n",
        "    b = 6356752.31414# semieixo menor (SIRGAS2000)\n",
        "    finv = 1/ ((a-b)/a) #achatamento\n",
        "    f = 1 / finv\n",
        "    e2 = 1 - (1 - f) * (1 - f) # excentricidade\n",
        "    v = a / math.sqrt(1 - e2 * math.sin(rad_lat) * math.sin(rad_lat))\n",
        "    x = (v + alt) * math.cos(rad_lat) * math.cos(rad_lon)\n",
        "    y = (v + alt) * math.cos(rad_lat) * math.sin(rad_lon)\n",
        "    z = (v * (1 - e2) + alt) * math.sin(rad_lat)\n",
        "    return x, y, z\n",
        "\n",
        "\n",
        "print(\"-=\"*5,\" CONVERSÃO GEDÉSICA PARA COORDENADAS CARTESIANAS LOCAL \",\" -=\"*5)\n",
        "print()\n",
        "print(\"--\"*5,\"BASE (Altera no código)\",\"-=\"*5)\n",
        "# ALTERE OS DADOS DA BASE AQUI !!!\n",
        "lat = float(-29.71892389)  # <----- lat da base (Grau decimal)\n",
        "lon = float(-53.71659314)  # <----- long da base (Grau decimal)\n",
        "b11 = float(3280748.4086) # <----- X da base \n",
        "b21 = float(-4468909.7398)# <----- Y da base\n",
        "b31 = float(-3143408.6827)# <----- Z da base\n",
        "print(f'Latitude: {lat} / Longitude:{lon}')\n",
        "print(\"Coord. X da base: \",b11)\n",
        "print(\"Coord. Y da base: \",b21)\n",
        "print(\"Coord. Z da base: \",b31)\n",
        "print()\n",
        "print(\"--\"*5,\"PONTO (pontos levantados)\",\"-=\"*5)\n",
        "\n",
        "lat2 = float(input(\"Digite a Latitude ex.  -29.71892389 : \"))   \n",
        "lon2 = float(input(\"Digite a Longitude ex.  -53.71659314 : \")) \n",
        "alt2 = float(input(\"Digite a altitude (m) ex.   113  : \"))\n",
        "# executa afuncao de conversão de geodésico para cartesiano\n",
        "calc =  np.array([convGeoCar(lat2,lon2,alt2)])\n",
        "# coloca os valores retornados do vetor convertido nos elementos da matriz\n",
        "b12 = calc[0][0]   \n",
        "b22 = calc[0][1]\n",
        "b32 = calc[0][2]\n",
        "# ------------------------- EQUAÇÃO --------------------------------\n",
        "a11 = float((-1)*mt.sin(mt.radians(lon)))\n",
        "a12 = float(mt.cos(mt.radians(lon)))\n",
        "a13 = float(0)\n",
        "a21 = float((-1*(mt.sin(mt.radians(lat))))*mt.cos(mt.radians(lon)))\n",
        "a22 = float(((-1)*mt.sin(mt.radians(lat)))*mt.sin(mt.radians(lon)))\n",
        "a23 = float(mt.cos(mt.radians(lat)))\n",
        "a31 = float(mt.cos(mt.radians(lat))*mt.cos(mt.radians(lon)))\n",
        "a32 = float(mt.cos(mt.radians(lat))*mt.sin(mt.radians(lon)))\n",
        "a33 = float(mt.sin(mt.radians(lat)))\n",
        "\n",
        "# Tabela de Distâncias entre a estação e os pontos E(x,y)\n",
        "#Matriz de transformação\n",
        "A=np.array([\n",
        "    [a11,a12,a13],\n",
        "    [a21,a22,a23],\n",
        "    [a31,a32,a33],\n",
        "])\n",
        "\n",
        "B=np.array([\n",
        "    [b11,b12],\n",
        "    [b21,b22],\n",
        "    [b31,b32],\n",
        "])\n",
        "\n",
        "C=np.array([\n",
        "    [0.00000],\n",
        "    [0.00000],\n",
        "    [0.00000],\n",
        "])\n",
        "\n",
        "D=np.array([\n",
        "    [0.00000],\n",
        "    [0.00000],\n",
        "    [0.00000],\n",
        "    ])\n",
        "\n",
        "for i in range(len(B)):\n",
        "    for j in range(len(B[0])):\n",
        "        C[i][0] = B[i][0]-B[i][1]\n",
        "\n",
        "print()\n",
        "print(\"-=\"*5,\"RESULTADO\",\"=-\"*5)\n",
        "\n",
        "for i in range (len(A)):\n",
        "    for j in range(len(C[0])):\n",
        "        for k in range(len(C)):\n",
        "            D[i][j] += A[i][k]*C[k][j]\n",
        "print(D)"
      ],
      "execution_count": null,
      "outputs": [
        {
          "output_type": "stream",
          "text": [
            "-=-=-=-=-=  CONVERSÃO GEDÉSICA PARA COORDENADAS CARTESIANAS LOCAL   -= -= -= -= -=\n",
            "\n",
            "---------- BASE (Altera no código) -=-=-=-=-=\n",
            "Latitude: -29.71892389 / Longitude:-53.71659314\n",
            "Coord. X da base:  3280748.4086\n",
            "Coord. Y da base:  -4468909.7398\n",
            "Coord. Z da base:  -3143408.6827\n",
            "\n",
            "---------- PONTO (pontos levantados) -=-=-=-=-=\n",
            "Digite a Latitude ex.  -29.71892389 : -29.71892389\n",
            "Digite a Longitude ex.  -53.71659314 : -53.71659314\n",
            "Digite a altitude ex.   113  : 113\n",
            "\n",
            "-=-=-=-=-= RESULTADO =-=-=-=-=-\n",
            "[[-0.00014187]\n",
            " [ 0.00054834]\n",
            " [ 0.10728171]]\n"
          ],
          "name": "stdout"
        }
      ]
    },
    {
      "cell_type": "code",
      "metadata": {
        "id": "qOh8vGuA_Myg"
      },
      "source": [
        ""
      ],
      "execution_count": null,
      "outputs": []
    }
  ]
}