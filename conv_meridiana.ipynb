{
  "nbformat": 4,
  "nbformat_minor": 0,
  "metadata": {
    "colab": {
      "name": "conv_meridiana.ipynb",
      "version": "0.3.2",
      "provenance": [],
      "include_colab_link": true
    },
    "language_info": {
      "codemirror_mode": {
        "name": "ipython",
        "version": 3
      },
      "file_extension": ".py",
      "mimetype": "text/x-python",
      "name": "python",
      "nbconvert_exporter": "python",
      "pygments_lexer": "ipython3",
      "version": "3.6.8"
    },
    "kernelspec": {
      "display_name": "Python 3",
      "language": "python",
      "name": "python3"
    }
  },
  "cells": [
    {
      "cell_type": "markdown",
      "metadata": {
        "id": "view-in-github",
        "colab_type": "text"
      },
      "source": [
        "<a href=\"https://colab.research.google.com/github/sclaudiobr/algoritmos-py/blob/master/conv_meridiana.ipynb\" target=\"_parent\"><img src=\"https://colab.research.google.com/assets/colab-badge.svg\" alt=\"Open In Colab\"/></a>"
      ]
    },
    {
      "cell_type": "markdown",
      "metadata": {
        "id": "TgIzq93BChAA",
        "colab_type": "text"
      },
      "source": [
        "##  Fórmula de cálculo da convergência meridiana a partir das coordenadas geodésicas no Sistema Topográfico Local"
      ]
    },
    {
      "cell_type": "markdown",
      "metadata": {
        "id": "HpyFsuW3ChAB",
        "colab_type": "text"
      },
      "source": [
        "<p>$\\gamma _p = -\\left [ \\triangle \\lambda''sen \\varphi_m sec \\frac{\\triangle \\varphi}{2}+ F (\\triangle \\lambda'')^3 \\right ]$\n",
        "<p>$\\triangle \\lambda '' = (\\lambda_p-\\lambda_0)\\times 3600$\n",
        "<p>$\\triangle \\varphi = \\varphi_p-\\varphi_0$\n",
        "<p>$F = \\frac{sen \\varphi_m cos \\varphi_m sen^21''}{12}$"
      ]
    },
    {
      "cell_type": "markdown",
      "metadata": {
        "id": "bOUXEZbYChAD",
        "colab_type": "text"
      },
      "source": [
        "γp é a convergência meridiana no ponto considerado;\n",
        "<p>ϕo é a latitude da origem do sistema;\n",
        "<p>ϕp é a latitude do ponto geodésico de apoio imediato \n",
        "considerado;\n",
        "<p>λo é a longitude da origem do sistema;\n",
        "<p>ϕm é a latitude média entre o ponto geodésico de\n",
        "apoio imediato considerado (P) e a origem do sistema (O)."
      ]
    },
    {
      "cell_type": "markdown",
      "metadata": {
        "id": "sFWa6pECChAF",
        "colab_type": "text"
      },
      "source": [
        "$\\begin{bmatrix}\n",
        "T\\\\ \n",
        "U\\\\ \n",
        "V\n",
        "\\end{bmatrix} \\times \\begin{bmatrix}\n",
        "1 & 0 & 0\\\\ \n",
        "0 & sen \\varphi_0 & cos \\varphi_0\\\\ \n",
        "0 & -cos \\varphi_0 & sen\\varphi_0\n",
        "\\end{bmatrix} \\times \\begin{bmatrix}\n",
        "-sen \\lambda_0 & cos\\lambda_0  & 0 \\\\ \n",
        "-cos \\lambda_0 & -sen \\lambda_0  & 0 \\\\ \n",
        " 0 & 0 & 1 \n",
        "\\end{bmatrix} \\times \\begin{bmatrix}\n",
        "X-Y_0\\\\ \n",
        "Y-Y_0\\\\ \n",
        "Z-Z_0\n",
        "\\end{bmatrix}$\n",
        "<p>\n",
        "$\\begin{bmatrix}\n",
        "-sen \\lambda & cos\\lambda  & 0 \\\\ \n",
        "-sen\\varphi \\times cos \\lambda & -sen\\varphi \\times sen \\lambda & cos \\varphi \\\\ \n",
        "cos \\varphi \\times cos \\lambda & cos\\varphi \\times sen \\lambda  & sen \\varphi \n",
        "\\end{bmatrix} \\times \\begin{bmatrix}\n",
        "\\triangle_X  & \\\\ \n",
        "\\triangle_Y  & \\\\\n",
        "\\triangle_Z \n",
        "\\end{bmatrix} = \\begin{bmatrix}\n",
        "t\\\\ \n",
        "u\\\\ \n",
        "v\n",
        "\\end{bmatrix} $"
      ]
    },
    {
      "cell_type": "code",
      "metadata": {
        "id": "gerDhcZZChAG",
        "colab_type": "code",
        "colab": {}
      },
      "source": [
        "import numpy as np\n",
        "import math as mt\n",
        "\n",
        "# Coordenadas da base\n",
        "\n",
        "# ------ TROQUE OS VALORES AQUI\n",
        "lat = float(-29.72016974) # <---- coordenada lat da base\n",
        "long = float(-53.8624448) # <---- coordenada long da base\n",
        "a11 = float((-1)*mt.sin(mt.radians(long)))\n",
        "a12 = float(mt.cos(mt.radians(long)))\n",
        "a13 = float(0)\n",
        "a21 = float((-1*(mt.sin(mt.radians(lat))))*mt.cos(mt.radians(long)))\n",
        "a22 = float(((-1)*mt.sin(mt.radians(lat)))*mt.sin(mt.radians(long)))\n",
        "a23 = float(mt.cos(mt.radians(lat)))\n",
        "a31 = float(mt.cos(mt.radians(lat))*mt.cos(mt.radians(long)))\n",
        "a32 = float(mt.cos(mt.radians(lat))*mt.sin(mt.radians(long)))\n",
        "a33 = float(mt.sin(mt.radians(lat)))\n",
        "\n",
        "# Tabela de Distâncias entre a estação e os pontos E(x,y)\n",
        "\n",
        "# ========TROQUE OS VALORES AQUI\n",
        "b12 = float(3269328.63996) # <----- coordenada X da base (0)\n",
        "b11 = float(3269228.037534) # <---  coordenada X do ponto\n",
        "b22 = float(-4477201.32452) # <---  coordenada Y da base\n",
        "b21 = float(-4477297.196369) # <--  coordenada Y do ponto\n",
        "b32 = float(-3143535.63152) # <---  coordenada Z da base\n",
        "b31 = float(-3143500.393682) # <--  coordenda Z do ponto\n"
      ],
      "execution_count": 0,
      "outputs": []
    },
    {
      "cell_type": "code",
      "metadata": {
        "id": "oen_0Dm0ChAN",
        "colab_type": "code",
        "colab": {
          "base_uri": "https://localhost:8080/",
          "height": 125
        },
        "outputId": "c41f4235-4eaa-4dd7-b1dd-4018f17b1fc0"
      },
      "source": [
        "A=np.array([\n",
        "    [a11,a12,a13],\n",
        "    [a21,a22,a23],\n",
        "    [a31,a32,a33],\n",
        "])\n",
        "\n",
        "B=np.array([\n",
        "    [b11,b12],\n",
        "    [b21,b22],\n",
        "    [b31,b32],\n",
        "])\n",
        "print(\"Matriz A: \")\n",
        "print(A)\n",
        "print(f'{len(A)} X {len(A[0])}')\n",
        "print(\"-=\"*20)"
      ],
      "execution_count": 3,
      "outputs": [
        {
          "output_type": "stream",
          "text": [
            "Matriz A: \n",
            "[[ 0.80760351  0.58972584  0.        ]\n",
            " [ 0.29236509 -0.40038109  0.86845705]\n",
            " [ 0.51215156 -0.70136896 -0.49576442]]\n",
            "3 X 3\n",
            "-=-=-=-=-=-=-=-=-=-=-=-=-=-=-=-=-=-=-=-=\n"
          ],
          "name": "stdout"
        }
      ]
    },
    {
      "cell_type": "markdown",
      "metadata": {
        "id": "0iOQxtYiChAW",
        "colab_type": "text"
      },
      "source": [
        "$\\begin{bmatrix}\n",
        "-sen \\lambda & cos\\lambda  & 0 \\\\ \n",
        "-sen\\varphi \\times cos \\lambda & -sen\\varphi \\times sen \\lambda & cos \\varphi \\\\ \n",
        "cos \\varphi \\times cos \\lambda & cos\\varphi \\times sen \\lambda  & sen \\varphi \n",
        "\\end{bmatrix}$"
      ]
    },
    {
      "cell_type": "code",
      "metadata": {
        "id": "ZhYoC4DJChAc",
        "colab_type": "code",
        "colab": {
          "base_uri": "https://localhost:8080/",
          "height": 107
        },
        "outputId": "fab5aefb-d4d4-4d1a-ed63-6ca471b0c6a2"
      },
      "source": [
        "print(\"Matriz de distâncias\")\n",
        "print(B)\n",
        "print(f'{len(B)}X{len(B[0])}')"
      ],
      "execution_count": 4,
      "outputs": [
        {
          "output_type": "stream",
          "text": [
            "Matriz de distâncias\n",
            "[[ 3269228.037534  3269328.63996 ]\n",
            " [-4477297.196369 -4477201.32452 ]\n",
            " [-3143500.393682 -3143535.63152 ]]\n",
            "3X2\n"
          ],
          "name": "stdout"
        }
      ]
    },
    {
      "cell_type": "markdown",
      "metadata": {
        "id": "DwgG36W0ChAj",
        "colab_type": "text"
      },
      "source": [
        "$ \\begin{bmatrix}\n",
        "X_1 - X_0  & \\\\ \n",
        "Y_1 - Y_0  & \\\\\n",
        "Z_1 - Z_0 \n",
        "\\end{bmatrix}$"
      ]
    },
    {
      "cell_type": "code",
      "metadata": {
        "id": "uiAL0wJJChAl",
        "colab_type": "code",
        "colab": {
          "base_uri": "https://localhost:8080/",
          "height": 71
        },
        "outputId": "6085a9be-be81-418c-eaaa-d6088bada995"
      },
      "source": [
        "C=np.array([\n",
        "    [0.00000],\n",
        "    [0.00000],\n",
        "    [0.00000],\n",
        "])\n",
        "for i in range(len(B)):\n",
        "    for j in range(len(B[0])):\n",
        "        C[i][0] = B[i][1]-B[i][0]\n",
        "print(C)"
      ],
      "execution_count": 5,
      "outputs": [
        {
          "output_type": "stream",
          "text": [
            "[[100.602426]\n",
            " [ 95.871849]\n",
            " [-35.237838]]\n"
          ],
          "name": "stdout"
        }
      ]
    },
    {
      "cell_type": "code",
      "metadata": {
        "id": "x4FfyI_mChAw",
        "colab_type": "code",
        "colab": {
          "base_uri": "https://localhost:8080/",
          "height": 71
        },
        "outputId": "74ea9597-fc31-47da-d086-7e1f862fc6bf"
      },
      "source": [
        "D=np.array([\n",
        "    [0.00000],\n",
        "    [0.00000],\n",
        "    [0.00000],\n",
        "])\n",
        "for i in range (len(A)):\n",
        "    for j in range(len(C[0])):\n",
        "        for k in range(len(C)):\n",
        "            D[i][j] += A[i][k]*C[k][j]\n",
        "print(D)"
      ],
      "execution_count": 6,
      "outputs": [
        {
          "output_type": "stream",
          "text": [
            "[[137.78497924]\n",
            " [-39.57518679]\n",
            " [  1.75181636]]\n"
          ],
          "name": "stdout"
        }
      ]
    },
    {
      "cell_type": "markdown",
      "metadata": {
        "id": "L3uI_l6FChA7",
        "colab_type": "text"
      },
      "source": [
        "$ \\begin{bmatrix}\n",
        " \\triangle_X  & \\\\ \n",
        " \\triangle_Y  & \\\\\n",
        " \\triangle_Z \n",
        "\\end{bmatrix}$"
      ]
    },
    {
      "cell_type": "code",
      "metadata": {
        "id": "KeqiBHQ4ChA9",
        "colab_type": "code",
        "colab": {}
      },
      "source": [
        ""
      ],
      "execution_count": 0,
      "outputs": []
    }
  ]
}