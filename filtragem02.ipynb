{
  "nbformat": 4,
  "nbformat_minor": 0,
  "metadata": {
    "colab": {
      "name": "filtragem02.ipynb",
      "provenance": [],
      "collapsed_sections": [],
      "toc_visible": true,
      "include_colab_link": true
    },
    "kernelspec": {
      "name": "python3",
      "display_name": "Python 3"
    }
  },
  "cells": [
    {
      "cell_type": "markdown",
      "metadata": {
        "id": "view-in-github",
        "colab_type": "text"
      },
      "source": [
        "<a href=\"https://colab.research.google.com/github/sclaudiobr/algoritmos-py/blob/master/filtragem02.ipynb\" target=\"_parent\"><img src=\"https://colab.research.google.com/assets/colab-badge.svg\" alt=\"Open In Colab\"/></a>"
      ]
    },
    {
      "cell_type": "markdown",
      "metadata": {
        "id": "Et9vtXfFevkS",
        "colab_type": "text"
      },
      "source": [
        "## Filtragem com máscaras\n",
        "\n",
        "As técnicas de filtragem são transformações da imagem pixel a pixel, que não dependem apenas do nível de cinza de um determinado pixel, mas também do valor dos níveis de cinza dos pixels vizinhos. O processo de filtragem é feito utilizando matrizes denominadas máscaras, as quais são aplicadas sobre a imagem cujo a resultante é uma nova imagem transformada. A finalidade de aplicação de uma máscara é ralçar feições exitentes nas imagens com o intuito de obter melhor detales sobre os elementos contidos facilitando a classificação e segmentação dos objetos. Neste processo as imagens são convertidas em Arrays (arranjos de matrizes) e processadas atraves do numpy, biblioteca dedica as operações matriciais com diversas funções. Posteriormente as matrizes são revertidas para imagens georreferenciadas usando as referências capturadas da próparia imagem original. Para executar este tutorial siga atentamente as dicas sobre cada bloco de código do algoritmo, com especial atenção ao bloco que terá de informar o filtro a ser aplicado. Ao final será exportado uma imagem convertida denominada \"FILTRADA.TIF\" na aba Files no canto superior esquerdo.\n",
        "\n",
        "@ autor Claudio Roberto Oliveira da Silva \n",
        "<p>MSc. Modelagem Computacional, Eng. Civil - COPPE/UFRJ<p>\n",
        "Curriculo Lattes: <a href=\"http://lattes.cnpq.br/7294686843905076\">Lattes</a>\n",
        "<p>\n",
        "Repositório: <a href=\"https://github.com/sclaudiobr/\"> GitHub</a>"
      ]
    },
    {
      "cell_type": "code",
      "metadata": {
        "id": "Fr3qc5_eEpah",
        "colab_type": "code",
        "outputId": "1953c1a4-7f3d-453c-c4f5-217afdd138fb",
        "colab": {
          "base_uri": "https://localhost:8080/",
          "height": 50
        }
      },
      "source": [
        "!pip install Pillow # <-- execute esta linha apenas a primeira vez"
      ],
      "execution_count": 2,
      "outputs": [
        {
          "output_type": "stream",
          "text": [
            "Requirement already satisfied: Pillow in /usr/local/lib/python3.6/dist-packages (4.3.0)\n",
            "Requirement already satisfied: olefile in /usr/local/lib/python3.6/dist-packages (from Pillow) (0.46)\n"
          ],
          "name": "stdout"
        }
      ]
    },
    {
      "cell_type": "code",
      "metadata": {
        "id": "sKdFHFCCB9w9",
        "colab_type": "code",
        "colab": {}
      },
      "source": [
        "# carregando bibliotecas < -- apenas uma vez\n",
        "from osgeo import ogr, gdal, osr\n",
        "import numpy as np\n",
        "import os\n",
        "import matplotlib.pyplot as plt\n",
        "import cv2\n",
        "import PIL as pil\n",
        "import scipy.signal\n",
        "from skimage import io, color\n",
        "from skimage import exposure\n",
        "import urllib.request"
      ],
      "execution_count": 0,
      "outputs": []
    },
    {
      "cell_type": "code",
      "metadata": {
        "id": "ffruRfjkyCKy",
        "colab_type": "code",
        "outputId": "5110269c-a296-4fda-e972-c0700d1325ef",
        "colab": {
          "base_uri": "https://localhost:8080/",
          "height": 50
        }
      },
      "source": [
        "# Baixando o arquivo < -- apenas uma vez\n",
        "url = ('https://github.com/sclaudiobr/algoritmos-py/blob/master/planetario.tar.xz?raw=true')\n",
        "filename, headers = urllib.request.urlretrieve(url, filename=\"planetario.tar.xz\")\n",
        "print (\"download completo!\")\n",
        "print (\"Nome do arquivo: \", filename)"
      ],
      "execution_count": 4,
      "outputs": [
        {
          "output_type": "stream",
          "text": [
            "download completo!\n",
            "Nome do arquivo:  planetario.tar.xz\n"
          ],
          "name": "stdout"
        }
      ]
    },
    {
      "cell_type": "code",
      "metadata": {
        "id": "5iw-XCSg3XuK",
        "colab_type": "code",
        "outputId": "cd1ca7e3-027b-4b8c-e317-ce83ea31f186",
        "colab": {
          "base_uri": "https://localhost:8080/",
          "height": 50
        }
      },
      "source": [
        "print (\"descompactando...\")#  < --- apenas uma vez\n",
        "!tar -Jxxvf planetario.tar.xz"
      ],
      "execution_count": 5,
      "outputs": [
        {
          "output_type": "stream",
          "text": [
            "descompactando...\n",
            "planetario.tif\n"
          ],
          "name": "stdout"
        }
      ]
    },
    {
      "cell_type": "code",
      "metadata": {
        "id": "dGk4LvdbMPPw",
        "colab_type": "code",
        "colab": {}
      },
      "source": [
        "# ---- Apenas uma vez <------\n",
        "img = io.imread('planetario.tif')   # Abrindo a imagem\n",
        "img = color.rgb2gray(img)       # Converte a imagem para escala de cinza (1 canal)\n",
        "GDAL = gdal.Open('planetario.tif') # Abrindo o Geotiff\n",
        "\n",
        "\n",
        "# Arquivo de destino\n",
        "path_GDALB = 'FILTRADA.TIF'\n",
        "\n",
        "# PEGANDO DADOS DE REFERENCIAS GEOGRÁFICAS DA IMAGEM GEOTIF \n",
        "\n",
        "# Processo necessário para reprojetar de volta a matriz obtida com os calculos\n",
        "projection = GDAL.GetProjection() # <- pega aprojeção\n",
        "geotransform = GDAL.GetGeoTransform()# <- Associa as coordenadas\n",
        "originX,pixelWidth,empty,finalY,empty2,pixelHeight=geotransform # <-- faz a conversão de projeção\n",
        "cols =  GDAL.RasterXSize # <-- guarda valores do eixo X\n",
        "rows =  GDAL.RasterYSize # <-- guarda valores do eixo Y\n",
        "finalX = originX + pixelWidth * cols\n",
        "originY = finalY + pixelHeight * rows\n",
        "extentArray = [originX,finalX,originY,finalY]\n",
        "\n",
        "\n",
        "# CRIANDO AS MARCARAS 3X3\n",
        "\n",
        "#Filtros passa baixa\n",
        "passa_baixa1 = np.array([[1,1,1],[1,2,1],[1,1,1]])/9 # 1/10\n",
        "passa_baixa2 = np.array([[1,2,1],[2,4,2],[1,2,1]])/16 # 1/16\n",
        "# Filtros ineares passa alta\n",
        "passa_alta1 = np.array([[0,-1,0],[-1,5,-1],[0,-1,0]])\n",
        "passa_alta2 = np.array([[-1,-1,-1],[-1,9,-1],[-1,-1,-1]])\n",
        "passa_alta3 = np.array([[1,-2,1],[1,5,1],[1,-2,1]])\n",
        "# Filtro de bordas direcional\n",
        "dirN  = np.array([[1,1,1],[1,-2,1],[-1,-1,-1]]) # filtro direcional Norte\n",
        "dirNE = np.array([[1,1,1],[-1,-2,1],[-1,-1,1]]) # filtro direcional Nordeste\n",
        "dirL  = np.array([[-1,1,1],[-1,-2,1],[-1,1,1]]) # filtro direcional Leste\n",
        "dirSE = np.array([[-1,-1,1],[-1,-2,1],[1,1,1]]) # filtro direcional Sudeste\n",
        "dirS  = np.array([[-1,-1,-1],[1,-2,1],[1,1,1]]) # filtro direcional Sul\n",
        "dirSW = np.array([[1,-1,-1],[1,-2,-1],[1,1,1]]) # filtro direcional Sudoeste\n",
        "dirW  = np.array([[1,1,-1],[1,-2,-1],[1,1,-1]]) # filtro direcional Oeste\n",
        "dirNW = np.array([[1,1,1],[1,-2,-1],[1,-1,-1]]) # filtro direcional Noroeste\n",
        "# Filtro não linear de bordas\n",
        "bordaA = np.array([[-1,-1,-1],[-1,8,-1],[-1,-1,-1]])\n",
        "bordaM = np.array([[ 0,-1, 0],[-1 , 4,-1],[0,-1,0]])\n",
        "bordaB = np.array([[ 1,-2, 1],[-2, 3,-2], [1,-2,1]])\n",
        "# Filtro não linear\n",
        "sobela = np.array([[-1,2,-1],[ 0,0,0],[ 1,2,1]])\n",
        "sobelb = np.array([[-1, 0,1],[-2,0,2],[-1,0,1]])\n",
        "sobel = np.array(np.sqrt(sobela**2+sobelb**2))\n",
        "# Filtros morfológicos\n",
        "mediano = np.array([[1,1,1],[1,1,1],[1,1,1]])\n",
        "xis     = np.array([[1,0,1],[0,1,0],[1,0,1]])\n",
        "cruz    = np.array([[0,1,0],[1,1,1],[0,1,0]])\n",
        "hor     = np.array([[0,0,0],[1,1,1],[0,0,0]])\n",
        "vert    = np.array([[0,1,0],[0,1,0],[0,1,0]])\n",
        "diag1   = np.array([[0,0,1],[0,1,0],[1,0,0]])\n",
        "diag2   = np.array([[1,0,0],[0,1,0],[0,0,1]])\n",
        "# Fonte: <http://www.dpi.inpe.br/spring/portugues/tutorial/filtragem.html>"
      ],
      "execution_count": 0,
      "outputs": []
    },
    {
      "cell_type": "code",
      "metadata": {
        "id": "SkmsV9SO7S8s",
        "colab_type": "code",
        "colab": {}
      },
      "source": [
        "# O FILTRO É ALTERADO NA LINHA ABAIXO --->      Ex: filtro = <AQUI>\n",
        "filtro = hor         # <-- AQUI"
      ],
      "execution_count": 0,
      "outputs": []
    },
    {
      "cell_type": "code",
      "metadata": {
        "id": "ePT8y-ZYMOyn",
        "colab_type": "code",
        "colab": {}
      },
      "source": [
        "# ---- FUNÇÔES ---\n",
        "# ---- Filtro -- equalização -- Salvamento e Projeção\n",
        "# Aplicação do filtro com a máscara escolhida acima\n",
        "def frealce(filtro):\n",
        "  filtro = scipy.signal.convolve2d(img, filtro, 'valid') \n",
        "  return filtro\n",
        "filtrada = frealce(filtro)\n",
        "\n",
        "# Ajuste do contraste da imagem filtrada com aplicação de uma Equalização de histograma\n",
        "def equImage(filtrada):\n",
        "  equalizada = exposure.equalize_adapthist(filtrada/np.max(np.abs(filtrada)), clip_limit=0.03)\n",
        "  return equalizada\n",
        "\n",
        "FILTRADA = equImage(filtrada)\n",
        "\n",
        "# ----- Salvando os dados\n",
        "def saveRaster(dataset,datasetPath,cols,rows,projection):\n",
        "    rasterSet = gdal.GetDriverByName('GTiff').Create(datasetPath, cols, rows,1,gdal.GDT_Float32)\n",
        "    rasterSet.SetProjection(projection)\n",
        "    rasterSet.SetGeoTransform(geotransform)\n",
        "    rasterSet.GetRasterBand(1).WriteArray(dataset)\n",
        "    rasterSet.GetRasterBand(1).SetNoDataValue(-999)\n",
        "    rasterSet = None\n",
        "saveRaster(FILTRADA,path_GDALB,cols,rows,projection)\n",
        "\n",
        "# ----- Plotando so dados\n",
        "def plotRaster(rasterImage,extentArray,vmin,cmap):\n",
        "    raster = gdal.Open(rasterImage)\n",
        "    dsraster = raster.ReadAsArray()\n",
        "    plt.figure(figsize=(20,20))\n",
        "    im = plt.imshow(dsraster, vmin=vmin, cmap=cmap, extent=extentArray)#\n",
        "    plt.colorbar(im, fraction=0.015)\n",
        "    plt.xlabel('Leste', size=20,color='white')\n",
        "    plt.ylabel('Sul', size=20,color='white',  rotation=90)\n",
        "    plt.show()\n",
        "plotRaster(path_GDALB,extentArray,0,'gray')\n"
      ],
      "execution_count": 0,
      "outputs": []
    }
  ]
}