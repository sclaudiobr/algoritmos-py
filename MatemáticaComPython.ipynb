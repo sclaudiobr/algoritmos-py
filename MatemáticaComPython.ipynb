{
  "nbformat": 4,
  "nbformat_minor": 0,
  "metadata": {
    "colab": {
      "name": "MatemáticaComPython.ipynb",
      "provenance": [],
      "collapsed_sections": [],
      "include_colab_link": true
    },
    "kernelspec": {
      "name": "python3",
      "display_name": "Python 3"
    }
  },
  "cells": [
    {
      "cell_type": "markdown",
      "metadata": {
        "id": "view-in-github",
        "colab_type": "text"
      },
      "source": [
        "<a href=\"https://colab.research.google.com/github/sclaudiobr/algoritmos-py/blob/master/Matem%C3%A1ticaComPython.ipynb\" target=\"_parent\"><img src=\"https://colab.research.google.com/assets/colab-badge.svg\" alt=\"Open In Colab\"/></a>"
      ]
    },
    {
      "cell_type": "markdown",
      "metadata": {
        "id": "_ZdYJWfZCcW5",
        "colab_type": "text"
      },
      "source": [
        "# Matemática com Python\n",
        "\n",
        "<P> A matemática é a ferramenta essencial para qualquer pessoa que necessite realizar estudos e cálculos para as mais diversas finalidades. O tutorial abaixo apresenta uma sequência de passos básicos para eecutar operações aritméticas, manipulação de dados, operações com frações, equação de segundo grau e números conplexos."
      ]
    },
    {
      "cell_type": "code",
      "metadata": {
        "id": "TaJagqfB5yW5",
        "colab_type": "code",
        "colab": {}
      },
      "source": [
        "# operações aritméticas básicas (+, -, *, /) soma, diferença, produto, "
      ],
      "execution_count": 0,
      "outputs": []
    },
    {
      "cell_type": "code",
      "metadata": {
        "id": "UbEQPfzj55XE",
        "colab_type": "code",
        "colab": {
          "base_uri": "https://localhost:8080/",
          "height": 33
        },
        "outputId": "2c099f5a-f5e8-46ca-b64e-a43d93901bd3"
      },
      "source": [
        "# começamos aqui guardando uma soma em uma variável ( a recebe  1 + 1), \n",
        "# mostra o valor armazenado em a\n",
        "a =1+1\n",
        "a"
      ],
      "execution_count": 28,
      "outputs": [
        {
          "output_type": "execute_result",
          "data": {
            "text/plain": [
              "2"
            ]
          },
          "metadata": {
            "tags": []
          },
          "execution_count": 28
        }
      ]
    },
    {
      "cell_type": "code",
      "metadata": {
        "id": "3tu53wvd6fNe",
        "colab_type": "code",
        "colab": {
          "base_uri": "https://localhost:8080/",
          "height": 33
        },
        "outputId": "c9cca134-5558-4823-ce1b-e255395332af"
      },
      "source": [
        "# começamos aqui guardando uma soma em uma variável ( b recebe  2+4+5), \n",
        "# mostra o valor armazenado em b\n",
        "b = 2 + 4 + 5\n",
        "b"
      ],
      "execution_count": 30,
      "outputs": [
        {
          "output_type": "execute_result",
          "data": {
            "text/plain": [
              "11"
            ]
          },
          "metadata": {
            "tags": []
          },
          "execution_count": 30
        }
      ]
    },
    {
      "cell_type": "code",
      "metadata": {
        "id": "trJChlLt6knr",
        "colab_type": "code",
        "colab": {
          "base_uri": "https://localhost:8080/",
          "height": 33
        },
        "outputId": "5fdc3e52-bd88-4fef-85a0-4133eb185d2d"
      },
      "source": [
        "# operação com duas variáveis, armazenando em uma terceira ( c = a - b)\n",
        "c = a - b\n",
        "c"
      ],
      "execution_count": 31,
      "outputs": [
        {
          "output_type": "execute_result",
          "data": {
            "text/plain": [
              "-9"
            ]
          },
          "metadata": {
            "tags": []
          },
          "execution_count": 31
        }
      ]
    },
    {
      "cell_type": "code",
      "metadata": {
        "id": "BKbA5Mqc6qKd",
        "colab_type": "code",
        "colab": {
          "base_uri": "https://localhost:8080/",
          "height": 33
        },
        "outputId": "3d458265-8f5d-4879-c0f7-0534a1315407"
      },
      "source": [
        "# GUARDANDO DADOS EM UM VETOR (tupla)\n",
        "d = (a,b)\n",
        "d"
      ],
      "execution_count": 33,
      "outputs": [
        {
          "output_type": "execute_result",
          "data": {
            "text/plain": [
              "(2, 11)"
            ]
          },
          "metadata": {
            "tags": []
          },
          "execution_count": 33
        }
      ]
    },
    {
      "cell_type": "code",
      "metadata": {
        "id": "HvQqr_bz61Nl",
        "colab_type": "code",
        "colab": {
          "base_uri": "https://localhost:8080/",
          "height": 33
        },
        "outputId": "5729d468-7bcd-48b2-ca0b-30ffdde16a39"
      },
      "source": [
        "# acessando os dados do vetor\n",
        "d[0]"
      ],
      "execution_count": 34,
      "outputs": [
        {
          "output_type": "execute_result",
          "data": {
            "text/plain": [
              "2"
            ]
          },
          "metadata": {
            "tags": []
          },
          "execution_count": 34
        }
      ]
    },
    {
      "cell_type": "code",
      "metadata": {
        "id": "8rS0s52y7V0O",
        "colab_type": "code",
        "colab": {
          "base_uri": "https://localhost:8080/",
          "height": 33
        },
        "outputId": "6f0e2036-e022-4abd-a6a7-804dcd05ee4e"
      },
      "source": [
        "# verificando o tipo de dados\n",
        "type(d)"
      ],
      "execution_count": 36,
      "outputs": [
        {
          "output_type": "execute_result",
          "data": {
            "text/plain": [
              "tuple"
            ]
          },
          "metadata": {
            "tags": []
          },
          "execution_count": 36
        }
      ]
    },
    {
      "cell_type": "code",
      "metadata": {
        "id": "bnE50H-d7jYc",
        "colab_type": "code",
        "colab": {
          "base_uri": "https://localhost:8080/",
          "height": 50
        },
        "outputId": "90c69fab-e4b6-4433-92be-4f5dccfd115f"
      },
      "source": [
        "# explorando a função print\n",
        "print('d é do tipo :',type(d))\n",
        "print('b é do tipo :',type(b))"
      ],
      "execution_count": 38,
      "outputs": [
        {
          "output_type": "stream",
          "text": [
            "d é do tipo : <class 'tuple'>\n",
            "b é do tipo : <class 'int'>\n"
          ],
          "name": "stdout"
        }
      ]
    },
    {
      "cell_type": "code",
      "metadata": {
        "id": "mE--60838zh0",
        "colab_type": "code",
        "colab": {
          "base_uri": "https://localhost:8080/",
          "height": 83
        },
        "outputId": "a430fbd1-414c-496f-ac0c-38fe10eff4da"
      },
      "source": [
        "# operadores de divisão Real, divisão Inteira e resto da divisão\n",
        "print(r'Valor de a(',a,') valor de b(',b,')')\n",
        "print('Divisão retorna Real',(b/a))\n",
        "print('Divisão retorna Inteiro arredondado:', (b//a))\n",
        "print('Resto da divisão inteira', (b%a))\n"
      ],
      "execution_count": 47,
      "outputs": [
        {
          "output_type": "stream",
          "text": [
            "Valor de a( 2 ) valor de b( 11 )\n",
            "Divisão retorna Real 5.5\n",
            "Divisão retorna Inteiro arredondado: 5\n",
            "Resto da divisão inteira 1\n"
          ],
          "name": "stdout"
        }
      ]
    },
    {
      "cell_type": "code",
      "metadata": {
        "id": "h2psE88t_Z_X",
        "colab_type": "code",
        "colab": {
          "base_uri": "https://localhost:8080/",
          "height": 66
        },
        "outputId": "46292a7b-75da-4058-f98a-69ddc2970664"
      },
      "source": [
        "# Exponenciação e radiciação\n",
        "\n",
        "e = b**a\n",
        "print('Exponencianção:',e)\n",
        "\n",
        "# Raiz quadrada de e\n",
        "f = e**(1/2)\n",
        "print('Radiciação: ',f)\n",
        "# Raiz cúbica de e\n",
        "print('Raíz Cúbica de e: ',e**(1/3))"
      ],
      "execution_count": 50,
      "outputs": [
        {
          "output_type": "stream",
          "text": [
            "Exponencianção: 121\n",
            "Radiciação:  11.0\n",
            "Raíz Cúbica de e:  4.9460874432487\n"
          ],
          "name": "stdout"
        }
      ]
    },
    {
      "cell_type": "code",
      "metadata": {
        "id": "I18g_T_-Am4U",
        "colab_type": "code",
        "colab": {
          "base_uri": "https://localhost:8080/",
          "height": 50
        },
        "outputId": "756a2ec2-e83a-4362-8ab8-ef88032ecce8"
      },
      "source": [
        "# ORDEM DE PRIORIDADE (PEMDAS = PARENTESES, EXPONENCIAÇÃO,MULTIPLICAÇÃO, DIVISÃO, ADIÇÃO E SUBTRAÇÃO)\n",
        "# TUDO QUE ESTIVER ENTRE PARÊNTESES EXECUTA PRIMEIRO\n",
        "print(a*(2+b))\n",
        "print(a*2+b)"
      ],
      "execution_count": 55,
      "outputs": [
        {
          "output_type": "stream",
          "text": [
            "26\n",
            "15\n"
          ],
          "name": "stdout"
        }
      ]
    },
    {
      "cell_type": "code",
      "metadata": {
        "id": "N301be-nBzXJ",
        "colab_type": "code",
        "colab": {}
      },
      "source": [
        ""
      ],
      "execution_count": 0,
      "outputs": []
    },
    {
      "cell_type": "markdown",
      "metadata": {
        "id": "yPTsHrHd2Bmz",
        "colab_type": "text"
      },
      "source": [
        "## Numero complexos"
      ]
    },
    {
      "cell_type": "code",
      "metadata": {
        "id": "HimNbt2I1W_s",
        "colab_type": "code",
        "colab": {}
      },
      "source": [
        "# Numeros complexos"
      ],
      "execution_count": 0,
      "outputs": []
    },
    {
      "cell_type": "code",
      "metadata": {
        "id": "dMtKY77_1b_X",
        "colab_type": "code",
        "colab": {}
      },
      "source": [
        "x = 1 + 2j"
      ],
      "execution_count": 0,
      "outputs": []
    },
    {
      "cell_type": "code",
      "metadata": {
        "id": "mBcC0Erx1hIo",
        "colab_type": "code",
        "colab": {
          "base_uri": "https://localhost:8080/",
          "height": 33
        },
        "outputId": "abc02bf6-4451-48d2-a2b7-1c0899092409"
      },
      "source": [
        "type(x)"
      ],
      "execution_count": 8,
      "outputs": [
        {
          "output_type": "execute_result",
          "data": {
            "text/plain": [
              "complex"
            ]
          },
          "metadata": {
            "tags": []
          },
          "execution_count": 8
        }
      ]
    },
    {
      "cell_type": "code",
      "metadata": {
        "id": "4VpfTXUW1jrw",
        "colab_type": "code",
        "colab": {}
      },
      "source": [
        "# Ou através da função\n",
        "y = complex(3,4)"
      ],
      "execution_count": 0,
      "outputs": []
    },
    {
      "cell_type": "code",
      "metadata": {
        "id": "A51RrwyT1sth",
        "colab_type": "code",
        "colab": {
          "base_uri": "https://localhost:8080/",
          "height": 33
        },
        "outputId": "864f4ebe-ce15-4954-eaec-56be449019f4"
      },
      "source": [
        "type(y)\n",
        "print(y)"
      ],
      "execution_count": 10,
      "outputs": [
        {
          "output_type": "stream",
          "text": [
            "(3+4j)\n"
          ],
          "name": "stdout"
        }
      ]
    },
    {
      "cell_type": "code",
      "metadata": {
        "id": "3E9SE3P11uh0",
        "colab_type": "code",
        "colab": {
          "base_uri": "https://localhost:8080/",
          "height": 83
        },
        "outputId": "54089f37-5d78-42d8-f319-a2ce9da847cc"
      },
      "source": [
        "# operações básicas com numeros complexos\n",
        "\n",
        "print('___Soma: ',x+y) # soma\n",
        "print('Divisão: ',x-y) # diferença\n",
        "print('Produto: ',x*y) # produto\n",
        "print('Divisão: ',x/y) # quociente"
      ],
      "execution_count": 15,
      "outputs": [
        {
          "output_type": "stream",
          "text": [
            "___Soma:  (4+6j)\n",
            "Divisão:  (-2-2j)\n",
            "Produto:  (-5+10j)\n",
            "Divisão:  (0.44+0.08j)\n"
          ],
          "name": "stdout"
        }
      ]
    },
    {
      "cell_type": "code",
      "metadata": {
        "id": "kdonMtdz2cPU",
        "colab_type": "code",
        "colab": {
          "base_uri": "https://localhost:8080/",
          "height": 66
        },
        "outputId": "a25a5569-6bd9-45b5-beb4-6c7204bb72ee"
      },
      "source": [
        "# Acessãndo as propriedades ( a parte real e a parte imaginária de um numero complexo)\n",
        "print('Parte Real: ',x.real)\n",
        "print('Parte Imaginária: ',x.imag)\n",
        "print('x = ',x)"
      ],
      "execution_count": 22,
      "outputs": [
        {
          "output_type": "stream",
          "text": [
            "Parte Real:  1.0\n",
            "Parte Imaginária:  2.0\n",
            "x =  (1+2j)\n"
          ],
          "name": "stdout"
        }
      ]
    },
    {
      "cell_type": "code",
      "metadata": {
        "id": "U9JKpID83Wjf",
        "colab_type": "code",
        "colab": {
          "base_uri": "https://localhost:8080/",
          "height": 50
        },
        "outputId": "c34119c5-8466-4d0c-97ae-bba5e0e0132f"
      },
      "source": [
        "# conjugado -  possui a mesma parte Real porém a parte imaginária com um sinal oposto\n",
        "print('y = ',y,'<--- Numero complexo y')\n",
        "print('y^ = ',y.conjugate(),' <--- Conjugado de y')"
      ],
      "execution_count": 25,
      "outputs": [
        {
          "output_type": "stream",
          "text": [
            "y =  (3+4j) <--- Numero complexo y\n",
            "y^ =  (3-4j)  <--- Conjugado de y\n"
          ],
          "name": "stdout"
        }
      ]
    },
    {
      "cell_type": "code",
      "metadata": {
        "id": "WO9OKlA14RD5",
        "colab_type": "code",
        "colab": {}
      },
      "source": [
        ""
      ],
      "execution_count": 0,
      "outputs": []
    }
  ]
}