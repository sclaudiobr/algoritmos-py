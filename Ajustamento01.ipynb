{
  "nbformat": 4,
  "nbformat_minor": 0,
  "metadata": {
    "colab": {
      "name": "Ajustamento01.ipynb",
      "provenance": [],
      "collapsed_sections": [],
      "include_colab_link": true
    },
    "kernelspec": {
      "name": "python3",
      "display_name": "Python 3"
    }
  },
  "cells": [
    {
      "cell_type": "markdown",
      "metadata": {
        "id": "view-in-github",
        "colab_type": "text"
      },
      "source": [
        "<a href=\"https://colab.research.google.com/github/sclaudiobr/algoritmos-py/blob/master/Ajustamento01.ipynb\" target=\"_parent\"><img src=\"https://colab.research.google.com/assets/colab-badge.svg\" alt=\"Open In Colab\"/></a>"
      ]
    },
    {
      "cell_type": "markdown",
      "metadata": {
        "id": "pE-Od6f4mjPg",
        "colab_type": "text"
      },
      "source": [
        "As observações conduzidas pelo ser humano possuem características comuns pela presença de erros de mensuração. Erros que decorrem não apenas de falhas humanas, mas também da imperfeição do equipamento e da influência das condições ambientais nas quais se processa a mensuração. Para o Prof. Camil Gemael: “Quem dá os primeiros passos na análise de observações começa por fazer uma concessão: abdicar da pretensão de obter o verdadeiro valor de uma grandeza medida”[[¹](https://topografia.paginas.ufsc.br/files/2014/09/Ajustamento-Cap2.pdf)]. A incerteza no resultado de uma mensuração isolada, nos leva naturalmente à repetição das observações. Gerando assim uma pluralidade de observações, das quais sabemos que são incorretas por conta das imperfeições.  Quando tratamos de observações os modelos matemáticos são fundamentais para explicitar os resultados que procuramos. Os modelos matemático Funcional e Modelo Estocástico são definidos para tratar os dados físicos e estatísticos de observações, respectivamente. Onde O modelo funcional é composto por relações que descrevem a geometria ou características físicas do problema em questão,  tal como a determinação da área de um terreno retangular através da multiplicação dos seus lados a e b, cujo modelo funcional é A = ab. O modelo estocástico por sua vez, é composto pelo conjunto de relações que descrevem as propriedades estatísticas dos elementos envolvidos no modelo funcional. Diante deste contexto o ajustamento de observações proporciona o resultado bem como estima a precisão da solução adotada,  extraindo um resultado que seja único e que possa representar com confiança a grandeza medida [[²](https://www.scielo.br/scielo.php?pid=S1982-21702011000200007&script=sci_arttext)]. O Método dos Mínimos Quadrados (MMQ) é um dos critérios mais utilizados para o ajustamento de observações geodésicas. Este método adota uma solução única através de equações que minimizam a soma do quadrado dos erros aleatórios, e estimar a precisão de tais incógnitas e a eventual correlação entre elas. Os passos básicos para a realização dos ajustamentos serão descritos neste documento, os quais constam prmeiramento da obtenção dos parâmetros estocásticos dos dados e posterior aplicação do modelo matemático com os parãmetros encontrados.\n",
        "\n",
        "¹Claudio R. O da Silva"
      ]
    },
    {
      "cell_type": "markdown",
      "metadata": {
        "id": "krCd8NyTAF_f",
        "colab_type": "text"
      },
      "source": [
        "# Aplicação Prática\n",
        "\n",
        "## Foram levantados no Campus da UFSM um terreno de forma retangular, com estacas nos 4 cantos formando os vértices A,B,C e D, sobre o mesmo foram realizadas várias medidas apresentadas na tabela:\n",
        "\n",
        "<p>&nbsp;</p>\n",
        "<table style=\"width: 448px;\">\n",
        "<tbody>\n",
        "<tr>\n",
        "<td style=\"width: 79px;\">\n",
        "<p><strong>i</strong></p>\n",
        "</td>\n",
        "<td style=\"width: 156px;\">\n",
        "<p><span style=\"font-weight: 400;\">Valores </span><span style=\"font-weight: 400;\">a</span><span style=\"font-weight: 400;\">i</span><span style=\"font-weight: 400;\"> (m)</span></p>\n",
        "</td>\n",
        "<td style=\"width: 197px;\">\n",
        "<p><span style=\"font-weight: 400;\">Valores </span><span style=\"font-weight: 400;\">b</span><span style=\"font-weight: 400;\">i</span><span style=\"font-weight: 400;\"> (m)</span></p>\n",
        "</td>\n",
        "</tr>\n",
        "<tr>\n",
        "<td style=\"width: 79px;\">\n",
        "<p><span style=\"font-weight: 400;\">1</span></p>\n",
        "</td>\n",
        "<td style=\"width: 156px;\">\n",
        "<p><span style=\"font-weight: 400;\">80,10</span></p>\n",
        "</td>\n",
        "<td style=\"width: 197px;\">\n",
        "<p><span style=\"font-weight: 400;\">20,16</span></p>\n",
        "</td>\n",
        "</tr>\n",
        "<tr>\n",
        "<td style=\"width: 79px;\">\n",
        "<p><span style=\"font-weight: 400;\">2</span></p>\n",
        "</td>\n",
        "<td style=\"width: 156px;\">\n",
        "<p><span style=\"font-weight: 400;\">80,30</span></p>\n",
        "</td>\n",
        "<td style=\"width: 197px;\">\n",
        "<p><span style=\"font-weight: 400;\">20,24</span></p>\n",
        "</td>\n",
        "</tr>\n",
        "<tr>\n",
        "<td style=\"width: 79px;\">\n",
        "<p><span style=\"font-weight: 400;\">3</span></p>\n",
        "</td>\n",
        "<td style=\"width: 156px;\">\n",
        "<p><span style=\"font-weight: 400;\">79,90</span></p>\n",
        "</td>\n",
        "<td style=\"width: 197px;\">\n",
        "<p><span style=\"font-weight: 400;\">20,40</span></p>\n",
        "</td>\n",
        "</tr>\n",
        "<tr>\n",
        "<td style=\"width: 79px;\">\n",
        "<p><span style=\"font-weight: 400;\">4</span></p>\n",
        "</td>\n",
        "<td style=\"width: 156px;\">\n",
        "<p><span style=\"font-weight: 400;\">80,20</span></p>\n",
        "</td>\n",
        "<td style=\"width: 197px;\">\n",
        "<p><span style=\"font-weight: 400;\">19,80</span></p>\n",
        "</td>\n",
        "</tr>\n",
        "<tr>\n",
        "<td style=\"width: 79px;\">\n",
        "<p><span style=\"font-weight: 400;\">5</span></p>\n",
        "</td>\n",
        "<td style=\"width: 156px;\">\n",
        "<p><span style=\"font-weight: 400;\">79,90</span></p>\n",
        "</td>\n",
        "<td style=\"width: 197px;\">\n",
        "<p><span style=\"font-weight: 400;\">19,60</span></p>\n",
        "</td>\n",
        "</tr>\n",
        "</tbody>\n",
        "</table>"
      ]
    },
    {
      "cell_type": "code",
      "metadata": {
        "id": "mZAdXR9p1S_l",
        "colab_type": "code",
        "colab": {}
      },
      "source": [
        "import numpy as np"
      ],
      "execution_count": 1,
      "outputs": []
    },
    {
      "cell_type": "code",
      "metadata": {
        "id": "4ldmZJrfB0-b",
        "colab_type": "code",
        "colab": {}
      },
      "source": [
        "# Nossos dados <- Rode este para o trabalho\n",
        "a = ([[80.10],[80.30],[79.90],[80.20],[79.90]])\n",
        "b = ([[20.16],[20.24],[20.40],[19.80],[19.60]])"
      ],
      "execution_count": null,
      "outputs": []
    },
    {
      "cell_type": "code",
      "metadata": {
        "id": "4adyA3Z0KJcE",
        "colab_type": "code",
        "colab": {}
      },
      "source": [
        "# Exemplo <- Rode este para comparar com o exercício fornecido pelo José\n",
        "#a = ([[40.05],[40.15],[39.95],[40.10],[39.90]])\n",
        "#b = ([[10.08],[10.12],[10.20],[9.90],[9.80]])"
      ],
      "execution_count": null,
      "outputs": []
    },
    {
      "cell_type": "markdown",
      "metadata": {
        "id": "xHBN2WsUOM-e",
        "colab_type": "text"
      },
      "source": [
        "# Média\n",
        "Medida é uma medida de tendência central, que busca indicar o valor no centro da distribuição de frequências, onde há maior ocorência dos eventos.\n",
        "\n",
        "# <P>$\\bar{a} = \\frac{1}{n} \\sum_{i=1}^n $\n",
        "# <p> $\\bar{b} = \\frac{1}{n} \\sum_{i=1}^n $"
      ]
    },
    {
      "cell_type": "code",
      "metadata": {
        "id": "STzqMI1DM3C0",
        "colab_type": "code",
        "colab": {
          "base_uri": "https://localhost:8080/",
          "height": 52
        },
        "outputId": "3d9a0e7f-af41-49e7-adc6-c274bce7fbfd"
      },
      "source": [
        "# media ('a)\n",
        "ma = np.mean(a)\n",
        "mb = np.mean(b)\n",
        "print('Média de a: ',ma)\n",
        "print('Média de b: ',mb)"
      ],
      "execution_count": null,
      "outputs": [
        {
          "output_type": "stream",
          "text": [
            "Média de a:  80.08\n",
            "Média de b:  20.04\n"
          ],
          "name": "stdout"
        }
      ]
    },
    {
      "cell_type": "code",
      "metadata": {
        "id": "HPiGHN4VCSja",
        "colab_type": "code",
        "colab": {
          "base_uri": "https://localhost:8080/",
          "height": 104
        },
        "outputId": "3bdae5de-f0f3-4c80-b507-136aa1985e8d"
      },
      "source": [
        "# Distancia entre ai e o valor da média ('a)\n",
        "# ai - 'a\n",
        "a - np.mean(a)"
      ],
      "execution_count": null,
      "outputs": [
        {
          "output_type": "execute_result",
          "data": {
            "text/plain": [
              "array([[ 0.02],\n",
              "       [ 0.22],\n",
              "       [-0.18],\n",
              "       [ 0.12],\n",
              "       [-0.18]])"
            ]
          },
          "metadata": {
            "tags": []
          },
          "execution_count": 4
        }
      ]
    },
    {
      "cell_type": "code",
      "metadata": {
        "id": "SAwyzNytcM72",
        "colab_type": "code",
        "colab": {
          "base_uri": "https://localhost:8080/",
          "height": 35
        },
        "outputId": "ccff0128-b310-446e-be9c-01ce286ea667"
      },
      "source": [
        "sum(a-ma)"
      ],
      "execution_count": null,
      "outputs": [
        {
          "output_type": "execute_result",
          "data": {
            "text/plain": [
              "array([1.42108547e-14])"
            ]
          },
          "metadata": {
            "tags": []
          },
          "execution_count": 7
        }
      ]
    },
    {
      "cell_type": "code",
      "metadata": {
        "id": "dB8vRaVPCsTX",
        "colab_type": "code",
        "colab": {
          "base_uri": "https://localhost:8080/",
          "height": 105
        },
        "outputId": "f6492ce1-2a06-478c-a251-1b4940d40b51"
      },
      "source": [
        "# bi - 'b\n",
        "b - np.mean(b)"
      ],
      "execution_count": null,
      "outputs": [
        {
          "output_type": "execute_result",
          "data": {
            "text/plain": [
              "array([[ 0.12],\n",
              "       [ 0.2 ],\n",
              "       [ 0.36],\n",
              "       [-0.24],\n",
              "       [-0.44]])"
            ]
          },
          "metadata": {
            "tags": []
          },
          "execution_count": 8
        }
      ]
    },
    {
      "cell_type": "code",
      "metadata": {
        "id": "eHaerCDFGcOP",
        "colab_type": "code",
        "colab": {
          "base_uri": "https://localhost:8080/",
          "height": 105
        },
        "outputId": "7d969e03-4334-4372-d9f3-a5744a79e840"
      },
      "source": [
        "# (ai - 'a)^2\n",
        "(a - np.mean(a))**2"
      ],
      "execution_count": null,
      "outputs": [
        {
          "output_type": "execute_result",
          "data": {
            "text/plain": [
              "array([[0.0004],\n",
              "       [0.0484],\n",
              "       [0.0324],\n",
              "       [0.0144],\n",
              "       [0.0324]])"
            ]
          },
          "metadata": {
            "tags": []
          },
          "execution_count": 92
        }
      ]
    },
    {
      "cell_type": "code",
      "metadata": {
        "id": "iigmOO8uIAU4",
        "colab_type": "code",
        "colab": {
          "base_uri": "https://localhost:8080/",
          "height": 105
        },
        "outputId": "557e8572-88c7-436e-a0a5-cd67c6c616f1"
      },
      "source": [
        "# (bi - 'b)^2\n",
        "(b - np.mean(b))**2"
      ],
      "execution_count": null,
      "outputs": [
        {
          "output_type": "execute_result",
          "data": {
            "text/plain": [
              "array([[0.0144],\n",
              "       [0.04  ],\n",
              "       [0.1296],\n",
              "       [0.0576],\n",
              "       [0.1936]])"
            ]
          },
          "metadata": {
            "tags": []
          },
          "execution_count": 9
        }
      ]
    },
    {
      "cell_type": "markdown",
      "metadata": {
        "id": "8bsJwIX8PzTp",
        "colab_type": "text"
      },
      "source": [
        "# Variância\n",
        "É uma medida de dispersão estatística, indicando \"o quão longe\" em geral os  valores se encontram-se da média. Representando a variabilidade do evento em torno da média, calculada pela média de $(a_i - \\bar a)$. O cálculo é efetuado para cada variável isoladamente, e os resultados indicam quanto maior  é, mais os valores estão distantes da média, ou maior a variabilidade dos dados, e quanto mais próximos da média, menor o valo e consequantimente menor a variabilidade.\n",
        "<p>\n",
        "Variância de a: $ \\;\\;\\sigma_a^2 = \\frac {1}{n-1} \\sum_{1=1}^n (a_i-\\bar{a})^2$"
      ]
    },
    {
      "cell_type": "code",
      "metadata": {
        "id": "-UOYyIDcORNE",
        "colab_type": "code",
        "colab": {
          "base_uri": "https://localhost:8080/",
          "height": 35
        },
        "outputId": "a67cbf2c-f97f-4dfa-9e24-b8d5d57ae2e9"
      },
      "source": [
        "# Variância de a\n",
        "va = np.sum((a - np.mean(a))**2)/(len(a)-1)\n",
        "print('Variância de a: ', va)"
      ],
      "execution_count": null,
      "outputs": [
        {
          "output_type": "stream",
          "text": [
            "Variância de a:  0.03199999999999878\n"
          ],
          "name": "stdout"
        }
      ]
    },
    {
      "cell_type": "markdown",
      "metadata": {
        "id": "fhYkgZD20vxj",
        "colab_type": "text"
      },
      "source": [
        "Variância de b:\n",
        "$\\;\\; \\sigma_b^2 = \\frac {1}{n-1} \\sum_{1=1}^n (a_i-\\bar{b})^2$"
      ]
    },
    {
      "cell_type": "code",
      "metadata": {
        "id": "UUohQBcuPcuN",
        "colab_type": "code",
        "colab": {
          "base_uri": "https://localhost:8080/",
          "height": 35
        },
        "outputId": "e8b26f00-389e-4840-c516-4336fd995d42"
      },
      "source": [
        "# Variância de b\n",
        "vb = np.sum((b - np.mean(b))**2)/(len(b)-1)\n",
        "print('Variância de b: ',vb)"
      ],
      "execution_count": null,
      "outputs": [
        {
          "output_type": "stream",
          "text": [
            "Variância de b:  0.1087999999999992\n"
          ],
          "name": "stdout"
        }
      ]
    },
    {
      "cell_type": "markdown",
      "metadata": {
        "id": "raLyyuPN0-pK",
        "colab_type": "text"
      },
      "source": [
        "# Covariância\n",
        "<p>A covariância é por vezes chamada de medida de dependência linear entre as duas variáveis aleatórias. Medindo qual o grau de dependência que possuem tem entre si em uma escala de valores de 0 a 1. Se o valor de covariância for igual a zero, indica que as variáveis são independentes, ou não possuem correlação alguma. Se o valor se aproxima de um, indica que as variáveis possuem padrões que acorrem simultaneamente, ou seja, possuel alto grau de correlação. Esta métrica é aplicada na formulação de hipóteses afirmativas ou negativas sobre o comportamebto de duas variáveis.\n",
        "<p>\n",
        "# $cov(x,y) = \\frac{\\sum (x_i - x) \\cdot (yi-y)}{n-1} $"
      ]
    },
    {
      "cell_type": "code",
      "metadata": {
        "id": "HZvI3bbOIHM-",
        "colab_type": "code",
        "colab": {
          "base_uri": "https://localhost:8080/",
          "height": 105
        },
        "outputId": "b8b09189-d002-4d77-b71c-9525021cefa7"
      },
      "source": [
        "# Covariância de (ai - 'a)*(bi - 'b)\n",
        "(a - np.mean(a))*(b - np.mean(b))"
      ],
      "execution_count": null,
      "outputs": [
        {
          "output_type": "execute_result",
          "data": {
            "text/plain": [
              "array([[ 0.0024],\n",
              "       [ 0.044 ],\n",
              "       [-0.0648],\n",
              "       [-0.0288],\n",
              "       [ 0.0792]])"
            ]
          },
          "metadata": {
            "tags": []
          },
          "execution_count": 12
        }
      ]
    },
    {
      "cell_type": "code",
      "metadata": {
        "id": "t2T1QfYVIsUN",
        "colab_type": "code",
        "colab": {
          "base_uri": "https://localhost:8080/",
          "height": 35
        },
        "outputId": "d466e959-6f74-45aa-c7ad-7c14529b2577"
      },
      "source": [
        "# Soma de Covariância ab\n",
        "cvab = sum((a - np.mean(a))*(b - np.mean(b)))/(len(a)-1)\n",
        "print('Covariância de ab:',cvab)\n",
        "ea = np.ndarray.item(cvab)"
      ],
      "execution_count": null,
      "outputs": [
        {
          "output_type": "stream",
          "text": [
            "Covariância de ab: [0.008]\n"
          ],
          "name": "stdout"
        }
      ]
    },
    {
      "cell_type": "code",
      "metadata": {
        "id": "KDRAA-eigKRW",
        "colab_type": "code",
        "colab": {
          "base_uri": "https://localhost:8080/",
          "height": 35
        },
        "outputId": "d2392b8b-96e6-4df4-a93c-b715a71ab2ba"
      },
      "source": [
        "# Soma de Covariância ba\n",
        "cvba = sum((a - np.mean(a))*(b - np.mean(b)))/(len(a)-1)\n",
        "print('Covariância de ab:',cvba)\n",
        "eb = np.ndarray.item(cvba)"
      ],
      "execution_count": null,
      "outputs": [
        {
          "output_type": "stream",
          "text": [
            "Covariância de ab: [0.008]\n"
          ],
          "name": "stdout"
        }
      ]
    },
    {
      "cell_type": "markdown",
      "metadata": {
        "id": "0AbTxGbEovgc",
        "colab_type": "text"
      },
      "source": [
        "1) Matriz de covariância de X\n",
        "Estimativa da MVC associada ao vetor aleatório :\n",
        "\n",
        "$\\widehat{\\sum_{\\widehat{x}}} = \\begin{bmatrix}\n",
        "\\widehat{\\sigma}_{a} & \\widehat{\\sigma}_{ab} \\\\ \n",
        "\\widehat{\\sigma}_{ba} & \\widehat{\\sigma}_{b} \n",
        "\\end {bmatrix}_{2x2 \\; m^2}$"
      ]
    },
    {
      "cell_type": "code",
      "metadata": {
        "id": "NXb6hrwyQT_1",
        "colab_type": "code",
        "colab": {
          "base_uri": "https://localhost:8080/",
          "height": 52
        },
        "outputId": "040d2ee0-c527-4203-a210-f240f28a4848"
      },
      "source": [
        "# Matriz de variância e covariância 2x2 (MVC) de X\n",
        "mvcx = np.array([[va,ea],[eb,vb]])\n",
        "print(mvcx)"
      ],
      "execution_count": null,
      "outputs": [
        {
          "output_type": "stream",
          "text": [
            "[[0.032  0.008 ]\n",
            " [0.008  0.1088]]\n"
          ],
          "name": "stdout"
        }
      ]
    },
    {
      "cell_type": "markdown",
      "metadata": {
        "id": "BrkGt2cz3oeq",
        "colab_type": "text"
      },
      "source": [
        "2) Verificação se $\\widehat{\\sum_{}}_\\widehat{x} = \\widehat{\\sum_{}}_\\widehat{x}^i$ é verdadeira través dos autovalores:\n",
        "<p>Os elementos da diagonal são números reais positivos, porque eles são as variâncias. Matriz positiva definida, porque os “p” autovalores são números reais positivos?\n",
        "<p>Det. $\\widehat{\\sum}_\\widehat{x}-\\widehat{\\lambda}_i I = 0$\n",
        "<p>\n",
        "MATRIZ DE AUTOVALORES\n",
        "<P>\n",
        "$\\widehat{\\sum_{\\widehat{x}}}  - \\widehat{\\lambda} \\cdot I = $\n",
        "$\\begin{bmatrix}\n",
        "\\widehat{\\sigma}_{a} & \\widehat{\\sigma}_{ab} \\\\ \n",
        "\\widehat{\\sigma}_{ba} & \\widehat{\\sigma}_{b} \n",
        "\\end {bmatrix}_{2x2 m^2}$ -\n",
        "$\\begin{bmatrix}\\widehat{\\lambda}_i & 0 \\\\ 0 & \\widehat{\\lambda}_i \\end{bmatrix}_{2x2}$\n",
        " = \n",
        "$\\begin{bmatrix}\n",
        "\\widehat{\\sigma}_{a} - \\widehat{\\lambda}_i  & \n",
        "\\widehat{\\sigma}_{ab} \\\\ \n",
        "\\widehat{\\sigma}_{ba} & \\widehat{\\sigma}_{b} - \\widehat{\\lambda}_i \n",
        "\\end {bmatrix}_{2x2 \\; m^2}$\n",
        "<p>\n",
        "Seguindo na forma algébrica:\n",
        "\n",
        "<p>\n",
        "$Det \\widehat{\\lambda}_i = [(\\widehat{\\sigma}_{a} - \\widehat{\\lambda}_i)\\cdot(\\widehat{\\sigma}_{b} - \\widehat{\\lambda}_i)]-[\\widehat{\\sigma}_{ab} \\cdot \\widehat{\\sigma}_{ba}]$<p>\n",
        "\n",
        "$\\widehat{\\lambda}_i^2+[(\\widehat{\\sigma}_{a} \\widehat{\\lambda}_i-\\widehat{\\sigma}_{a}\\widehat{\\lambda}_i)]  - [\\widehat{\\sigma}_{ab} \\cdot \\widehat{\\sigma}_{ba}] = 0$<p>"
      ]
    },
    {
      "cell_type": "code",
      "metadata": {
        "id": "_zrJwOXVrY26",
        "colab_type": "code",
        "colab": {
          "base_uri": "https://localhost:8080/",
          "height": 70
        },
        "outputId": "ac84162d-9e5c-4ac3-a2fe-f54cd12db610"
      },
      "source": [
        "from scipy.linalg import eig\n",
        "eigenValx,eigenVecx=eig(mvcx)\n",
        "print(\"DX = \",((-vb-va)**2)-4*(va*vb-(ea*eb)))\n",
        "print (\"X' = \",eigenValx[0])\n",
        "print (\"X''=\",eigenValx[1])"
      ],
      "execution_count": null,
      "outputs": [
        {
          "output_type": "stream",
          "text": [
            "DX =  0.006154240000000023\n",
            "X' =  (0.03117551784917888+0j)\n",
            "X''= (0.1096244821508191+0j)\n"
          ],
          "name": "stdout"
        }
      ]
    },
    {
      "cell_type": "markdown",
      "metadata": {
        "id": "guX7FKfUrFRN",
        "colab_type": "text"
      },
      "source": [
        "A matriz satisfaz as três condições básicas concomitantemente, portanto é uma MVC."
      ]
    },
    {
      "cell_type": "markdown",
      "metadata": {
        "id": "UNL5pQrEDe1n",
        "colab_type": "text"
      },
      "source": [
        "# 3) Sendo a $\\widehat{\\sum}_{\\widehat{x}}$  verdadeira, estime a MDP associada ao vetor aleatório $\\vec{x}$:\n",
        "<p>\n",
        "Onde: $\\vec{x} = \\begin{bmatrix}\n",
        "a\n",
        "\\\\ \n",
        "b\n",
        "\\end{bmatrix}_{2x1}$ a MDP associada ao vetor aleatório $\\widehat{D}_{\\vec{x}}=\n",
        "\\begin{bmatrix}\n",
        "\\sigma_a & 0 \\\\ \n",
        "0 & \\sigma_b\n",
        "\\end{bmatrix}_{2x2(Diagonal)}$\n",
        "<p>\n",
        "Então:\n",
        "<p>\n",
        "$\\widehat{D}_{\\vec{x}}=\n",
        "\\begin{bmatrix}\n",
        "\\sqrt{\\widehat{\\sigma}_a^2} & 0 \\\\ \n",
        "0 & \\sqrt{\\widehat{\\sigma}_b^2}\n",
        "\\end{bmatrix}_{2x2(Diagonal)}$\n",
        "$\\widehat{D}_{\\widehat{x}} = \\begin{bmatrix}\n",
        "\\sqrt{0,032} & 0 \\\\ \n",
        "0 & \\sqrt{0,1088} \n",
        "\\end {bmatrix}_{2x2} \\; m^2 $"
      ]
    },
    {
      "cell_type": "code",
      "metadata": {
        "id": "fJYHtF8_3O-R",
        "colab_type": "code",
        "colab": {
          "base_uri": "https://localhost:8080/",
          "height": 52
        },
        "outputId": "42d63d99-0591-4549-c0b0-39ebdf0f9e52"
      },
      "source": [
        "print(np.array([[va,ea],[eb,vb]]))"
      ],
      "execution_count": null,
      "outputs": [
        {
          "output_type": "stream",
          "text": [
            "[[0.032  0.008 ]\n",
            " [0.008  0.1088]]\n"
          ],
          "name": "stdout"
        }
      ]
    },
    {
      "cell_type": "code",
      "metadata": {
        "id": "hmtzYwz_R-zW",
        "colab_type": "code",
        "colab": {
          "base_uri": "https://localhost:8080/",
          "height": 52
        },
        "outputId": "56408063-2c09-4c4b-e962-d09c8545123d"
      },
      "source": [
        "# MDPX\n",
        "mdpx = np.array([[np.sqrt(va),0],[0,np.sqrt(vb)]])\n",
        "print(mdpx)"
      ],
      "execution_count": null,
      "outputs": [
        {
          "output_type": "stream",
          "text": [
            "[[0.17888544 0.        ]\n",
            " [0.         0.32984845]]\n"
          ],
          "name": "stdout"
        }
      ]
    },
    {
      "cell_type": "code",
      "metadata": {
        "id": "eIdPX5_roHLt",
        "colab_type": "code",
        "colab": {
          "base_uri": "https://localhost:8080/",
          "height": 35
        },
        "outputId": "0cf35a63-1732-4926-ae3e-fbcebef02dcd"
      },
      "source": [
        "detDx = np.linalg.det(mdpx)\n",
        "print(detDx)"
      ],
      "execution_count": null,
      "outputs": [
        {
          "output_type": "stream",
          "text": [
            "0.059005084526673156\n"
          ],
          "name": "stdout"
        }
      ]
    },
    {
      "cell_type": "markdown",
      "metadata": {
        "id": "JTayLp_W4mlH",
        "colab_type": "text"
      },
      "source": [
        "## 4) Sendo a $\\widehat{\\sum}_{\\widehat{x}}$   verdadeira, estime a MC associada ao vetor aleatório $\\vec{x}$ :\n",
        "\n",
        "<p>\n",
        "$\\vec{x} = \\begin{bmatrix}\n",
        "a\n",
        "\\\\ \n",
        "b\n",
        "\\end{bmatrix}_{2x1}$ a MC associada ao vetor aleatório $\\widehat{D}_{\\vec{x}}=\n",
        "\\begin{bmatrix}\n",
        "\\widehat{r}_{a,a} & \\widehat{r}_{a,b} \\\\ \n",
        "\\widehat{r}_{b,a} & \\widehat{r}_{b,b}\n",
        "\\end{bmatrix}_{2x2}$\n",
        "<p>\n",
        "Onde:<p> $\\widehat{R}_{\\vec{x}}=(\\widehat{D}_{\\vec{x}})^{-1}\\widehat{\\sum}_{\\vec{x}}(\\widehat{D}_{\\vec{x}})^{-1}$\n",
        "<p>\n",
        "Representação matricial\n",
        "<p>\n",
        "$\\widehat{R}_{\\vec{x}}=\n",
        "\\begin{bmatrix}\n",
        "1 & \\frac{\\widehat{\\sigma}_{a,b}}{(\\sigma_a)(\\sigma_b)} \\\\ \n",
        "\\frac{\\widehat{\\sigma}_{b,a}}{(\\widehat{\\sigma}_{b})(\\widehat{\\sigma}_{a})} & 1\n",
        "\\end{bmatrix}_{2x2 \\;\\; (métrica)}$\n",
        "<p>\n",
        "$\\widehat{R}_{\\vec{x}}=\n",
        "\\begin{bmatrix}\n",
        "1 & \\frac{0,032}{(0,17888544)(0,32984845)} \\\\ \n",
        "\\frac{0,032}{(0,32984845)(0,17888544)} & 1\n",
        "\\end{bmatrix}_{2x2 \\;\\; (métrica)}$"
      ]
    },
    {
      "cell_type": "code",
      "metadata": {
        "id": "FLw4TOogSrdB",
        "colab_type": "code",
        "colab": {
          "base_uri": "https://localhost:8080/",
          "height": 52
        },
        "outputId": "4a9c060a-d238-4b1d-e948-fbd0b891af08"
      },
      "source": [
        "# Matriz de covariância de x\n",
        "mcx = np.array([[1,ea/(np.sqrt(va)*np.sqrt(vb))],[eb/(np.sqrt(va)*np.sqrt(vb)),1]])\n",
        "print(mcx,\"m2\")"
      ],
      "execution_count": null,
      "outputs": [
        {
          "output_type": "stream",
          "text": [
            "[[1.         0.13558154]\n",
            " [0.13558154 1.        ]] m2\n"
          ],
          "name": "stdout"
        }
      ]
    },
    {
      "cell_type": "code",
      "metadata": {
        "id": "aQR4-_COVa-L",
        "colab_type": "code",
        "colab": {
          "base_uri": "https://localhost:8080/",
          "height": 35
        },
        "outputId": "09eee272-8e26-4d76-8ff7-da7c735a5a99"
      },
      "source": [
        "detRx = np.linalg.det(mcx)\n",
        "print('determinande de X:',detRx)"
      ],
      "execution_count": null,
      "outputs": [
        {
          "output_type": "stream",
          "text": [
            "determinande de X: 0.9816176470588257\n"
          ],
          "name": "stdout"
        }
      ]
    },
    {
      "cell_type": "markdown",
      "metadata": {
        "id": "Ko0hRyhG-_ry",
        "colab_type": "text"
      },
      "source": [
        "# 2ª Questão\n",
        "<p>\n",
        "Sendo o vetor aleatório $\\vec{y}= \\begin{bmatrix}P\\\\ S \\end{bmatrix}_{2x1}$  em que “P” é o perímetro e “S” a área do lote\n",
        "\n",
        "## 1) Estimativa da MVC associada ao vetor aleatório $\\vec{y}$ :\n",
        "<p>\n",
        " 1ª parte: Modelo Matemático <p>\n",
        "$\\vec{y}= \\begin{bmatrix}P\\\\ S \\end{bmatrix}_{2x1}$; $\\vec{x}= \\begin{bmatrix}P\\\\ S \\end{bmatrix}_{2x1}$\n",
        "<p> Onde: <p>\n",
        "$P = f1(a,b) = 2a + 2b = 2(a+b)$<p>\n",
        "$S = 2(a,b) = a \\cdot b $<p>\n",
        "\n",
        "2ª parte: MVC associada ao vetor aleatório $\\vec{x}$:\n",
        "\n",
        "$\\vec{x}= \\begin{bmatrix}a\\\\ b \\end{bmatrix}_{2x1}$\n",
        "$\\widehat{\\sum}_{\\widehat{x}} = \\begin{bmatrix}\n",
        "\\widehat{\\sigma}_{a}^2 & \\widehat{\\sigma}_{ab}^2 \\\\ \n",
        "\\widehat{\\sigma}_{ba}^2 & \\widehat{\\sigma}_{b}^2 \n",
        "\\end {bmatrix}_{2x2 \\; m^2}$"
      ]
    },
    {
      "cell_type": "code",
      "metadata": {
        "id": "HGyIwGWs_jk3",
        "colab_type": "code",
        "colab": {
          "base_uri": "https://localhost:8080/",
          "height": 52
        },
        "outputId": "c96d0853-3a46-402b-82fc-93988b388142"
      },
      "source": [
        "print(np.array([[va,ea],[eb,vb]]))"
      ],
      "execution_count": null,
      "outputs": [
        {
          "output_type": "stream",
          "text": [
            "[[0.032  0.008 ]\n",
            " [0.008  0.1088]]\n"
          ],
          "name": "stdout"
        }
      ]
    },
    {
      "cell_type": "markdown",
      "metadata": {
        "id": "nSuoibK1Du_q",
        "colab_type": "text"
      },
      "source": [
        "3ª parte: Lei da propagação das covariâncias<p>\n",
        "$\\widehat{\\sum}_{\\widehat{x}}$ as covariâncias se propagam em $\\widehat{\\sum}_{\\widehat{y}}$<p>\n",
        "$\\widehat{\\sum}_{\\widehat{x}} = D \\widehat{\\sum}_{\\widehat{x}} D^T$<p>\n",
        "\n",
        "$\\widehat{\\sum}_{\\vec{y}} = \\begin{bmatrix}\n",
        "\\widehat{\\sigma}_{P}^2 & \\widehat{\\sigma}_{P,S}^2 \\\\ \n",
        "\\widehat{\\sigma}_{S,P}^2 & \\widehat{\\sigma}_{S}^2 \n",
        "\\end {bmatrix}_{2x2 \\; m^2}$\n",
        "$ D = \n",
        "\\begin{bmatrix}\n",
        "\\frac{\\partial \\vec{y}_i}{\\partial \\vec{x}}\n",
        "\\end{bmatrix}_{nxp}\n",
        "$<p>\n",
        "$\n",
        "D = \\begin{bmatrix}\n",
        "\\frac{\\partial P}{\\partial a} & \\frac{\\partial P}{\\partial b} \\\\ \n",
        " \\frac{\\partial S}{\\partial a}& \\frac{\\partial S}{\\partial b} \n",
        "\\end{bmatrix}_{2x2 ;\\ métrica}$<p>\n",
        "$\\frac{\\partial P}{\\partial a} = \\frac{\\partial (2a+2b)}{\\partial a} = \\frac{2 \\partial a}{\\partial a} +  \\frac{2 \\partial b}{\\partial a}  = 2 \\cdot 1 + 0 = 2$<p>\n",
        "$\\frac{\\partial P}{\\partial b} = \\frac{\\partial (2a+2b)}{\\partial b} = \\frac{2 \\partial a}{\\partial b} +  \\frac{2 \\partial b}{\\partial b}  = 0 + 2 \\cdot 1 = 2$<p>\n",
        "$\\frac{\\partial S}{\\partial a} = \\frac{\\partial (a \\cdot b)}{\\partial a} = 1 \\cdot b = b$<p>\n",
        "$\\frac{\\partial S}{\\partial b} = \\frac{\\partial (a \\cdot b)}{\\partial b} = 1 \\cdot a = a$\n",
        "<p>\n",
        "$ D = \\begin{bmatrix}\n",
        "2 & 2 \\\\ \n",
        " b & a \n",
        "\\end{bmatrix}_{2x2 ;\\ métrica} $\n"
      ]
    },
    {
      "cell_type": "markdown",
      "metadata": {
        "id": "hdpYOgCrYNBg",
        "colab_type": "text"
      },
      "source": [
        "$\\widehat{\\sum}_\\vec{y} = \n",
        "\\begin{bmatrix}\n",
        "2 & 2 \\\\ \n",
        "20,04 & 80,08\n",
        "\\end{bmatrix}\n",
        "\\begin{bmatrix}\n",
        "0,032 & 0,0,008 \\\\ \n",
        "0,008 & 0,1088\n",
        "\\end{bmatrix} \\times\n",
        "\\begin{bmatrix}\n",
        "2 & 20,04 \\\\ \n",
        "2 & 80,08\n",
        "\\end{bmatrix}$\n",
        "<p>\n",
        "$\\widehat{\\sum}_\\vec{y} = \n",
        "\\begin{bmatrix}\n",
        "0.079999 & 0.233599 \\\\ \n",
        "1.281919 & 8.8730239\n",
        "\\end{bmatrix} \\times\n",
        "\\begin{bmatrix}\n",
        "2 & 20,04 \\\\ \n",
        "2 & 80,08\n",
        "\\end{bmatrix}$\n",
        "<p>\n",
        "$\n",
        "\\widehat{\\sum}_\\vec{y} = \n",
        "\\begin{bmatrix}\n",
        "0.627199999 & 20.30988799 \\\\\n",
        "20.30988799 &736.24143871\n",
        "\\end{bmatrix}$"
      ]
    },
    {
      "cell_type": "code",
      "metadata": {
        "id": "gekI7qg8NwDv",
        "colab_type": "code",
        "colab": {
          "base_uri": "https://localhost:8080/",
          "height": 52
        },
        "outputId": "e838e805-53c6-423b-b087-7da726013389"
      },
      "source": [
        "D = (np.array([[2,2],[mb,ma]]))\n",
        "print(D)"
      ],
      "execution_count": null,
      "outputs": [
        {
          "output_type": "stream",
          "text": [
            "[[ 2.    2.  ]\n",
            " [20.04 80.08]]\n"
          ],
          "name": "stdout"
        }
      ]
    },
    {
      "cell_type": "code",
      "metadata": {
        "id": "FcFElw1juGA_",
        "colab_type": "code",
        "colab": {
          "base_uri": "https://localhost:8080/",
          "height": 52
        },
        "outputId": "ae3f422b-4912-4431-f416-fe9266e300db"
      },
      "source": [
        "print(D.dot(mvcx))"
      ],
      "execution_count": null,
      "outputs": [
        {
          "output_type": "stream",
          "text": [
            "[[0.08     0.2336  ]\n",
            " [1.28192  8.873024]]\n"
          ],
          "name": "stdout"
        }
      ]
    },
    {
      "cell_type": "code",
      "metadata": {
        "id": "W4dnrpHAVmHD",
        "colab_type": "code",
        "colab": {
          "base_uri": "https://localhost:8080/",
          "height": 87
        },
        "outputId": "b51d2ee1-ad39-48e7-afba-29e089526c65"
      },
      "source": [
        "print(D.dot(mvcx)[0][0])\n",
        "print(D.dot(mvcx)[0][1])\n",
        "print(D.dot(mvcx)[1][0])\n",
        "print(D.dot(mvcx)[1][1])"
      ],
      "execution_count": null,
      "outputs": [
        {
          "output_type": "stream",
          "text": [
            "0.07999999999999624\n",
            "0.2335999999999971\n",
            "1.2819199999999227\n",
            "8.873023999999923\n"
          ],
          "name": "stdout"
        }
      ]
    },
    {
      "cell_type": "code",
      "metadata": {
        "id": "Q7Z4-9jdW8-Q",
        "colab_type": "code",
        "colab": {
          "base_uri": "https://localhost:8080/",
          "height": 52
        },
        "outputId": "eb472208-8639-4c41-b6f2-3276f6d85421"
      },
      "source": [
        "Dt = D.transpose()\n",
        "Dt"
      ],
      "execution_count": null,
      "outputs": [
        {
          "output_type": "execute_result",
          "data": {
            "text/plain": [
              "array([[ 2.  , 20.04],\n",
              "       [ 2.  , 80.08]])"
            ]
          },
          "metadata": {
            "tags": []
          },
          "execution_count": 25
        }
      ]
    },
    {
      "cell_type": "code",
      "metadata": {
        "id": "AFMVyBWtqOY1",
        "colab_type": "code",
        "colab": {
          "base_uri": "https://localhost:8080/",
          "height": 52
        },
        "outputId": "43a95baf-e986-43d9-9ac8-12f9a2429214"
      },
      "source": [
        "mvcy = ((D.dot(mvcx)).dot(Dt))\n",
        "print(mvcy)"
      ],
      "execution_count": null,
      "outputs": [
        {
          "output_type": "stream",
          "text": [
            "[[6.27200000e-01 2.03098880e+01]\n",
            " [2.03098880e+01 7.36241439e+02]]\n"
          ],
          "name": "stdout"
        }
      ]
    },
    {
      "cell_type": "code",
      "metadata": {
        "id": "S2ibcRFTYnYJ",
        "colab_type": "code",
        "colab": {
          "base_uri": "https://localhost:8080/",
          "height": 87
        },
        "outputId": "4332bd0e-14cb-4438-88bb-4e19fe661855"
      },
      "source": [
        "print(mvcy[0][0])\n",
        "print(mvcy[0][1])\n",
        "print(mvcy[1][0])\n",
        "print(mvcy[1][1])"
      ],
      "execution_count": null,
      "outputs": [
        {
          "output_type": "stream",
          "text": [
            "0.6271999999999867\n",
            "20.30988799999969\n",
            "20.30988799999969\n",
            "736.2414387199923\n"
          ],
          "name": "stdout"
        }
      ]
    },
    {
      "cell_type": "markdown",
      "metadata": {
        "id": "yK2WpH5BY9Fl",
        "colab_type": "text"
      },
      "source": [
        "$\\widehat{\\sum}_{\\vec{y}} = \\begin{bmatrix}\n",
        "\\widehat{\\sigma}_{P}^2 & \\widehat{\\sigma}_{P,S}^3 \\\\ \n",
        "\\widehat{\\sigma}_{S,P}^3 & \\widehat{\\sigma}_{S}^2 \n",
        "\\end {bmatrix}_{2x2 \\; m^2}$\n",
        "\n",
        "<p>\n",
        "2) Verificação se a matriz $\\widehat{\\sum}_{\\vec{y}}$  é verdadeira:<p>\n",
        "\n",
        "1º: É uma matriz simétrica, pois $\\widehat{\\sum}_{\\vec{y}} = \\widehat{\\sum}_{\\vec{y}}^t$\n",
        "<p>\n",
        "2º:Os elementos da diagonal são números reais positivos, porque eles são as variâncias. \n",
        "<p>\n",
        "3º: Matriz positiva definida, porque os “p” autovalores são números reais positivos?<p>\n",
        "$\\widehat{\\sum}_{\\vec{y}}-\\widehat{\\lambda} \\cdot I = 0$\n",
        "<p>\n",
        "Seguindo na forma algébrica:\n",
        "<p>\n",
        "$Det \\widehat{\\lambda}_i = [(\\widehat{\\sigma}_{a} - \\widehat{\\lambda}_i)\\cdot(\\widehat{\\sigma}_{b} - \\widehat{\\lambda}_i)]-[\\widehat{\\sigma}_{ab} \\cdot \\widehat{\\sigma}_{ba}]$<p>\n",
        "\n",
        "$\\widehat{\\lambda}_i^2+[(\\widehat{\\sigma}_{a} \\widehat{\\lambda}_i-\\widehat{\\sigma}_{a}\\widehat{\\lambda}_i)]  - [\\widehat{\\sigma}_{ab} \\cdot \\widehat{\\sigma}_{ba}] = 0$<p>\n",
        "MATRIZ DE AUTOVALORES\n",
        "<P>\n",
        "$\\widehat{\\sum}_\\widehat{y}  - \\widehat{\\lambda} \\cdot I = $\n",
        "$\\begin{bmatrix}\n",
        "\\widehat{\\sigma}_{a} & \\widehat{\\sigma}_{ab} \\\\ \n",
        "\\widehat{\\sigma}_{ba} & \\widehat{\\sigma}_{b} \n",
        "\\end {bmatrix}_{2x2 m^2}$ -\n",
        "$\\begin{bmatrix}\\widehat{\\lambda}_i & 0 \\\\ 0 & \\widehat{\\lambda}_i \\end{bmatrix}_{2x2}$\n",
        " = \n",
        "$\\begin{bmatrix}\n",
        "\\widehat{\\sigma}_{a} - \\widehat{\\lambda}_i  & \n",
        "\\widehat{\\sigma}_{ab} \\\\ \n",
        "\\widehat{\\sigma}_{ba} & \\widehat{\\sigma}_{b} - \\widehat{\\lambda}_i \n",
        "\\end {bmatrix}_{2x2 \\; m^2}$\n",
        "<p>"
      ]
    },
    {
      "cell_type": "markdown",
      "metadata": {
        "id": "a6Q2_XDqiZvG",
        "colab_type": "text"
      },
      "source": [
        "$\\widehat{\\sum}_\\widehat{y}  - \\widehat{\\lambda} \\cdot I = $\n",
        "$\\begin{bmatrix}\n",
        "0.627199999 & 20.30988799 \\\\\n",
        "20.30988799 &736.24143871 \n",
        "\\end {bmatrix}_{2x2 m^2}$ -\n",
        "$\\begin{bmatrix}\\widehat{\\lambda}_i & 0 \\\\ 0 & \\widehat{\\lambda}_i \\end{bmatrix}_{2x2}$\n",
        " =\n",
        "$\\begin{bmatrix}\n",
        "0.62719999 - \\widehat{\\lambda}_i  & \n",
        "20.30988799 \\\\ \n",
        "20.30988799& 736.24143871  - \\widehat{\\lambda}_i \n",
        "\\end {bmatrix}_{2x2 \\; m^2}$\n",
        "<p>\n",
        "$Det \\widehat{\\lambda}_i = [(0.62719999 - \\widehat{\\lambda}_i)\\cdot(736.2414387  - \\widehat{\\lambda}_i)]-[ [20.30988799 \\cdot 20.30988799]$\n",
        "<p>\n",
        "$\\widehat{\\lambda}_i^2-461,7706226 \\widehat{\\lambda}_i  - 412,4915502 = 0 x \\mapsto \\Delta = b^2 - 4ac$\n",
        "\n",
        "<p>$\\Delta = -461,7706226^2 - 4 \\cdot (1)- 412,4915502$\n",
        "<p>$\\Delta = 213232 - 1649,966201$\n",
        "\n"
      ]
    },
    {
      "cell_type": "code",
      "metadata": {
        "id": "Kk8H_Da8cxYm",
        "colab_type": "code",
        "colab": {
          "base_uri": "https://localhost:8080/",
          "height": 52
        },
        "outputId": "e2cac5c4-0e44-448c-8849-cad6a9a6ae08"
      },
      "source": [
        "print(np.array([[va,ea],[eb,vb]]))"
      ],
      "execution_count": null,
      "outputs": [
        {
          "output_type": "stream",
          "text": [
            "[[0.032  0.008 ]\n",
            " [0.008  0.1088]]\n"
          ],
          "name": "stdout"
        }
      ]
    },
    {
      "cell_type": "code",
      "metadata": {
        "id": "wYvNFYY6bgr0",
        "colab_type": "code",
        "colab": {
          "base_uri": "https://localhost:8080/",
          "height": 52
        },
        "outputId": "4a36df66-1419-42b1-ae94-f48daf2d44b7"
      },
      "source": [
        "eigenValy,eigenVecy=eig(mvcy)\n",
        "print (\"X' = \",eigenValy[0])\n",
        "print (\"X''=\",eigenValy[1])"
      ],
      "execution_count": null,
      "outputs": [
        {
          "output_type": "stream",
          "text": [
            "X' =  (0.06688241358131108+0j)\n",
            "X''= (736.8017563064111+0j)\n"
          ],
          "name": "stdout"
        }
      ]
    },
    {
      "cell_type": "markdown",
      "metadata": {
        "id": "oZdmtG6Zepox",
        "colab_type": "text"
      },
      "source": [
        "A matriz satisfaz as três condições básicas concomitantes, portanto é uma MVC"
      ]
    },
    {
      "cell_type": "markdown",
      "metadata": {
        "id": "MqrW9chgf1rA",
        "colab_type": "text"
      },
      "source": [
        "3) Sendo a $\\widehat{\\sum}_{\\vec{y}}$  verdadeira, estime a MDP associada ao vetor aleatório $\\widehat{y}$.<p>\n",
        "\n",
        "$\\vec{y}= \\begin{bmatrix}P\\\\ S \\end{bmatrix}_{2x1}$ a MDP associada ao vetor aleatório $\\widehat{D}_{\\widehat{y}} = \\begin{bmatrix}\n",
        "\\widehat{\\sigma}_{p} & 0 \\\\ \n",
        "0 & \\widehat{\\sigma}_{S} \n",
        "\\end {bmatrix}_{2x2 \\; m^2}$<p>\n",
        "\n",
        "$\\widehat{D}_{\\widehat{y}} = \\begin{bmatrix}\n",
        "\\sqrt{\\widehat{\\sigma}_{p}^2} & 0 \\\\ \n",
        "0 & \\sqrt{\\widehat{\\sigma}_{S}^2} \n",
        "\\end {bmatrix}_{2x2 \\; m^2}$\n"
      ]
    },
    {
      "cell_type": "markdown",
      "metadata": {
        "id": "vZNSLh7dwUJu",
        "colab_type": "text"
      },
      "source": [
        "$\\widehat{D}_{\\widehat{y}} = \\begin{bmatrix}\n",
        "\\sqrt{0,627199999} & 0 \\\\ \n",
        "0 & \\sqrt{736.24143871} \n",
        "\\end {bmatrix}_{2x2 \\; m^2}$ <p>\n",
        "\n",
        "$\\widehat{D}_{\\widehat{y}} = \\begin{bmatrix}\n",
        "0,79195959 & 0 \\\\ \n",
        "0 & 27,13376934\n",
        "\\end {bmatrix}_{2x2 \\; m^2}$"
      ]
    },
    {
      "cell_type": "code",
      "metadata": {
        "id": "3xXG3721ylSa",
        "colab_type": "code",
        "colab": {
          "base_uri": "https://localhost:8080/",
          "height": 52
        },
        "outputId": "9250e88e-7ee1-49c7-883f-c68b9785026e"
      },
      "source": [
        "print(mvcy)"
      ],
      "execution_count": null,
      "outputs": [
        {
          "output_type": "stream",
          "text": [
            "[[6.27200000e-01 2.03098880e+01]\n",
            " [2.03098880e+01 7.36241439e+02]]\n"
          ],
          "name": "stdout"
        }
      ]
    },
    {
      "cell_type": "code",
      "metadata": {
        "id": "O37mazUNil3h",
        "colab_type": "code",
        "colab": {
          "base_uri": "https://localhost:8080/",
          "height": 87
        },
        "outputId": "da84520f-0517-4fdf-d02f-07f5e79255ec"
      },
      "source": [
        "dy = np.array([[mvcy[0][0],mvcy[1][1]]])\n",
        "dys= np.array([[np.sqrt(mvcy[0][0]),0],[0,np.sqrt(mvcy[1][1])]])\n",
        "print(dy)\n",
        "print(\"====\"*6)\n",
        "print(dys)"
      ],
      "execution_count": null,
      "outputs": [
        {
          "output_type": "stream",
          "text": [
            "[[6.27200000e-01 7.36241439e+02]]\n",
            "========================\n",
            "[[ 0.79195959  0.        ]\n",
            " [ 0.         27.13376934]]\n"
          ],
          "name": "stdout"
        }
      ]
    },
    {
      "cell_type": "markdown",
      "metadata": {
        "id": "2GClqwtam3X2",
        "colab_type": "text"
      },
      "source": [
        "## 4) Sendo a $\\widehat{\\sum}_{\\widehat{y}}$   verdadeira, estime a MC associada ao vetor aleatório $\\vec{y}$ :\n",
        "\n",
        "<p>\n",
        "$\\vec{y} = \\begin{bmatrix}\n",
        "a\n",
        "\\\\ \n",
        "b\n",
        "\\end{bmatrix}_{2x1}$ a MC associada ao vetor aleatório $\\widehat{D}_{\\vec{y}}=\n",
        "\\begin{bmatrix}\n",
        "\\widehat{r}_{P,P} & \\widehat{r}_{P,S} \\\\ \n",
        "\\widehat{r}_{S,P} & \\widehat{r}_{S,S}\n",
        "\\end{bmatrix}_{2x2}$\n",
        "<p>\n",
        "Onde:<p> $\\widehat{R}_{\\vec{y}}=(\\widehat{D}_{\\vec{y}})^{-1}\\widehat{\\sum}_{\\vec{y}}(\\widehat{D}_{\\vec{y}})^{-1}$\n",
        "<p>\n",
        "Representação matricial\n",
        "<p>\n",
        "$\\widehat{R}_{\\vec{y}}=\n",
        "\\begin{bmatrix}\n",
        "1 & \\frac{\\widehat{\\sigma}_{P,S}}{(\\sigma_P)(\\sigma_S)} \\\\ \n",
        "\\frac{\\widehat{\\sigma}_{S,P}}{(\\widehat{\\sigma}_{S})(\\widehat{\\sigma}_{P})} & 1\n",
        "\\end{bmatrix}_{2x2 \\;\\; (métrica)}$\n"
      ]
    },
    {
      "cell_type": "markdown",
      "metadata": {
        "id": "beUQCp7A6kZ4",
        "colab_type": "text"
      },
      "source": [
        "$\\widehat{R}_{\\vec{y}}=\n",
        "\\begin{bmatrix}\n",
        "1 & \\frac{20,30988799}{(0,7837)(27,13376934)} \\\\ \n",
        "\\frac{20,30988799}{(27,13376934)(0,7837)} & 1\n",
        "\\end{bmatrix}_{2x2 \\;\\; (metrica)}$\n",
        "<p>\n",
        "$\\widehat{R}_{\\vec{y}}=\n",
        "\\begin{bmatrix}\n",
        "1 & 0,94513615 \\\\ \n",
        "0,94513615 & 1\n",
        "\\end{bmatrix}_{2x2 \\;\\; (metrica)}\n",
        "$"
      ]
    },
    {
      "cell_type": "code",
      "metadata": {
        "id": "RlNgZ1qBp2L-",
        "colab_type": "code",
        "colab": {}
      },
      "source": [
        "inv = np.linalg.inv(dys).dot(mvcy)"
      ],
      "execution_count": null,
      "outputs": []
    },
    {
      "cell_type": "code",
      "metadata": {
        "id": "9g53ysqi1UGq",
        "colab_type": "code",
        "colab": {
          "base_uri": "https://localhost:8080/",
          "height": 52
        },
        "outputId": "4e640e5e-5a87-468b-c73a-122f5f880458"
      },
      "source": [
        "inv.dot(np.linalg.inv(dys))"
      ],
      "execution_count": null,
      "outputs": [
        {
          "output_type": "execute_result",
          "data": {
            "text/plain": [
              "array([[1.        , 0.94513615],\n",
              "       [0.94513615, 1.        ]])"
            ]
          },
          "metadata": {
            "tags": []
          },
          "execution_count": 47
        }
      ]
    },
    {
      "cell_type": "markdown",
      "metadata": {
        "id": "yJJtmQXAxbrU",
        "colab_type": "text"
      },
      "source": [
        "##REFERÊNCIAS\n",
        "\n",
        "<p>\n",
        "[1] Ara, A. B. <b> Introdução à Estatística </b>. Rio de janrio-RJ: Editora Blucher, 2003. 9788521214915. Disponível em: https://integrada.minhabiblioteca.com.br/#/books/9788521214915/. Acesso em: 15 Sep 2020\n",
        "<p>[2] Klein, I., Matsuoka, M. T., de Souza, S. F., & Veronez, M. R. (2011). Ajustamento de observações: Uma interpretação geométrica para o método dos mínimos quadrados. Boletim de Ciencias Geodesicas, 17(2), 272–294. https://doi.org/10.1590/s1982-21702011000200007.\n",
        "]"
      ]
    },
    {
      "cell_type": "code",
      "metadata": {
        "id": "i9Yf5y4bxn0h",
        "colab_type": "code",
        "colab": {}
      },
      "source": [
        ""
      ],
      "execution_count": null,
      "outputs": []
    }
  ]
}