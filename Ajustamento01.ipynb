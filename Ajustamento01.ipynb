{
  "nbformat": 4,
  "nbformat_minor": 0,
  "metadata": {
    "colab": {
      "name": "Ajustamento01.ipynb",
      "provenance": [],
      "collapsed_sections": [],
      "include_colab_link": true
    },
    "kernelspec": {
      "name": "python3",
      "display_name": "Python 3"
    }
  },
  "cells": [
    {
      "cell_type": "markdown",
      "metadata": {
        "id": "view-in-github",
        "colab_type": "text"
      },
      "source": [
        "<a href=\"https://colab.research.google.com/github/sclaudiobr/algoritmos-py/blob/master/Ajustamento01.ipynb\" target=\"_parent\"><img src=\"https://colab.research.google.com/assets/colab-badge.svg\" alt=\"Open In Colab\"/></a>"
      ]
    },
    {
      "cell_type": "code",
      "metadata": {
        "id": "mZAdXR9p1S_l",
        "colab_type": "code",
        "colab": {}
      },
      "source": [
        "import numpy as np"
      ],
      "execution_count": 0,
      "outputs": []
    },
    {
      "cell_type": "markdown",
      "metadata": {
        "id": "krCd8NyTAF_f",
        "colab_type": "text"
      },
      "source": [
        "# Propagação de covariância\n",
        "\n",
        "## Juntamente com o seu grupo de estudo, foram levantados no Campus da UFSM um terreno de forma retangular, com estacas nos 4 cantos formando os vértices A,B,C e D, sobre o mesmo foram realizadas várias medidas apresentadas na tabela:\n",
        "\n",
        "<p>&nbsp;</p>\n",
        "<table style=\"width: 448px;\">\n",
        "<tbody>\n",
        "<tr>\n",
        "<td style=\"width: 79px;\">\n",
        "<p><strong>i</strong></p>\n",
        "</td>\n",
        "<td style=\"width: 156px;\">\n",
        "<p><span style=\"font-weight: 400;\">Valores </span><span style=\"font-weight: 400;\">a</span><span style=\"font-weight: 400;\">i</span><span style=\"font-weight: 400;\"> (m)</span></p>\n",
        "</td>\n",
        "<td style=\"width: 197px;\">\n",
        "<p><span style=\"font-weight: 400;\">Valores </span><span style=\"font-weight: 400;\">b</span><span style=\"font-weight: 400;\">i</span><span style=\"font-weight: 400;\"> (m)</span></p>\n",
        "</td>\n",
        "</tr>\n",
        "<tr>\n",
        "<td style=\"width: 79px;\">\n",
        "<p><span style=\"font-weight: 400;\">1</span></p>\n",
        "</td>\n",
        "<td style=\"width: 156px;\">\n",
        "<p><span style=\"font-weight: 400;\">80,10</span></p>\n",
        "</td>\n",
        "<td style=\"width: 197px;\">\n",
        "<p><span style=\"font-weight: 400;\">20,16</span></p>\n",
        "</td>\n",
        "</tr>\n",
        "<tr>\n",
        "<td style=\"width: 79px;\">\n",
        "<p><span style=\"font-weight: 400;\">2</span></p>\n",
        "</td>\n",
        "<td style=\"width: 156px;\">\n",
        "<p><span style=\"font-weight: 400;\">80,30</span></p>\n",
        "</td>\n",
        "<td style=\"width: 197px;\">\n",
        "<p><span style=\"font-weight: 400;\">20,24</span></p>\n",
        "</td>\n",
        "</tr>\n",
        "<tr>\n",
        "<td style=\"width: 79px;\">\n",
        "<p><span style=\"font-weight: 400;\">3</span></p>\n",
        "</td>\n",
        "<td style=\"width: 156px;\">\n",
        "<p><span style=\"font-weight: 400;\">79,90</span></p>\n",
        "</td>\n",
        "<td style=\"width: 197px;\">\n",
        "<p><span style=\"font-weight: 400;\">20,40</span></p>\n",
        "</td>\n",
        "</tr>\n",
        "<tr>\n",
        "<td style=\"width: 79px;\">\n",
        "<p><span style=\"font-weight: 400;\">4</span></p>\n",
        "</td>\n",
        "<td style=\"width: 156px;\">\n",
        "<p><span style=\"font-weight: 400;\">80,20</span></p>\n",
        "</td>\n",
        "<td style=\"width: 197px;\">\n",
        "<p><span style=\"font-weight: 400;\">19,80</span></p>\n",
        "</td>\n",
        "</tr>\n",
        "<tr>\n",
        "<td style=\"width: 79px;\">\n",
        "<p><span style=\"font-weight: 400;\">5</span></p>\n",
        "</td>\n",
        "<td style=\"width: 156px;\">\n",
        "<p><span style=\"font-weight: 400;\">79,90</span></p>\n",
        "</td>\n",
        "<td style=\"width: 197px;\">\n",
        "<p><span style=\"font-weight: 400;\">19,60</span></p>\n",
        "</td>\n",
        "</tr>\n",
        "</tbody>\n",
        "</table>"
      ]
    },
    {
      "cell_type": "code",
      "metadata": {
        "id": "4ldmZJrfB0-b",
        "colab_type": "code",
        "colab": {}
      },
      "source": [
        "# Nossos dados <- Rode este para o trabalho\n",
        "a = ([[80.10],[80.30],[79.90],[80.20],[79.90]])\n",
        "b = ([[20.16],[20.24],[20.40],[19.80],[19.60]])"
      ],
      "execution_count": 0,
      "outputs": []
    },
    {
      "cell_type": "code",
      "metadata": {
        "id": "4adyA3Z0KJcE",
        "colab_type": "code",
        "colab": {}
      },
      "source": [
        "# Exemplo <- Rode este para comparar com o exercício fornecido pelo José\n",
        "a = ([[40.05],[40.15],[39.95],[40.10],[39.90]])\n",
        "b = ([[10.08],[10.12],[10.20],[9.90],[9.80]])"
      ],
      "execution_count": 0,
      "outputs": []
    },
    {
      "cell_type": "markdown",
      "metadata": {
        "id": "xHBN2WsUOM-e",
        "colab_type": "text"
      },
      "source": [
        "# Média\n",
        "Medida de tendência central\n",
        "\n",
        "# <P>$\\bar{a} = \\frac{1}{n} \\sum_{i=1}^n $\n",
        "# <p> $\\bar{b} = \\frac{1}{n} \\sum_{i=1}^n $"
      ]
    },
    {
      "cell_type": "code",
      "metadata": {
        "id": "STzqMI1DM3C0",
        "colab_type": "code",
        "outputId": "d862bc72-5240-4b53-db4b-d1c75863020a",
        "colab": {
          "base_uri": "https://localhost:8080/",
          "height": 52
        }
      },
      "source": [
        "# media ('a)\n",
        "ma = np.mean(a)\n",
        "mb = np.mean(b)\n",
        "print('Média de a: ',ma)\n",
        "print('Média de b: ',mb)"
      ],
      "execution_count": 78,
      "outputs": [
        {
          "output_type": "stream",
          "text": [
            "Média de a:  80.08\n",
            "Média de b:  20.04\n"
          ],
          "name": "stdout"
        }
      ]
    },
    {
      "cell_type": "code",
      "metadata": {
        "id": "HPiGHN4VCSja",
        "colab_type": "code",
        "outputId": "5bdbf0ef-498f-425c-b31f-59cf16547389",
        "colab": {
          "base_uri": "https://localhost:8080/",
          "height": 105
        }
      },
      "source": [
        "# Distancia entre ai e o valor da média ('a)\n",
        "# ai - 'a\n",
        "a - np.mean(a)"
      ],
      "execution_count": 79,
      "outputs": [
        {
          "output_type": "execute_result",
          "data": {
            "text/plain": [
              "array([[ 0.02],\n",
              "       [ 0.22],\n",
              "       [-0.18],\n",
              "       [ 0.12],\n",
              "       [-0.18]])"
            ]
          },
          "metadata": {
            "tags": []
          },
          "execution_count": 79
        }
      ]
    },
    {
      "cell_type": "code",
      "metadata": {
        "id": "dB8vRaVPCsTX",
        "colab_type": "code",
        "outputId": "eb77bcec-75f3-4ec4-b68c-908187f3e719",
        "colab": {
          "base_uri": "https://localhost:8080/",
          "height": 105
        }
      },
      "source": [
        "# bi - 'b\n",
        "b - np.mean(b)"
      ],
      "execution_count": 80,
      "outputs": [
        {
          "output_type": "execute_result",
          "data": {
            "text/plain": [
              "array([[ 0.12],\n",
              "       [ 0.2 ],\n",
              "       [ 0.36],\n",
              "       [-0.24],\n",
              "       [-0.44]])"
            ]
          },
          "metadata": {
            "tags": []
          },
          "execution_count": 80
        }
      ]
    },
    {
      "cell_type": "code",
      "metadata": {
        "id": "eHaerCDFGcOP",
        "colab_type": "code",
        "outputId": "0152d9a2-7b5c-4503-b1cf-d511cc11222c",
        "colab": {
          "base_uri": "https://localhost:8080/",
          "height": 105
        }
      },
      "source": [
        "# (ai - 'a)^2\n",
        "(a - np.mean(a))**2"
      ],
      "execution_count": 81,
      "outputs": [
        {
          "output_type": "execute_result",
          "data": {
            "text/plain": [
              "array([[0.0004],\n",
              "       [0.0484],\n",
              "       [0.0324],\n",
              "       [0.0144],\n",
              "       [0.0324]])"
            ]
          },
          "metadata": {
            "tags": []
          },
          "execution_count": 81
        }
      ]
    },
    {
      "cell_type": "markdown",
      "metadata": {
        "id": "8bsJwIX8PzTp",
        "colab_type": "text"
      },
      "source": [
        "# Variância\n",
        "## É uma medida da sua dispersão estatística, indicando \"o quão longe\" em geral os seus valores se encontram do valor esperado.\n",
        "\n",
        "<p>\n",
        "Variância de a: $ \\;\\;\\sigma_a^2 = \\frac {1}{n-1} \\sum_{1=1}^n (a_i-\\bar{a})^2$"
      ]
    },
    {
      "cell_type": "code",
      "metadata": {
        "id": "-UOYyIDcORNE",
        "colab_type": "code",
        "outputId": "398bb10f-136a-459f-ecae-167424b5fdd8",
        "colab": {
          "base_uri": "https://localhost:8080/",
          "height": 35
        }
      },
      "source": [
        "# Variância de a\n",
        "va = np.sum((a - np.mean(a))**2)/(len(a)-1)\n",
        "print('Variância de a: ', va)"
      ],
      "execution_count": 82,
      "outputs": [
        {
          "output_type": "stream",
          "text": [
            "Variância de a:  0.03199999999999878\n"
          ],
          "name": "stdout"
        }
      ]
    },
    {
      "cell_type": "code",
      "metadata": {
        "id": "iigmOO8uIAU4",
        "colab_type": "code",
        "outputId": "9e8bfd53-c15c-4c78-fc0a-a990843c6c1d",
        "colab": {
          "base_uri": "https://localhost:8080/",
          "height": 105
        }
      },
      "source": [
        "# (bi - 'b)^2\n",
        "(b - np.mean(b))**2"
      ],
      "execution_count": 83,
      "outputs": [
        {
          "output_type": "execute_result",
          "data": {
            "text/plain": [
              "array([[0.0144],\n",
              "       [0.04  ],\n",
              "       [0.1296],\n",
              "       [0.0576],\n",
              "       [0.1936]])"
            ]
          },
          "metadata": {
            "tags": []
          },
          "execution_count": 83
        }
      ]
    },
    {
      "cell_type": "markdown",
      "metadata": {
        "id": "fhYkgZD20vxj",
        "colab_type": "text"
      },
      "source": [
        "Variância de b:\n",
        "$\\;\\; \\sigma_b^2 = \\frac {1}{n-1} \\sum_{1=1}^n (a_i-\\bar{b})^2$"
      ]
    },
    {
      "cell_type": "code",
      "metadata": {
        "id": "UUohQBcuPcuN",
        "colab_type": "code",
        "outputId": "c96397c7-0395-4463-b54e-f2611108167c",
        "colab": {
          "base_uri": "https://localhost:8080/",
          "height": 35
        }
      },
      "source": [
        "# Variância de b\n",
        "vb = np.sum((b - np.mean(b))**2)/(len(b)-1)\n",
        "print('Variância de b: ',vb)"
      ],
      "execution_count": 84,
      "outputs": [
        {
          "output_type": "stream",
          "text": [
            "Variância de b:  0.1087999999999992\n"
          ],
          "name": "stdout"
        }
      ]
    },
    {
      "cell_type": "markdown",
      "metadata": {
        "id": "raLyyuPN0-pK",
        "colab_type": "text"
      },
      "source": [
        "# Covariância\n",
        "<p>A covariância é por vezes chamada de medida de dependência linear entre as duas variáveis aleatórias. Medindo qual o grau de dependência que possuem tem entre si em uma escala de valores de 0 a 1. Se o valor de covariância for igual a zero, indica que as variáveis são independentes, ou não possuem correlação alguma. Se o valor se aproxima de um, indica que as variáveis possuem padrões que acorrem simultaneamente, ou seja, possuel alto grau de correlação. Esta métrica é aplicada na formulação de hipóteses afirmativas ou negativas sobre o comportamebto de duas variáveis.\n",
        "<p>\n",
        "# $cov(x,y) = \\frac{\\sum (x_i - x) \\cdot (yi-y)}{n-1} $"
      ]
    },
    {
      "cell_type": "code",
      "metadata": {
        "id": "HZvI3bbOIHM-",
        "colab_type": "code",
        "outputId": "2736d0e8-2f5c-4bf5-c3a0-fc177dde304c",
        "colab": {
          "base_uri": "https://localhost:8080/",
          "height": 105
        }
      },
      "source": [
        "# Covariância de (ai - 'a)*(bi - 'b)\n",
        "(a - np.mean(a))*(b - np.mean(b))"
      ],
      "execution_count": 85,
      "outputs": [
        {
          "output_type": "execute_result",
          "data": {
            "text/plain": [
              "array([[ 0.0024],\n",
              "       [ 0.044 ],\n",
              "       [-0.0648],\n",
              "       [-0.0288],\n",
              "       [ 0.0792]])"
            ]
          },
          "metadata": {
            "tags": []
          },
          "execution_count": 85
        }
      ]
    },
    {
      "cell_type": "code",
      "metadata": {
        "id": "t2T1QfYVIsUN",
        "colab_type": "code",
        "outputId": "87a5d2bb-8e7d-4835-ca4a-58ad8592cb0e",
        "colab": {
          "base_uri": "https://localhost:8080/",
          "height": 35
        }
      },
      "source": [
        "# Soma de Covariância ab\n",
        "cvab = sum((a - np.mean(a))*(b - np.mean(b)))/(len(a)-1)\n",
        "print('Covariância de ab:',cvab)\n",
        "ea = np.ndarray.item(cvab)"
      ],
      "execution_count": 86,
      "outputs": [
        {
          "output_type": "stream",
          "text": [
            "Covariância de ab: [0.008]\n"
          ],
          "name": "stdout"
        }
      ]
    },
    {
      "cell_type": "code",
      "metadata": {
        "id": "KDRAA-eigKRW",
        "colab_type": "code",
        "outputId": "2d55ce33-7bb9-4dfa-fa1c-e618c05e06cd",
        "colab": {
          "base_uri": "https://localhost:8080/",
          "height": 35
        }
      },
      "source": [
        "# Soma de Covariância ba\n",
        "cvba = sum((a - np.mean(a))*(b - np.mean(b)))/(len(a)-1)\n",
        "print('Covariância de ab:',cvba)\n",
        "eb = np.ndarray.item(cvba)"
      ],
      "execution_count": 87,
      "outputs": [
        {
          "output_type": "stream",
          "text": [
            "Covariância de ab: [0.008]\n"
          ],
          "name": "stdout"
        }
      ]
    },
    {
      "cell_type": "markdown",
      "metadata": {
        "id": "0AbTxGbEovgc",
        "colab_type": "text"
      },
      "source": [
        "1) Matriz de covariância de X\n",
        "Estimativa da MVC associada ao vetor aleatório :\n",
        "\n",
        "$\\widehat{\\sum_{\\widehat{x}}} = \\begin{bmatrix}\n",
        "\\widehat{\\sigma}_{a} & \\widehat{\\sigma}_{ab} \\\\ \n",
        "\\widehat{\\sigma}_{ba} & \\widehat{\\sigma}_{b} \n",
        "\\end {bmatrix}_{2x2 \\; m^2}$"
      ]
    },
    {
      "cell_type": "code",
      "metadata": {
        "id": "NXb6hrwyQT_1",
        "colab_type": "code",
        "outputId": "e533b303-4b34-4b77-8c19-8134acb9417e",
        "colab": {
          "base_uri": "https://localhost:8080/",
          "height": 52
        }
      },
      "source": [
        "# Matriz de variância e covariância 2x2 (MVC) de X\n",
        "mvcx = np.array([[va,ea],[eb,vb]])\n",
        "print(mvcx)"
      ],
      "execution_count": 88,
      "outputs": [
        {
          "output_type": "stream",
          "text": [
            "[[0.032  0.008 ]\n",
            " [0.008  0.1088]]\n"
          ],
          "name": "stdout"
        }
      ]
    },
    {
      "cell_type": "markdown",
      "metadata": {
        "id": "BrkGt2cz3oeq",
        "colab_type": "text"
      },
      "source": [
        "2) Verificação se $\\widehat{\\sum_{}}_\\widehat{x} = \\widehat{\\sum_{}}_\\widehat{x}^i$ é verdadeira través dos autovalores:\n",
        "<p>Os elementos da diagonal são números reais positivos, porque eles são as variâncias. Matriz positiva definida, porque os “p” autovalores são números reais positivos?\n",
        "<p>Det. $\\widehat{\\sum_{}}_\\widehat{x}-\\widehat{\\lambda}_i I = 0$\n",
        "<p>\n",
        "MATRIZ DE AUTOVALORES\n",
        "<P>\n",
        "$\\widehat{\\sum_{\\widehat{x}}}- \\widehat{\\lambda} \\cdot I = \\begin{bmatrix}\n",
        "\\widehat{\\sigma}_{a} & \\widehat{\\sigma}_{ab} \\\\ \n",
        "\\widehat{\\sigma}_{ba} & \\widehat{\\sigma}_{b} \n",
        "\\end {bmatrix}_{2x2 m^2}$ -\n",
        "$\\begin{bmatrix}\n",
        " \\widehat{\\lambda}_i & 0 \\\\ \n",
        " 0 & \\widehat{\\lambda}_i \\end{bmatrix}_{2x2}$\n",
        " = \n",
        "$\\begin{bmatrix}\n",
        "\\widehat{\\sigma}_{a} - \\widehat{\\lambda}_i  & \n",
        "\\widehat{\\sigma}_{ab} \\\\ \n",
        "\\widehat{\\sigma}_{ba} & \\widehat{\\sigma}_{b} - \\widehat{\\lambda}_i \n",
        "\\end {bmatrix}_{2x2 \\; m^2}$\n",
        "<p>\n",
        "Seguindo na forma algébrica:\n",
        "\n",
        "<p>\n",
        "$Det \\widehat{\\lambda}_i = [(\\widehat{\\sigma}_{a} - \\widehat{\\lambda}_i)\\cdot(\\widehat{\\sigma}_{b} - \\widehat{\\lambda}_i)]-[\\widehat{\\sigma}_{ab} \\cdot \\widehat{\\sigma}_{ba}]$<p>\n",
        "\n",
        "$\\widehat{\\lambda}_i^2+[(\\widehat{\\sigma}_{a} \\widehat{\\lambda}_i-\\widehat{\\sigma}_{a}\\widehat{\\lambda}_i)]  - [\\widehat{\\sigma}_{ab} \\cdot \\widehat{\\sigma}_{ba}] = 0$<p>"
      ]
    },
    {
      "cell_type": "code",
      "metadata": {
        "id": "_zrJwOXVrY26",
        "colab_type": "code",
        "outputId": "cf4239ed-78c7-4a1a-c448-077beb818017",
        "colab": {
          "base_uri": "https://localhost:8080/",
          "height": 70
        }
      },
      "source": [
        "from scipy.linalg import eig\n",
        "eigenValx,eigenVecx=eig(mvcx)\n",
        "print(\"DX = \",((-vb-va)**2)-4*(va*vb-(ea*eb)))\n",
        "print (\"X' = \",eigenValx[0])\n",
        "print (\"X''=\",eigenValx[1])"
      ],
      "execution_count": 89,
      "outputs": [
        {
          "output_type": "stream",
          "text": [
            "DX =  0.006154240000000023\n",
            "X' =  (0.03117551784917888+0j)\n",
            "X''= (0.1096244821508191+0j)\n"
          ],
          "name": "stdout"
        }
      ]
    },
    {
      "cell_type": "markdown",
      "metadata": {
        "id": "guX7FKfUrFRN",
        "colab_type": "text"
      },
      "source": [
        "A matriz satisfaz as três condições básicas concomitantemente, portanto é uma MVC."
      ]
    },
    {
      "cell_type": "markdown",
      "metadata": {
        "id": "UNL5pQrEDe1n",
        "colab_type": "text"
      },
      "source": [
        "# 3) Sendo a $\\widehat{\\sum}_{\\widehat{x}}$  verdadeira, estime a MDP associada ao vetor aleatório $\\vec{x}$:\n",
        "<p>\n",
        "Onde: $\\vec{x} = \\begin{bmatrix}\n",
        "a\n",
        "\\\\ \n",
        "b\n",
        "\\end{bmatrix}_{2x1}$ a MDP associada ao vetor aleatório $\\widehat{D}_{\\vec{x}}=\n",
        "\\begin{bmatrix}\n",
        "\\sigma_a & 0 \\\\ \n",
        "0 & \\sigma_b\n",
        "\\end{bmatrix}_{2x2(Diagonal)}$\n",
        "<p>\n",
        "Então:\n",
        "<p>\n",
        "$\\widehat{D}_{\\vec{x}}=\n",
        "\\begin{bmatrix}\n",
        "\\sqrt{\\widehat{\\sigma}_a^2} & 0 \\\\ \n",
        "0 & \\sqrt{\\widehat{\\sigma}_b^2}\n",
        "\\end{bmatrix}_{2x2(Diagonal)}$"
      ]
    },
    {
      "cell_type": "code",
      "metadata": {
        "id": "fJYHtF8_3O-R",
        "colab_type": "code",
        "outputId": "93bcc24e-4de3-4ef9-e309-dae5704f08a9",
        "colab": {
          "base_uri": "https://localhost:8080/",
          "height": 52
        }
      },
      "source": [
        "print(np.array([[va,ea],[eb,vb]]))"
      ],
      "execution_count": 90,
      "outputs": [
        {
          "output_type": "stream",
          "text": [
            "[[0.032  0.008 ]\n",
            " [0.008  0.1088]]\n"
          ],
          "name": "stdout"
        }
      ]
    },
    {
      "cell_type": "code",
      "metadata": {
        "id": "hmtzYwz_R-zW",
        "colab_type": "code",
        "outputId": "78531341-c911-461c-8200-73f8a431438f",
        "colab": {
          "base_uri": "https://localhost:8080/",
          "height": 52
        }
      },
      "source": [
        "# Matriz de pesos de X\n",
        "mdpx = np.array([[np.sqrt(va),0],[0,np.sqrt(vb)]])\n",
        "print(mdpx)"
      ],
      "execution_count": 91,
      "outputs": [
        {
          "output_type": "stream",
          "text": [
            "[[0.17888544 0.        ]\n",
            " [0.         0.32984845]]\n"
          ],
          "name": "stdout"
        }
      ]
    },
    {
      "cell_type": "code",
      "metadata": {
        "id": "eIdPX5_roHLt",
        "colab_type": "code",
        "outputId": "fc5a3586-fab5-4ab1-8243-e347fe513021",
        "colab": {
          "base_uri": "https://localhost:8080/",
          "height": 35
        }
      },
      "source": [
        "detDx = np.linalg.det(mdpx)\n",
        "print(detDx)"
      ],
      "execution_count": 92,
      "outputs": [
        {
          "output_type": "stream",
          "text": [
            "0.059005084526673156\n"
          ],
          "name": "stdout"
        }
      ]
    },
    {
      "cell_type": "markdown",
      "metadata": {
        "id": "JTayLp_W4mlH",
        "colab_type": "text"
      },
      "source": [
        "## 4) Sendo a $\\widehat{\\sum}_{\\widehat{x}}$   verdadeira, estime a MC associada ao vetor aleatório $\\vec{x}$ :\n",
        "\n",
        "<p>\n",
        "$\\vec{x} = \\begin{bmatrix}\n",
        "a\n",
        "\\\\ \n",
        "b\n",
        "\\end{bmatrix}_{2x1}$ a MC associada ao vetor aleatório $\\widehat{D}_{\\vec{x}}=\n",
        "\\begin{bmatrix}\n",
        "\\widehat{r}_{a,a} & \\widehat{r}_{a,b} \\\\ \n",
        "\\widehat{r}_{b,a} & \\widehat{r}_{b,b}\n",
        "\\end{bmatrix}_{2x2}$\n",
        "<p>\n",
        "Onde:<p> $\\widehat{R}_{\\vec{x}}=(\\widehat{D}_{\\vec{x}})^{-1}\\widehat{\\sum}_{\\vec{x}}(\\widehat{D}_{\\vec{x}})^{-1}$\n",
        "<p>\n",
        "Representação matricial\n",
        "<p>\n",
        "$\\widehat{R}_{\\vec{x}}=\n",
        "\\begin{bmatrix}\n",
        "1 & \\frac{\\widehat{\\sigma}_{a,b}}{(\\sigma_a)(\\sigma_b)} \\\\ \n",
        "\\frac{\\widehat{\\sigma}_{b,a}}{(\\widehat{\\sigma}_{b})(\\widehat{\\sigma}_{a})} & 1\n",
        "\\end{bmatrix}_{2x2 \\;\\; (métrica)}$"
      ]
    },
    {
      "cell_type": "code",
      "metadata": {
        "id": "FLw4TOogSrdB",
        "colab_type": "code",
        "outputId": "6dde8386-e1ba-4398-90c5-c0760ec22bd1",
        "colab": {
          "base_uri": "https://localhost:8080/",
          "height": 52
        }
      },
      "source": [
        "# Matriz de covariância de x\n",
        "mcx = np.array([[1,ea/(np.sqrt(va)*np.sqrt(vb))],[eb/(np.sqrt(va)*np.sqrt(vb)),1]])\n",
        "print(mcx,\"m2\")"
      ],
      "execution_count": 93,
      "outputs": [
        {
          "output_type": "stream",
          "text": [
            "[[1.         0.13558154]\n",
            " [0.13558154 1.        ]] m2\n"
          ],
          "name": "stdout"
        }
      ]
    },
    {
      "cell_type": "code",
      "metadata": {
        "id": "aQR4-_COVa-L",
        "colab_type": "code",
        "outputId": "3dabf9e6-ae86-4be9-97db-690b699315d5",
        "colab": {
          "base_uri": "https://localhost:8080/",
          "height": 35
        }
      },
      "source": [
        "detRx = np.linalg.det(mcx)\n",
        "print('determinande de X:',detRx)"
      ],
      "execution_count": 94,
      "outputs": [
        {
          "output_type": "stream",
          "text": [
            "determinande de X: 0.9816176470588257\n"
          ],
          "name": "stdout"
        }
      ]
    },
    {
      "cell_type": "markdown",
      "metadata": {
        "id": "Ko0hRyhG-_ry",
        "colab_type": "text"
      },
      "source": [
        "# 2ª Questão\n",
        "<p>\n",
        "Sendo o vetor aleatório $\\vec{y}= \\begin{bmatrix}P\\\\ S \\end{bmatrix}_{2x1}$  em que “P” é o perímetro e “S” a área do lote\n",
        "\n",
        "## 1) Estimativa da MVC associada ao vetor aleatório $\\vec{y}$ :\n",
        "<p>\n",
        " 1ª parte: Modelo Matemático <p>\n",
        "$\\vec{y}= \\begin{bmatrix}P\\\\ S \\end{bmatrix}_{2x1}$; $\\vec{x}= \\begin{bmatrix}P\\\\ S \\end{bmatrix}_{2x1}$\n",
        "<p> Onde: <p>\n",
        "$P = f1(a,b) = 2a + 2b = 2(a+b)$<p>\n",
        "$S = 2(a,b) = a \\cdot b $<p>\n",
        "\n",
        "2ª parte: MVC associada ao vetor aleatório $\\vec{x}$:\n",
        "\n",
        "$\\vec{x}= \\begin{bmatrix}a\\\\ b \\end{bmatrix}_{2x1}$\n",
        "$\\widehat{\\sum}_{\\widehat{x}} = \\begin{bmatrix}\n",
        "\\widehat{\\sigma}_{a}^2 & \\widehat{\\sigma}_{ab}^2 \\\\ \n",
        "\\widehat{\\sigma}_{ba}^2 & \\widehat{\\sigma}_{b}^2 \n",
        "\\end {bmatrix}_{2x2 \\; m^2}$"
      ]
    },
    {
      "cell_type": "code",
      "metadata": {
        "id": "HGyIwGWs_jk3",
        "colab_type": "code",
        "outputId": "d313cf97-7f8f-4514-e820-4aec646bc2de",
        "colab": {
          "base_uri": "https://localhost:8080/",
          "height": 52
        }
      },
      "source": [
        "print(np.array([[va,ea],[eb,vb]]))"
      ],
      "execution_count": 95,
      "outputs": [
        {
          "output_type": "stream",
          "text": [
            "[[0.032  0.008 ]\n",
            " [0.008  0.1088]]\n"
          ],
          "name": "stdout"
        }
      ]
    },
    {
      "cell_type": "markdown",
      "metadata": {
        "id": "nSuoibK1Du_q",
        "colab_type": "text"
      },
      "source": [
        "3ª parte: Lei da propagação das covariâncias<p>\n",
        "$\\widehat{\\sum}_{\\widehat{x}}$ as covariâncias se propagam em $\\widehat{\\sum}_{\\widehat{y}}$<p>\n",
        "$\\widehat{\\sum}_{\\widehat{x}} = D \\widehat{\\sum}_{\\widehat{x}} D^T$<p>\n",
        "\n",
        "$\\widehat{\\sum}_{\\vec{y}} = \\begin{bmatrix}\n",
        "\\widehat{\\sigma}_{P}^2 & \\widehat{\\sigma}_{P,S}^2 \\\\ \n",
        "\\widehat{\\sigma}_{S,P}^2 & \\widehat{\\sigma}_{S}^2 \n",
        "\\end {bmatrix}_{2x2 \\; m^2}$\n",
        "$ D = \n",
        "\\begin{bmatrix}\n",
        "\\frac{\\partial \\vec{y}_i}{\\partial \\vec{x}}\n",
        "\\end{bmatrix}_{nxp}\n",
        "$<p>\n",
        "$\n",
        "D = \\begin{bmatrix}\n",
        "\\frac{\\partial P}{\\partial a} & \\frac{\\partial P}{\\partial b} \\\\ \n",
        " \\frac{\\partial S}{\\partial a}& \\frac{\\partial S}{\\partial b} \n",
        "\\end{bmatrix}_{2x2 ;\\ métrica}$<p>\n",
        "$\\frac{\\partial P}{\\partial a} = \\frac{\\partial (2a+2b)}{\\partial a} = \\frac{2 \\partial a}{\\partial a} +  \\frac{2 \\partial b}{\\partial a}  = 2 \\cdot 1 + 0 = 2$<p>\n",
        "$\\frac{\\partial P}{\\partial b} = \\frac{\\partial (2a+2b)}{\\partial b} = \\frac{2 \\partial a}{\\partial b} +  \\frac{2 \\partial b}{\\partial b}  = 0 + 2 \\cdot 1 = 2$<p>\n",
        "$\\frac{\\partial S}{\\partial a} = \\frac{\\partial (a \\cdot b)}{\\partial a} = 1 \\cdot b = b$<p>\n",
        "$\\frac{\\partial S}{\\partial b} = \\frac{\\partial (a \\cdot b)}{\\partial b} = 1 \\cdot a = a$\n",
        "<p>\n",
        "$ D = \\begin{bmatrix}\n",
        "2 & 2 \\\\ \n",
        " b & a \n",
        "\\end{bmatrix}_{2x2 ;\\ métrica} $\n"
      ]
    },
    {
      "cell_type": "code",
      "metadata": {
        "id": "gekI7qg8NwDv",
        "colab_type": "code",
        "colab": {
          "base_uri": "https://localhost:8080/",
          "height": 52
        },
        "outputId": "7ac9de45-a346-4aed-8bbf-df698d5fa677"
      },
      "source": [
        "D = (np.array([[2,2],[mb,ma]]))\n",
        "print(D)"
      ],
      "execution_count": 96,
      "outputs": [
        {
          "output_type": "stream",
          "text": [
            "[[ 2.    2.  ]\n",
            " [20.04 80.08]]\n"
          ],
          "name": "stdout"
        }
      ]
    },
    {
      "cell_type": "code",
      "metadata": {
        "id": "W4dnrpHAVmHD",
        "colab_type": "code",
        "colab": {
          "base_uri": "https://localhost:8080/",
          "height": 52
        },
        "outputId": "3f5fbb12-281c-440b-b4cf-b8cd93197a41"
      },
      "source": [
        "print(D.dot(mvcx))"
      ],
      "execution_count": 97,
      "outputs": [
        {
          "output_type": "stream",
          "text": [
            "[[0.08     0.2336  ]\n",
            " [1.28192  8.873024]]\n"
          ],
          "name": "stdout"
        }
      ]
    },
    {
      "cell_type": "code",
      "metadata": {
        "id": "Q7Z4-9jdW8-Q",
        "colab_type": "code",
        "outputId": "762b936b-2e15-493f-dafa-26340c33777d",
        "colab": {
          "base_uri": "https://localhost:8080/",
          "height": 52
        }
      },
      "source": [
        "Dt = D.transpose()\n",
        "Dt"
      ],
      "execution_count": 98,
      "outputs": [
        {
          "output_type": "execute_result",
          "data": {
            "text/plain": [
              "array([[ 2.  , 20.04],\n",
              "       [ 2.  , 80.08]])"
            ]
          },
          "metadata": {
            "tags": []
          },
          "execution_count": 98
        }
      ]
    },
    {
      "cell_type": "code",
      "metadata": {
        "id": "AFMVyBWtqOY1",
        "colab_type": "code",
        "outputId": "ffcd6fb8-49c8-4b27-89e6-c4755a4e99da",
        "colab": {
          "base_uri": "https://localhost:8080/",
          "height": 52
        }
      },
      "source": [
        "mvc = ((D.dot(mvcx)).dot(Dt))\n",
        "print(mvc)"
      ],
      "execution_count": 99,
      "outputs": [
        {
          "output_type": "stream",
          "text": [
            "[[6.27200000e-01 2.03098880e+01]\n",
            " [2.03098880e+01 7.36241439e+02]]\n"
          ],
          "name": "stdout"
        }
      ]
    },
    {
      "cell_type": "markdown",
      "metadata": {
        "id": "yK2WpH5BY9Fl",
        "colab_type": "text"
      },
      "source": [
        "$\\widehat{\\sum}_{\\vec{y}} = \\begin{bmatrix}\n",
        "\\widehat{\\sigma}_{P}^2 & \\widehat{\\sigma}_{P,S}^3 \\\\ \n",
        "\\widehat{\\sigma}_{S,P}^3 & \\widehat{\\sigma}_{S}^2 \n",
        "\\end {bmatrix}_{2x2 \\; m^2}$\n",
        "\n",
        "<p>\n",
        "2) Verificação se a matriz $\\widehat{\\sum}_{\\vec{y}}$  é verdadeira:<p>\n",
        "\n",
        "1º: É uma matriz simétrica, pois $\\widehat{\\sum}_{\\vec{y}} = \\widehat{\\sum}_{\\vec{y}}^t$\n",
        "<p>\n",
        "2º:Os elementos da diagonal são números reais positivos, porque eles são as variâncias. \n",
        "<p>\n",
        "3º: Matriz positiva definida, porque os “p” autovalores são números reais positivos?<p>\n",
        "$\\widehat{\\sum}_{\\vec{y}}-\\widehat{\\lambda} \\cdot I = 0$\n",
        "<p>\n",
        "Seguindo na forma algébrica:\n",
        "<p>\n",
        "$Det \\widehat{\\lambda}_i = [(\\widehat{\\sigma}_{a} - \\widehat{\\lambda}_i)\\cdot(\\widehat{\\sigma}_{b} - \\widehat{\\lambda}_i)]-[\\widehat{\\sigma}_{ab} \\cdot \\widehat{\\sigma}_{ba}]$<p>\n",
        "\n",
        "$\\widehat{\\lambda}_i^2+[(\\widehat{\\sigma}_{a} \\widehat{\\lambda}_i-\\widehat{\\sigma}_{a}\\widehat{\\lambda}_i)]  - [\\widehat{\\sigma}_{ab} \\cdot \\widehat{\\sigma}_{ba}] = 0$<p>"
      ]
    },
    {
      "cell_type": "code",
      "metadata": {
        "id": "Kk8H_Da8cxYm",
        "colab_type": "code",
        "colab": {
          "base_uri": "https://localhost:8080/",
          "height": 52
        },
        "outputId": "3ce60847-f5d4-41d3-f998-efc3be21760b"
      },
      "source": [
        "print(np.array([[va,ea],[eb,vb]]))"
      ],
      "execution_count": 100,
      "outputs": [
        {
          "output_type": "stream",
          "text": [
            "[[0.032  0.008 ]\n",
            " [0.008  0.1088]]\n"
          ],
          "name": "stdout"
        }
      ]
    },
    {
      "cell_type": "code",
      "metadata": {
        "id": "wYvNFYY6bgr0",
        "colab_type": "code",
        "colab": {
          "base_uri": "https://localhost:8080/",
          "height": 52
        },
        "outputId": "ad1f1c76-2f42-49e0-bc07-dddf76105986"
      },
      "source": [
        "eigenValy,eigenVecy=eig(mvc)\n",
        "print (\"X' = \",eigenValy[0])\n",
        "print (\"X''=\",eigenValy[1])"
      ],
      "execution_count": 101,
      "outputs": [
        {
          "output_type": "stream",
          "text": [
            "X' =  (0.06688241358131108+0j)\n",
            "X''= (736.8017563064111+0j)\n"
          ],
          "name": "stdout"
        }
      ]
    },
    {
      "cell_type": "markdown",
      "metadata": {
        "id": "oZdmtG6Zepox",
        "colab_type": "text"
      },
      "source": [
        "A matriz satisfaz as três condições básicas concomitantes, portanto é uma MVC"
      ]
    },
    {
      "cell_type": "markdown",
      "metadata": {
        "id": "MqrW9chgf1rA",
        "colab_type": "text"
      },
      "source": [
        "Sendo a $\\widehat{\\sum}_{\\vec{y}}$  verdadeira, estime a MDP associada ao vetor aleatório $\\widehat{y}$.<p>\n",
        "\n",
        "$\\vec{y}= \\begin{bmatrix}P\\\\ S \\end{bmatrix}_{2x1}$ a MDP associada ao vetor aleatório $\\widehat{D}_{\\widehat{y}} = \\begin{bmatrix}\n",
        "\\widehat{\\sigma}_{p} & 0 \\\\ \n",
        "0 & \\widehat{\\sigma}_{S} \n",
        "\\end {bmatrix}_{2x2 \\; m^2}$<p>\n",
        "\n",
        "$\\widehat{D}_{\\widehat{y}} = \\begin{bmatrix}\n",
        "\\sqrt{\\widehat{\\sigma}_{p}^2} & 0 \\\\ \n",
        "0 & \\sqrt{\\widehat{\\sigma}_{S}^2} \n",
        "\\end {bmatrix}_{2x2 \\; m^2}$\n"
      ]
    },
    {
      "cell_type": "code",
      "metadata": {
        "id": "O37mazUNil3h",
        "colab_type": "code",
        "colab": {
          "base_uri": "https://localhost:8080/",
          "height": 87
        },
        "outputId": "008bccb5-10a0-4193-aa40-4719cfeb26fb"
      },
      "source": [
        "mdpy = np.array([[eigenValy[0] ,0],[0,eigenValy[1]]])\n",
        "print(mdpy)\n",
        "print(\"==\"*50)\n",
        "print(\"Diagonal: \", mdpy[0][0],\",\",mdpy[1][1])"
      ],
      "execution_count": 102,
      "outputs": [
        {
          "output_type": "stream",
          "text": [
            "[[6.68824136e-02+0.j 0.00000000e+00+0.j]\n",
            " [0.00000000e+00+0.j 7.36801756e+02+0.j]]\n",
            "====================================================================================================\n",
            "Diagonal:  (0.06688241358131108+0j) , (736.8017563064111+0j)\n"
          ],
          "name": "stdout"
        }
      ]
    },
    {
      "cell_type": "markdown",
      "metadata": {
        "id": "2GClqwtam3X2",
        "colab_type": "text"
      },
      "source": [
        "## 4) Sendo a $\\widehat{\\sum}_{\\widehat{y}}$   verdadeira, estime a MC associada ao vetor aleatório $\\vec{y}$ :\n",
        "\n",
        "<p>\n",
        "$\\vec{y} = \\begin{bmatrix}\n",
        "a\n",
        "\\\\ \n",
        "b\n",
        "\\end{bmatrix}_{2x1}$ a MC associada ao vetor aleatório $\\widehat{D}_{\\vec{y}}=\n",
        "\\begin{bmatrix}\n",
        "\\widehat{r}_{P,P} & \\widehat{r}_{P,S} \\\\ \n",
        "\\widehat{r}_{S,P} & \\widehat{r}_{S,S}\n",
        "\\end{bmatrix}_{2x2}$\n",
        "<p>\n",
        "Onde:<p> $\\widehat{R}_{\\vec{y}}=(\\widehat{D}_{\\vec{y}})^{-1}\\widehat{\\sum}_{\\vec{y}}(\\widehat{D}_{\\vec{y}})^{-1}$\n",
        "<p>\n",
        "Representação matricial\n",
        "<p>\n",
        "$\\widehat{R}_{\\vec{y}}=\n",
        "\\begin{bmatrix}\n",
        "1 & \\frac{\\widehat{\\sigma}_{P,S}}{(\\sigma_P)(\\sigma_S)} \\\\ \n",
        "\\frac{\\widehat{\\sigma}_{S,P}}{(\\widehat{\\sigma}_{S})(\\widehat{\\sigma}_{P})} & 1\n",
        "\\end{bmatrix}_{2x2 \\;\\; (métrica)}$\n"
      ]
    },
    {
      "cell_type": "code",
      "metadata": {
        "id": "RlNgZ1qBp2L-",
        "colab_type": "code",
        "colab": {}
      },
      "source": [
        ""
      ],
      "execution_count": 0,
      "outputs": []
    }
  ]
}